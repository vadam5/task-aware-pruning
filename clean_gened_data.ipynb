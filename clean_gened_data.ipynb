{
 "cells": [
  {
   "cell_type": "code",
   "execution_count": 10,
   "id": "64e0686d",
   "metadata": {},
   "outputs": [],
   "source": [
    "import pickle as pkl"
   ]
  },
  {
   "cell_type": "code",
   "execution_count": 24,
   "id": "9537e750",
   "metadata": {},
   "outputs": [],
   "source": [
    "data = pkl.load(open(\"../AlexPrize/automated-conversations/new_data_2.pkl\", \"rb\"))\n",
    "og_data = pkl.load(open(\"conv_dicts/human_filtered_paris_850.pkl\", \"rb\"))\n",
    "\n",
    "all_data = og_data + data"
   ]
  },
  {
   "cell_type": "code",
   "execution_count": 41,
   "id": "bf3fd5f0",
   "metadata": {},
   "outputs": [
    {
     "data": {
      "text/plain": [
       "5035"
      ]
     },
     "execution_count": 41,
     "metadata": {},
     "output_type": "execute_result"
    }
   ],
   "source": [
    "len(all_data)"
   ]
  },
  {
   "cell_type": "code",
   "execution_count": 42,
   "id": "04cde4b0",
   "metadata": {},
   "outputs": [],
   "source": [
    "has_pairs = []"
   ]
  },
  {
   "cell_type": "code",
   "execution_count": 43,
   "id": "5300f195",
   "metadata": {},
   "outputs": [],
   "source": [
    "for text in all_data:\n",
    "    if \"user:\" in text or \"User:\" in text:\n",
    "        if \"chatbot:\" in text or \"Chatbot\" in text:\n",
    "            has_pairs.append(text)"
   ]
  },
  {
   "cell_type": "code",
   "execution_count": 44,
   "id": "cb20e573",
   "metadata": {},
   "outputs": [
    {
     "data": {
      "text/plain": [
       "3543"
      ]
     },
     "execution_count": 44,
     "metadata": {},
     "output_type": "execute_result"
    }
   ],
   "source": [
    "len(has_pairs)"
   ]
  },
  {
   "cell_type": "code",
   "execution_count": 45,
   "id": "dd3f1b70",
   "metadata": {},
   "outputs": [],
   "source": [
    "deduped = set(has_pairs)"
   ]
  },
  {
   "cell_type": "code",
   "execution_count": 46,
   "id": "27fd8189",
   "metadata": {},
   "outputs": [
    {
     "data": {
      "text/plain": [
       "3366"
      ]
     },
     "execution_count": 46,
     "metadata": {},
     "output_type": "execute_result"
    }
   ],
   "source": [
    "len(deduped)"
   ]
  },
  {
   "cell_type": "code",
   "execution_count": 60,
   "id": "3930a4ab",
   "metadata": {},
   "outputs": [],
   "source": [
    "cleaned = []\n",
    "for pair in deduped:\n",
    "    pair = pair.replace(\"\\n\\n\", \"\\n\").replace(\"\\n\\n\\n\", \"\\n\")\n",
    "    pair = pair.replace(\"Chatbot:\", \"chatbot:\").replace(\"Chatbot:\\n\", \"chatbot: \").replace(\"chatbot:\\n\", \"chatbot: \")\n",
    "    pair = pair.replace(\"User:\", \"user:\").replace(\"User:\\n\", \"user: \").replace(\"user:\\n\", \"user: \")\n",
    "    \n",
    "    if \"Fidel Castro\" in pair:\n",
    "        continue\n",
    "    cleaned.append(pair)\n",
    "    "
   ]
  },
  {
   "cell_type": "code",
   "execution_count": 62,
   "id": "797757d1",
   "metadata": {},
   "outputs": [
    {
     "data": {
      "text/plain": [
       "3353"
      ]
     },
     "execution_count": 62,
     "metadata": {},
     "output_type": "execute_result"
    }
   ],
   "source": [
    "len(cleaned)"
   ]
  },
  {
   "cell_type": "code",
   "execution_count": 64,
   "id": "d58b651e",
   "metadata": {},
   "outputs": [],
   "source": [
    "pkl.dump(cleaned, open(\"cleaned_3353_pairs.pkl\", \"wb\"))"
   ]
  },
  {
   "cell_type": "code",
   "execution_count": null,
   "id": "0d3e8710",
   "metadata": {},
   "outputs": [],
   "source": []
  }
 ],
 "metadata": {
  "kernelspec": {
   "display_name": "Python 3 (ipykernel)",
   "language": "python",
   "name": "python3"
  },
  "language_info": {
   "codemirror_mode": {
    "name": "ipython",
    "version": 3
   },
   "file_extension": ".py",
   "mimetype": "text/x-python",
   "name": "python",
   "nbconvert_exporter": "python",
   "pygments_lexer": "ipython3",
   "version": "3.10.8"
  }
 },
 "nbformat": 4,
 "nbformat_minor": 5
}
