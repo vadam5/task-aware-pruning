{
 "cells": [
  {
   "cell_type": "code",
   "execution_count": 62,
   "id": "2a3de92f-6759-41b5-b06b-f832edaec3e4",
   "metadata": {},
   "outputs": [],
   "source": [
    "import torch\n",
    "import json\n",
    "import time\n",
    "import statistics\n",
    "import numpy as np\n",
    "import pickle as pkl\n",
    "\n",
    "from tqdm import tqdm\n",
    "\n",
    "\n",
    "from transformers import AutoTokenizer\n",
    "from transformers.models.blenderbot.configuration_blenderbot import BlenderbotConfig\n",
    "from pruning.pruned_blender_bot import PrunedBlenderbotForConditionalGeneration\n",
    "from node_attribution.utils import count_params\n",
    "from rouge_score import rouge_scorer"
   ]
  },
  {
   "cell_type": "code",
   "execution_count": 63,
   "id": "42d1fb51-4885-4939-a618-0f96f12b3935",
   "metadata": {},
   "outputs": [
    {
     "name": "stderr",
     "output_type": "stream",
     "text": [
      "Special tokens have been added in the vocabulary, make sure the associated word embeddings are fine-tuned or trained.\n",
      "Special tokens have been added in the vocabulary, make sure the associated word embeddings are fine-tuned or trained.\n"
     ]
    }
   ],
   "source": [
    "tokenizer = AutoTokenizer.from_pretrained(f\"facebook/blenderbot-3B\")"
   ]
  },
  {
   "cell_type": "code",
   "execution_count": 64,
   "id": "c0b85f06-12c1-4985-a0c2-548d323b06ce",
   "metadata": {},
   "outputs": [],
   "source": [
    "data = pkl.load(open(\"44_human_filtered_conv_pairs.pkl\", \"rb\"))\n",
    "cali_data = data[:22]\n",
    "val_data = data[22:]"
   ]
  },
  {
   "cell_type": "code",
   "execution_count": 65,
   "id": "74165a44-7e25-4040-a1a9-6ca5a986be88",
   "metadata": {},
   "outputs": [],
   "source": [
    "def score(model, tokenizer, sentence):\n",
    "    if sentence.startswith(\"chatbot\"):\n",
    "        input_seq, output_seq = sentence.split(\"user:\")\n",
    "        input_seq = input_seq.split(\"chatbot:\")[-1].strip()\n",
    "        output_seq = output_seq.strip()\n",
    "    else:\n",
    "        input_seq, output_seq = sentence.split(\"chatbot:\")\n",
    "        input_seq = input_seq.split(\"user:\")[-1].strip()\n",
    "        output_seq = output_seq.strip()\n",
    "        \n",
    "#     print(input_seq)\n",
    "#     print(\"-\" * 100)\n",
    "#     print(output_seq)\n",
    "#     print(\"-\" * 100)\n",
    "    \n",
    "    inputs = tokenizer(input_seq, return_tensors=\"pt\")\n",
    "    input_ids = inputs.input_ids\n",
    "\n",
    "    decoder_inputs = tokenizer(output_seq.strip(), return_tensors=\"pt\")\n",
    "    decoder_input_ids = decoder_inputs.input_ids\n",
    "    \n",
    "    repeat_input = input_ids.repeat(decoder_input_ids.size(-1)-2, 1)\n",
    "    repeat_decoder_input = decoder_input_ids.repeat(decoder_input_ids.size(-1)-2, 1)\n",
    "    \n",
    "    mask = torch.ones(decoder_input_ids.size(-1) - 1).diag(1)[:-2]\n",
    "    masked_input = repeat_decoder_input.masked_fill(mask == 1, tokenizer.pad_token_id)\n",
    "    \n",
    "    labels = repeat_decoder_input.masked_fill( masked_input != tokenizer.pad_token_id, -100)\n",
    "    \n",
    "    with torch.inference_mode():\n",
    "        loss = model(input_ids=repeat_input, decoder_input_ids=masked_input, labels=labels).loss\n",
    "        \n",
    "    return np.exp(loss.item())"
   ]
  },
  {
   "cell_type": "code",
   "execution_count": 66,
   "id": "8e003e74-29e5-4021-bfd3-f4512a7a4495",
   "metadata": {},
   "outputs": [],
   "source": [
    "def calc_p(data):\n",
    "    perplexity_sum = 0\n",
    "    for pair in tqdm(data):\n",
    "        perplexity = score(sentence=pair, model=pruned_model, tokenizer=tokenizer)\n",
    "        perplexity_sum += perplexity\n",
    "    \n",
    "    p = perplexity_sum / len(data)\n",
    "    \n",
    "    return p"
   ]
  },
  {
   "cell_type": "code",
   "execution_count": 67,
   "id": "5ed63a74-abb2-4968-aa2c-5a82686d476b",
   "metadata": {},
   "outputs": [],
   "source": [
    "weights_path = \"pruned_3B_blender_bot2.pt\"\n",
    "state_dict_shapes_path = \"pruned_3B_blender_bot2_state_dict_shapes.pkl\"\n",
    "\n",
    "blenderbot_config = BlenderbotConfig(\n",
    "    vocab_size=8008,\n",
    "    max_length=60,\n",
    "    max_position_embeddings=128,\n",
    "    model_type=\"blenderbot\",\n",
    "    encoder_layers=2,\n",
    "    encoder_ffn_dim=10240,\n",
    "    encoder_attention_heads=32,\n",
    "    decoder_layers=24,\n",
    "    decoder_ffn_dim=10240,\n",
    "    decoder_attention_heads=32,\n",
    "    encoder_layerdrop=0.0,\n",
    "    decoder_layerdrop=0.0,\n",
    "    layernorm_variant=\"prelayernorm\",\n",
    "    use_cache=True,\n",
    "    is_encoder_decoder=True,\n",
    "    activation_function=\"gelu\",\n",
    "    d_model=2560,\n",
    "    dropout=0.1,\n",
    "    attention_dropout=0.0,\n",
    "    activation_dropout=0.0,\n",
    "    init_std=0.02,\n",
    "    decoder_start_token_id=1,\n",
    "    scale_embedding=True,\n",
    "    pad_token_id=0,\n",
    "    bos_token_id=1,\n",
    "    eos_token_id=2,\n",
    "    encoder_no_repeat_ngram_size=3,\n",
    "    forced_eos_token_id=2,\n",
    "    num_beams=10,\n",
    "    length_penalty=0.65,\n",
    "    min_length=20,\n",
    "    static_position_embeddings=False,\n",
    "    add_bias_logits=False,\n",
    "    add_final_layer_norm=True,\n",
    "    classif_dropout=0.0,\n",
    "    classifier_dropout=0.0,\n",
    "    do_blenderbot_90_layernorm=True,\n",
    "    extra_layer_norm=False,\n",
    "    extra_pos_embeddings=0,\n",
    "    force_bos_token_to_be_generated=False,\n",
    "    gradient_checkpointing=False,\n",
    "    normalize_before=True,\n",
    "    normalize_embedding=False,\n",
    "    unk_token_id=3,\n",
    "    architectures=[\"BlenderbotForConditionalGeneration\"],\n",
    "    num_hidden_layers=2,\n",
    ")"
   ]
  },
  {
   "cell_type": "code",
   "execution_count": 89,
   "id": "2d70af46-70b3-4775-b40f-6edccfb70a15",
   "metadata": {},
   "outputs": [],
   "source": [
    "pruned_model = PrunedBlenderbotForConditionalGeneration(blenderbot_config, state_dict_shapes_path)"
   ]
  },
  {
   "cell_type": "code",
   "execution_count": 90,
   "id": "ed6bfc52-6743-48db-82d4-dc8de97a119a",
   "metadata": {},
   "outputs": [
    {
     "data": {
      "text/plain": [
       "<All keys matched successfully>"
      ]
     },
     "execution_count": 90,
     "metadata": {},
     "output_type": "execute_result"
    }
   ],
   "source": [
    "pruned_model.load_state_dict(torch.load(weights_path))"
   ]
  },
  {
   "cell_type": "code",
   "execution_count": 91,
   "id": "d4526c93-9061-4e02-9c92-9385086e4294",
   "metadata": {},
   "outputs": [
    {
     "name": "stdout",
     "output_type": "stream",
     "text": [
      "0.15003262063485656\n"
     ]
    }
   ],
   "source": [
    "pruned_percent = 1.0 - (count_params(pruned_model)[-1] / 2696268800)\n",
    "print(pruned_percent)"
   ]
  },
  {
   "cell_type": "code",
   "execution_count": 92,
   "id": "35f458a6-cc2e-40ab-b522-239a9379252c",
   "metadata": {
    "tags": []
   },
   "outputs": [],
   "source": [
    "# print(calc_p(cali_data))\n",
    "# print(calc_p(val_data))"
   ]
  },
  {
   "cell_type": "code",
   "execution_count": 93,
   "id": "0db0af9e-3a66-4d72-88eb-f7b638582f46",
   "metadata": {},
   "outputs": [],
   "source": [
    "num_trials = 20"
   ]
  },
  {
   "cell_type": "code",
   "execution_count": 94,
   "id": "a0446e0b-5008-4cf0-8e2d-23e6ab6ad16b",
   "metadata": {
    "tags": []
   },
   "outputs": [
    {
     "name": "stdout",
     "output_type": "stream",
     "text": [
      "inference time: 10.828724145889282\n",
      "inference time: 10.946922063827515\n",
      "inference time: 13.529675006866455\n",
      "inference time: 10.88916301727295\n",
      "inference time: 11.00428295135498\n",
      "inference time: 10.672850847244263\n",
      "inference time: 11.297038793563843\n",
      "inference time: 10.755046129226685\n",
      "inference time: 10.746734857559204\n",
      "inference time: 11.206049919128418\n",
      "inference time: 10.88215708732605\n",
      "inference time: 13.233487844467163\n",
      "inference time: 10.81781005859375\n",
      "inference time: 15.966655254364014\n",
      "inference time: 27.881234884262085\n",
      "inference time: 11.979538917541504\n",
      "inference time: 10.672956943511963\n",
      "inference time: 10.222210884094238\n",
      "inference time: 16.153496980667114\n",
      "inference time: 10.618239164352417\n",
      "[' That sounds like a good plan. I hope you find someone to help you out with that.']\n"
     ]
    }
   ],
   "source": [
    "line = \"I'm looking for someone to talk to. Life can be so lonely sometimes and it helps to have someone to vent to.\"\n",
    "inputs = tokenizer([line], return_tensors=\"pt\")\n",
    "pruned_times = []\n",
    "\n",
    "for i in range(num_trials):\n",
    "    start = time.time()\n",
    "    outputs = pruned_model.generate(**inputs)\n",
    "    end = time.time()\n",
    "    pruned_times.append(end - start)\n",
    "    print(f\"inference time: {end - start}\")\n",
    "    \n",
    "print(tokenizer.batch_decode(outputs, skip_special_tokens=True))"
   ]
  },
  {
   "cell_type": "code",
   "execution_count": 95,
   "id": "73f2b340-809f-488b-9f6c-e6fca8f0fdd4",
   "metadata": {},
   "outputs": [
    {
     "name": "stdout",
     "output_type": "stream",
     "text": [
      "12.515213787555695\n",
      "3.8983528676686006\n",
      "10.918042540550232\n"
     ]
    }
   ],
   "source": [
    "mean_pruned = np.mean(pruned_times)\n",
    "std_pruned = np.std(pruned_times)\n",
    "mode = statistics.median(pruned_times)\n",
    "print(mean_pruned)\n",
    "print(std_pruned)\n",
    "print(mode)"
   ]
  },
  {
   "cell_type": "code",
   "execution_count": null,
   "id": "303d7fb8-9b95-4577-b522-502a443e09a9",
   "metadata": {},
   "outputs": [],
   "source": []
  }
 ],
 "metadata": {
  "kernelspec": {
   "display_name": "tap",
   "language": "python",
   "name": "tap"
  },
  "language_info": {
   "codemirror_mode": {
    "name": "ipython",
    "version": 3
   },
   "file_extension": ".py",
   "mimetype": "text/x-python",
   "name": "python",
   "nbconvert_exporter": "python",
   "pygments_lexer": "ipython3",
   "version": "3.10.9"
  }
 },
 "nbformat": 4,
 "nbformat_minor": 5
}
