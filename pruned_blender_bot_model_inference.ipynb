{
 "cells": [
  {
   "cell_type": "code",
   "execution_count": 157,
   "id": "2a3de92f-6759-41b5-b06b-f832edaec3e4",
   "metadata": {},
   "outputs": [],
   "source": [
    "import torch\n",
    "import json\n",
    "import time\n",
    "import statistics\n",
    "import numpy as np\n",
    "import pickle as pkl\n",
    "\n",
    "from tqdm import tqdm\n",
    "\n",
    "\n",
    "from transformers import AutoTokenizer\n",
    "from transformers.models.blenderbot.configuration_blenderbot import BlenderbotConfig\n",
    "from pruning.pruned_blender_bot import PrunedBlenderbotForConditionalGeneration\n",
    "from node_attribution.utils import count_params\n",
    "from rouge_score import rouge_scorer"
   ]
  },
  {
   "cell_type": "code",
   "execution_count": 158,
   "id": "42d1fb51-4885-4939-a618-0f96f12b3935",
   "metadata": {},
   "outputs": [],
   "source": [
    "tokenizer = AutoTokenizer.from_pretrained(f\"facebook/blenderbot-400M-distill\")"
   ]
  },
  {
   "cell_type": "code",
   "execution_count": 159,
   "id": "c0b85f06-12c1-4985-a0c2-548d323b06ce",
   "metadata": {},
   "outputs": [],
   "source": [
    "data = pkl.load(open(\"44_human_filtered_conv_pairs.pkl\", \"rb\"))\n",
    "cali_data = data[:22]\n",
    "val_data = data[22:]"
   ]
  },
  {
   "cell_type": "code",
   "execution_count": 160,
   "id": "74165a44-7e25-4040-a1a9-6ca5a986be88",
   "metadata": {},
   "outputs": [],
   "source": [
    "def score(model, tokenizer, sentence):\n",
    "    if sentence.startswith(\"chatbot\"):\n",
    "        input_seq, output_seq = sentence.split(\"user:\")\n",
    "        input_seq = input_seq.split(\"chatbot:\")[-1].strip()\n",
    "        output_seq = output_seq.strip()\n",
    "    else:\n",
    "        input_seq, output_seq = sentence.split(\"chatbot:\")\n",
    "        input_seq = input_seq.split(\"user:\")[-1].strip()\n",
    "        output_seq = output_seq.strip()\n",
    "        \n",
    "#     print(input_seq)\n",
    "#     print(\"-\" * 100)\n",
    "#     print(output_seq)\n",
    "#     print(\"-\" * 100)\n",
    "    \n",
    "    inputs = tokenizer(input_seq, return_tensors=\"pt\")\n",
    "    input_ids = inputs.input_ids\n",
    "\n",
    "    decoder_inputs = tokenizer(output_seq.strip(), return_tensors=\"pt\")\n",
    "    decoder_input_ids = decoder_inputs.input_ids\n",
    "    \n",
    "    repeat_input = input_ids.repeat(decoder_input_ids.size(-1)-2, 1)\n",
    "    repeat_decoder_input = decoder_input_ids.repeat(decoder_input_ids.size(-1)-2, 1)\n",
    "    \n",
    "    mask = torch.ones(decoder_input_ids.size(-1) - 1).diag(1)[:-2]\n",
    "    masked_input = repeat_decoder_input.masked_fill(mask == 1, tokenizer.pad_token_id)\n",
    "    \n",
    "    labels = repeat_decoder_input.masked_fill( masked_input != tokenizer.pad_token_id, -100)\n",
    "    \n",
    "    with torch.inference_mode():\n",
    "        loss = model(input_ids=repeat_input, decoder_input_ids=masked_input, labels=labels).loss\n",
    "        \n",
    "    return np.exp(loss.item())"
   ]
  },
  {
   "cell_type": "code",
   "execution_count": 161,
   "id": "8e003e74-29e5-4021-bfd3-f4512a7a4495",
   "metadata": {},
   "outputs": [],
   "source": [
    "def calc_p(data):\n",
    "    perplexity_sum = 0\n",
    "    for pair in tqdm(data):\n",
    "        perplexity = score(sentence=pair, model=pruned_model, tokenizer=tokenizer)\n",
    "        perplexity_sum += perplexity\n",
    "    \n",
    "    p = perplexity_sum / len(data)\n",
    "    \n",
    "    return p"
   ]
  },
  {
   "cell_type": "code",
   "execution_count": 173,
   "id": "5ed63a74-abb2-4968-aa2c-5a82686d476b",
   "metadata": {},
   "outputs": [],
   "source": [
    "weights_path = \"pruned_400m_blender_bot2.pt\"\n",
    "state_dict_shapes_path = \"pruned_400m_blender_bot2_state_dict_shapes.pkl\"\n",
    "\n",
    "blenderbot_config = BlenderbotConfig(\n",
    "    vocab_size=8008,\n",
    "    max_position_embeddings=128,\n",
    "    encoder_layers=2,\n",
    "    encoder_ffn_dim=5120,\n",
    "    encoder_attention_heads=32,\n",
    "    decoder_layers=12,\n",
    "    decoder_ffn_dim=5120,\n",
    "    decoder_attention_heads=32,\n",
    "    encoder_layerdrop=0.0,\n",
    "    decoder_layerdrop=0.0,\n",
    "    use_cache=True,\n",
    "    is_encoder_decoder=True,\n",
    "    activation_function=\"gelu\",\n",
    "    d_model=1280,\n",
    "    dropout=0.1,\n",
    "    attention_dropout=0.0,\n",
    "    activation_dropout=0.0,\n",
    "    init_std=0.02,\n",
    "    decoder_start_token_id=1,\n",
    "    scale_embedding=False,\n",
    "    pad_token_id=0,\n",
    "    bos_token_id=1,\n",
    "    eos_token_id=2,\n",
    "    encoder_no_repeat_ngram_size=3,\n",
    "    forced_eos_token_id=2,\n",
    "    num_beams=10\n",
    ")"
   ]
  },
  {
   "cell_type": "code",
   "execution_count": 174,
   "id": "2d70af46-70b3-4775-b40f-6edccfb70a15",
   "metadata": {},
   "outputs": [],
   "source": [
    "pruned_model = PrunedBlenderbotForConditionalGeneration(blenderbot_config, state_dict_shapes_path)"
   ]
  },
  {
   "cell_type": "code",
   "execution_count": 175,
   "id": "ed6bfc52-6743-48db-82d4-dc8de97a119a",
   "metadata": {},
   "outputs": [
    {
     "data": {
      "text/plain": [
       "<All keys matched successfully>"
      ]
     },
     "execution_count": 175,
     "metadata": {},
     "output_type": "execute_result"
    }
   ],
   "source": [
    "pruned_model.load_state_dict(torch.load(weights_path))"
   ]
  },
  {
   "cell_type": "code",
   "execution_count": 169,
   "id": "d4526c93-9061-4e02-9c92-9385086e4294",
   "metadata": {},
   "outputs": [
    {
     "name": "stdout",
     "output_type": "stream",
     "text": [
      "0.0\n"
     ]
    }
   ],
   "source": [
    "pruned_percent = 1.0 - (count_params(pruned_model)[-1] / 364802560)\n",
    "print(pruned_percent)"
   ]
  },
  {
   "cell_type": "code",
   "execution_count": 170,
   "id": "35f458a6-cc2e-40ab-b522-239a9379252c",
   "metadata": {
    "tags": []
   },
   "outputs": [],
   "source": [
    "# print(calc_p(cali_data))\n",
    "# print(calc_p(val_data))"
   ]
  },
  {
   "cell_type": "code",
   "execution_count": 171,
   "id": "0db0af9e-3a66-4d72-88eb-f7b638582f46",
   "metadata": {},
   "outputs": [],
   "source": [
    "num_trials = 20"
   ]
  },
  {
   "cell_type": "code",
   "execution_count": 172,
   "id": "a0446e0b-5008-4cf0-8e2d-23e6ab6ad16b",
   "metadata": {
    "tags": []
   },
   "outputs": [
    {
     "name": "stdout",
     "output_type": "stream",
     "text": [
      "['']\n"
     ]
    }
   ],
   "source": [
    "line = \"I'm looking for someone to talk to. Life can be so lonely sometimes and it helps to have someone to vent to.\"\n",
    "inputs = tokenizer([line], return_tensors=\"pt\")\n",
    "pruned_times = []\n",
    "\n",
    "# for i in range(num_trials):\n",
    "# start = time.time()\n",
    "outputs = pruned_model.generate(**inputs)\n",
    "# end = time.time()\n",
    "# pruned_times.append(end - start)\n",
    "# print(f\"inference time: {end - start}\")\n",
    "    \n",
    "print(tokenizer.batch_decode(outputs, skip_special_tokens=True))"
   ]
  },
  {
   "cell_type": "code",
   "execution_count": 13,
   "id": "73f2b340-809f-488b-9f6c-e6fca8f0fdd4",
   "metadata": {},
   "outputs": [
    {
     "name": "stdout",
     "output_type": "stream",
     "text": [
      "43.58427990674973\n",
      "0.8181698710717864\n",
      "43.70455062389374\n"
     ]
    }
   ],
   "source": [
    "mean_pruned = np.mean(pruned_times)\n",
    "std_pruned = np.std(pruned_times)\n",
    "mode = statistics.median(pruned_times)\n",
    "print(mean_pruned)\n",
    "print(std_pruned)\n",
    "print(mode)"
   ]
  },
  {
   "cell_type": "code",
   "execution_count": 14,
   "id": "104a4c81-3a20-4efd-bd97-c79efc2e31ed",
   "metadata": {},
   "outputs": [],
   "source": [
    "# while True:\n",
    "#     line = input(\"You:\")\n",
    "#     inputs = tokenizer(line, return_tensors=\"pt\")\n",
    "#     outputs = pruned_model.generate(\n",
    "#         input_ids=inputs[\"input_ids\"], \n",
    "#         max_new_tokens=20, \n",
    "#         do_sample=True, \n",
    "#         top_k=50, \n",
    "#         top_p=0.95,\n",
    "#     )\n",
    "#     print(tokenizer.batch_decode(outputs, skip_special_tokens=True))"
   ]
  },
  {
   "cell_type": "code",
   "execution_count": 14,
   "id": "155b46d0-210c-4021-a9f8-02d332687cd0",
   "metadata": {},
   "outputs": [],
   "source": [
    "# full_line = \"Person: My favorite movie is the The Day After Tomorrow\\nSocialBot: Oh, interesting, I am not familiar with that movie! Can you tell me more about it?\"\n",
    "# prompt_line = \"Person: My favorite movie is The Day After Tomorrow\\nSocialBot: \"\n",
    "# completion = full_line.split(prompt_line)[-1]\n",
    "# inputs = tokenizer(prompt_line, return_tensors=\"pt\")\n",
    "\n",
    "# #for i in range(num_trials):\n",
    "# outputs = pruned_model.generate(\n",
    "#     input_ids=inputs[\"input_ids\"], \n",
    "#     max_new_tokens=25, \n",
    "#     do_sample=True, \n",
    "#     top_k=50, \n",
    "#     top_p=0.95,\n",
    "# )\n",
    "# out_seq = tokenizer.batch_decode(outputs, skip_special_tokens=True)\n",
    "# out_seq = out_seq[0].split(\"Person: My favorite movie is The Day After Tomorrow\\nSocialBot: \")[-1]\n",
    "# r_scorer = rouge_scorer.RougeScorer(['rouge1', 'rougeL'], use_stemmer=True)\n",
    "# rouge_scores = r_scorer.score(completion, out_seq)"
   ]
  },
  {
   "cell_type": "code",
   "execution_count": 15,
   "id": "f0a587c8-e2d2-4204-8daf-3068a718fa17",
   "metadata": {},
   "outputs": [],
   "source": [
    "# from transformers import AutoTokenizer, BloomForCausalLM"
   ]
  },
  {
   "cell_type": "code",
   "execution_count": 16,
   "id": "d4bb5cd7-6d04-4876-ac9f-5dda689bd22e",
   "metadata": {},
   "outputs": [],
   "source": [
    "# model = BloomForCausalLM.from_pretrained(\"bigscience/bloom-560m\")"
   ]
  },
  {
   "cell_type": "code",
   "execution_count": 17,
   "id": "78c663a4-c791-45e2-a9d1-53f79aaa3013",
   "metadata": {},
   "outputs": [],
   "source": [
    "# inputs = tokenizer(\"Person: My favorite movie is The Day After Tomorrow\\nSocialBot: \", return_tensors=\"pt\")\n",
    "# start = time.time()\n",
    "# outputs = model.generate(input_ids=inputs[\"input_ids\"], max_new_tokens=25, do_sample=True, top_k=50, top_p=0.95)\n",
    "# end = time.time()\n",
    "# print(tokenizer.batch_decode(outputs, skip_special_tokens=True))\n",
    "# print(f\"inference time: {end - start}\")"
   ]
  },
  {
   "cell_type": "code",
   "execution_count": null,
   "id": "e57c06d6-9aa1-467e-a8bc-809884a49555",
   "metadata": {},
   "outputs": [],
   "source": []
  },
  {
   "cell_type": "code",
   "execution_count": 126,
   "id": "fab2e41d-6976-4970-aa86-232c31f350a0",
   "metadata": {},
   "outputs": [],
   "source": [
    "# def score(model, tokenizer, sentence):\n",
    "#     if sentence.startswith(\"chatbot\"):\n",
    "#         input_seq, output_seq = sentence.split(\"user:\")\n",
    "#         input_seq = input_seq.split(\"chatbot:\")[-1].strip()\n",
    "#         output_seq = output_seq.strip()\n",
    "#     else:\n",
    "#         input_seq, output_seq = sentence.split(\"chatbot:\")\n",
    "#         input_seq = input_seq.split(\"user:\")[-1].strip()\n",
    "#         output_seq = output_seq.strip()\n",
    "        \n",
    "#     print(input_seq)\n",
    "#     print(\"-\" * 100)\n",
    "#     print(output_seq)\n",
    "#     print(\"-\" * 100)\n",
    "    \n",
    "#     inputs = tokenizer(input_seq, return_tensors=\"pt\")\n",
    "#     input_ids = inputs.input_ids\n",
    "\n",
    "#     decoder_inputs = tokenizer(output_seq.strip(), return_tensors=\"pt\")\n",
    "#     decoder_input_ids = decoder_inputs.input_ids\n",
    "    \n",
    "    \n",
    "#     with torch.inference_mode():\n",
    "#         logits = model(input_ids=input_ids, decoder_input_ids=decoder_input_ids).logits\n",
    "#         probs = torch.nn.functional.softmax(logits, dim=-1)\n",
    "#         neg_log_likelihood = torch.mul(torch.log(probs), -1)\n",
    "#         seq_neg_log_likelihood_sum = 0\n",
    "#         for token_index in range(len(decoder_input_ids[0])):\n",
    "#             token_id = decoder_input_ids[0][token_index]\n",
    "#             seq_neg_log_likelihood_sum += neg_log_likelihood[0][token_index][token_id]\n",
    "#         loss = seq_neg_log_likelihood_sum / len(decoder_input_ids[0])\n",
    "#         print(loss)\n",
    "        \n",
    "#     return np.exp(loss)"
   ]
  }
 ],
 "metadata": {
  "kernelspec": {
   "display_name": "tap",
   "language": "python",
   "name": "tap"
  },
  "language_info": {
   "codemirror_mode": {
    "name": "ipython",
    "version": 3
   },
   "file_extension": ".py",
   "mimetype": "text/x-python",
   "name": "python",
   "nbconvert_exporter": "python",
   "pygments_lexer": "ipython3",
   "version": "3.10.9"
  }
 },
 "nbformat": 4,
 "nbformat_minor": 5
}
