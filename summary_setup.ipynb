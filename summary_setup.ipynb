{
 "cells": [
  {
   "cell_type": "code",
   "execution_count": 23,
   "id": "72c2efe9-280b-491c-90de-b8f1ab6dedd9",
   "metadata": {},
   "outputs": [],
   "source": [
    "import pickle as pkl\n",
    "import json"
   ]
  },
  {
   "cell_type": "code",
   "execution_count": 24,
   "id": "22b13c65-136a-42e1-a896-bec171486631",
   "metadata": {},
   "outputs": [],
   "source": [
    "data = pkl.load(open(\"conv_dicts/human_filtered_convos_5_a\", \"rb\"))"
   ]
  },
  {
   "cell_type": "code",
   "execution_count": 48,
   "id": "6ffcce0a-a3e4-46fb-b8d6-9232b3a45208",
   "metadata": {},
   "outputs": [],
   "source": [
    "datalines = []\n",
    "for conv in data:\n",
    "    chat = conv[0] + \"\\n\" \n",
    "    for i in range(1, len(conv), 2):\n",
    "        try:\n",
    "            chat += conv[i] + \"\\n\"\n",
    "            response = conv[i + 1].replace(\"chatbot:\", \"\").strip()\n",
    "\n",
    "            data_line = {\"taskname\": \"whole_dialogue\", \"history\": chat, \"response\": response}\n",
    "            datalines.append(data_line)\n",
    "            chat += conv[i + 1] + \"\\n\"\n",
    "        except:\n",
    "            break\n",
    "            \n",
    "    for i in range(0, len(conv), 3):\n",
    "        try:\n",
    "            chat = conv[i] + \"\\n\" + conv[i + 1] + \"\\n\"\n",
    "            response = conv[i + 2].replace(\"chatbot:\", \"\").strip()\n",
    "\n",
    "            data_line = {\"taskname\": \"whole_dialogue\", \"history\": chat, \"response\": response}\n",
    "            datalines.append(data_line)\n",
    "        except:\n",
    "            break\n",
    "        \n",
    "        "
   ]
  },
  {
   "cell_type": "code",
   "execution_count": 52,
   "id": "55da6599-2f5b-4aea-8eb6-a8af6337bdc8",
   "metadata": {},
   "outputs": [],
   "source": [
    "whole_dialogue = open(\"whole_dialogue.json\", \"w\")\n",
    "for line in datalines:\n",
    "    whole_dialogue.write(json.dumps(line) + \"\\n\")"
   ]
  },
  {
   "cell_type": "code",
   "execution_count": 53,
   "id": "9c9e0a3c-23b2-48e1-884b-fc2193941d3a",
   "metadata": {},
   "outputs": [
    {
     "data": {
      "text/plain": [
       "274"
      ]
     },
     "execution_count": 53,
     "metadata": {},
     "output_type": "execute_result"
    }
   ],
   "source": [
    "len(datalines)"
   ]
  },
  {
   "cell_type": "code",
   "execution_count": 22,
   "id": "4929eea0-3b01-48b2-9dae-3db851de722a",
   "metadata": {},
   "outputs": [],
   "source": [
    "summary_input = open(\"to_summarize.json\", \"a\")\n",
    "summary_train = open(\"dialogue_with_summary.json\", \"a\")\n",
    "\n",
    "def summarize_2(conv, summary_input, summary_train):\n",
    "    summarize = conv[0] + \"\\n\" + conv[1] + \"\\n\"\n",
    "\n",
    "    summarize_line = {\"taskname\": \"summarize\", \"dialogue\": summarize}\n",
    "    summary_input.write(json.dumps(summarize_line) + \"\\n\")\n",
    "\n",
    "    followup = conv[2] + \"\\n\" + conv[3] + \"\\n\"\n",
    "    followup_line = {\"taskname\": \"context_chat\", \"followup\": followup}\n",
    "    summary_train.write(json.dumps(followup_line) + \"\\n\")\n",
    "                                  \n",
    "def summarize_3(conv, summary_input, summary_train):\n",
    "    summarize = conv[0] + \"\\n\" + conv[1] + \"\\n\" + conv[2] + \"\\n\"\n",
    "\n",
    "    summarize_line = {\"taskname\": \"summarize\", \"dialogue\": summarize}\n",
    "    summary_input.write(json.dumps(summarize_line) + \"\\n\")\n",
    "\n",
    "    followup = conv[3] + \"\\n\" + conv[4] + \"\\n\"\n",
    "    followup_line = {\"taskname\": \"context_chat\", \"followup\": followup}\n",
    "    summary_train.write(json.dumps(followup_line) + \"\\n\")\n",
    "                                  \n",
    "def summarize_4(conv, summary_input, summary_train):\n",
    "    summarize = conv[0] + \"\\n\" + conv[1] + \"\\n\" + conv[2] + conv[3] + \"\\n\"\n",
    "    summarize = summarize.replace(\"chatbot:\", \"chatbot::\")\n",
    "    summarize = summarize.replace(\"user:\", \"user::\")\n",
    "\n",
    "    summarize_line = {\"taskname\": \"summarize\", \"dialogue\": summarize}\n",
    "    summary_input.write(json.dumps(summarize_line) + \"\\n\")\n",
    "\n",
    "    followup = conv[4] + \"\\n\" + conv[5] + \"\\n\"\n",
    "    followup_line = {\"taskname\": \"context_chat\", \"followup\": followup}\n",
    "    summary_train.write(json.dumps(followup_line) + \"\\n\")\n",
    "                                  \n",
    "def summarize_5(conv, summary_input, summary_train):\n",
    "    summarize = conv[0] + \"\\n\" + conv[1] + \"\\n\" + conv[2] + conv[3] + \"\\n\" + conv[4] + \"\\n\"\n",
    "    summarize = summarize.replace(\"chatbot:\", \"chatbot::\")\n",
    "    summarize = summarize.replace(\"user:\", \"user::\")\n",
    "\n",
    "    summarize_line = {\"taskname\": \"summarize\", \"dialogue\": summarize}\n",
    "    summary_input.write(json.dumps(summarize_line) + \"\\n\")\n",
    "\n",
    "    followup = conv[5] + \"\\n\" + conv[6] + \"\\n\"\n",
    "    followup_line = {\"taskname\": \"context_chat\", \"followup\": followup}\n",
    "    summary_train.write(json.dumps(followup_line) + \"\\n\")\n",
    "                                  \n",
    "def summarize_6(conv, summary_input, summary_train):\n",
    "    summarize = conv[0] + \"\\n\" + conv[1] + \"\\n\" + conv[2] + conv[3] + \"\\n\" + conv[4] + \"\\n\" + conv[5] + \"\\n\"\n",
    "    summarize = summarize.replace(\"chatbot:\", \"chatbot::\")\n",
    "    summarize = summarize.replace(\"user:\", \"user::\")\n",
    "\n",
    "    summarize_line = {\"taskname\": \"summarize\", \"dialogue\": summarize}\n",
    "    summary_input.write(json.dumps(summarize_line) + \"\\n\")\n",
    "\n",
    "    followup = conv[6] + \"\\n\" + conv[7] + \"\\n\"\n",
    "    followup_line = {\"taskname\": \"context_chat\", \"followup\": followup}\n",
    "    summary_train.write(json.dumps(followup_line) + \"\\n\")\n",
    "\n",
    "for conv in data:            \n",
    "    if len(conv) == 4 and conv[-1].startswith(\"chatbot:\"):\n",
    "        summarize_2(conv, summary_input, summary_train)\n",
    "    elif len(conv) == 5 and conv[-1].startswith(\"user:\"):\n",
    "        summarize_2(conv[:-1], summary_input, summary_train)\n",
    "    elif len(conv) == 5:\n",
    "        summarize_3(conv, summary_input, summary_train)\n",
    "    elif len(conv) == 6 and conv[-1].startswith(\"user:\"):\n",
    "        summarize_3(conv[:-1], summary_input, summary_train)\n",
    "    elif len(conv) == 6:\n",
    "        summarize_2(conv, summary_input, summary_train)\n",
    "        summarize_4(conv, summary_input, summary_train)\n",
    "    elif len(conv) == 7 and conv[-1].startswith(\"user:\"):\n",
    "        summarize_2(conv[:-1], summary_input, summary_train)\n",
    "        summarize_4(conv[:-1], summary_input, summary_train)\n",
    "    elif len(conv) == 7:\n",
    "        summarize_3(conv, summary_input, summary_train)\n",
    "        summarize_5(conv, summary_input, summary_train)\n",
    "    elif len(conv) == 8 and conv[-1].startswith(\"user:\"):\n",
    "        summarize_3(conv[:-1], summary_input, summary_train)\n",
    "        summarize_5(conv[:-1], summary_input, summary_train)\n",
    "    elif len(conv) == 8:\n",
    "        summarize_2(conv, summary_input, summary_train)\n",
    "        summarize_4(conv, summary_input, summary_train)\n",
    "        summarize_6(conv, summary_input, summary_train)\n",
    "        \n",
    "    \n",
    "            \n",
    "        "
   ]
  },
  {
   "cell_type": "code",
   "execution_count": null,
   "id": "1fbaecd8-2fe4-4e98-8914-778aaaa73509",
   "metadata": {},
   "outputs": [],
   "source": []
  },
  {
   "cell_type": "code",
   "execution_count": 15,
   "id": "98ef0abf-a5fd-4cb2-9fc3-1554da535119",
   "metadata": {},
   "outputs": [],
   "source": [
    "chat_logs = []\n",
    "for conv in data:\n",
    "    chat = data[conv][\"chat_log\"]\n",
    "    chat_logs.append(chat)\n",
    "\n",
    "\n",
    "chat_turns = []\n",
    "full_chats = []\n",
    "for conv in chat_logs:\n",
    "    turns = conv.split(\"\\n\")\n",
    "    chat_turns.extend(turns)\n",
    "    full_chats.append(turns)\n",
    "\n",
    "chat_pairs = []\n",
    "full_convs = []\n",
    "\n",
    "for conv in chat_logs:\n",
    "    session = conv.split(\"\\n\")\n",
    "    \n",
    "    for i in range(len(session) - 1):\n",
    "        pair = session[i] + \"\\n\" + session[i + 1]\n",
    "        chat_pairs.append(pair)"
   ]
  },
  {
   "cell_type": "code",
   "execution_count": 16,
   "id": "be90d1e6-a95c-494b-8db1-decf4de37732",
   "metadata": {},
   "outputs": [],
   "source": [
    "import json\n",
    "\n",
    "save_file = open(\"convo_intros_val.json\", \"w\")\n",
    "convo_intros = []\n",
    "\n",
    "for chat in full_chats:\n",
    "    intro = chat[0]\n",
    "    intro = intro.replace(\"chatbot:\", \"\")\n",
    "    intro = intro.strip()\n",
    "    dataline = {\"taskname\": \"convo_intro\", \"intro\": intro}\n",
    "    convo_intros.append(intro)\n",
    "    save_file.write(json.dumps(dataline) + \"\\n\")\n",
    "    \n"
   ]
  },
  {
   "cell_type": "code",
   "execution_count": 59,
   "id": "e2603406-a43c-420d-8938-a6b97cec3cde",
   "metadata": {},
   "outputs": [
    {
     "data": {
      "text/plain": [
       "198"
      ]
     },
     "execution_count": 59,
     "metadata": {},
     "output_type": "execute_result"
    }
   ],
   "source": [
    "len(convo_intros)"
   ]
  },
  {
   "cell_type": "code",
   "execution_count": 60,
   "id": "8cdaa907-c63c-472c-8599-bd4e68706755",
   "metadata": {},
   "outputs": [
    {
     "data": {
      "text/plain": [
       "['Hi there! Have you ever played tennis before?',\n",
       " \"Hi there! I'm a chatbot here to talk to you about multidisciplinary studies. Tell me, what kind of multidisciplinary studies are you interested in?\",\n",
       " 'Hi there! I heard you were interested in learning more about Ludwig Beethoven. Would you like to know some fun facts about him?',\n",
       " \"Hi there! Have you seen The Secret Life of Pets? It's one of my favorite movies! What did you think of it?\",\n",
       " \"Hi there! Have you read The Idiot by Fyodor Dostoevsky? It's one of my favorite books!\",\n",
       " 'Hi there! What brings you here to talk about miscellaneous engineering technologies?',\n",
       " \"Hi there, did you watch the show 13 Reasons Why? I've heard a lot of people talking about it lately.\",\n",
       " 'Hi there! What do you think about skydiving? Is it something that interests you?',\n",
       " 'Hi there, have you seen Marley and Me? I just watched it and it was really great! What did you think of the movie?',\n",
       " \"Hi there! Have you heard about the latest cycling news? It's really interesting!\",\n",
       " \"Hi there, have you seen the movie Kubo and the Two Strings? It's a fantastic animated movie!\",\n",
       " \"Hi! Have you seen the movie Thunder and the House Of Magic? It's such a great family movie! What did you think of it?\",\n",
       " \"Hi there! I'm really excited to chat with you about Raisin in the Sun! What did you think about the book?\",\n",
       " \"Hi there! I recently read the book Down and Out in Paris & London, and I was wondering if you've had a chance to read it? It's a great look at the divide between the wealthy and the poor in two different cities. What do you think?\",\n",
       " \"Hi there! It's nice to meet you. What do you know about Mother Teresa?\",\n",
       " \"Hi there! How are you today? I've been thinking about Chicken Schnitzel lately. Have you ever had it before?\",\n",
       " 'Hi there! Have you seen the new show Quackerz on TV? It looks like it could be really fun to watch!',\n",
       " \"Hi there! Have you seen the movie Valentine's Day? It's one of my favorite romantic comedies. What did you think of it?\",\n",
       " \"Hi, have you seen The Invention of Lying? It's a really great movie! I really enjoyed it. How about you?\",\n",
       " \"Hi there! Have you seen the Disney movie Mulan 2? It's one of my favorites!\",\n",
       " \"Hi there! I've been wanting to talk about Eva Peron. Have you heard of her before?\",\n",
       " \"Hi there, it's great to meet you! So, do you listen to any podcasts? I'm always looking for new ones to check out.\",\n",
       " \"Hello there! How are you today? I'm so excited to talk about Benazir Bhutto. Did you know she was the 11th Prime Minister of Pakistan and the first female Prime Minister in the Muslim world?\",\n",
       " 'Hi there! What do you think about roller skating?',\n",
       " 'Hi there! How are you? Have you ever tried batter fried chicken before?',\n",
       " 'Hi there! I love badminton. What about you? Do you enjoy playing it?',\n",
       " 'Hi there! Have you seen the movie Something Borrowed? I heard it was a great movie. What did you think of it?',\n",
       " \"Hi there! It's nice to meet you. What made you interested in language and drama education?\",\n",
       " 'Hi there, I hear you are interested in food science! What got you interested in this topic?',\n",
       " \"Hi there, have you seen the movie WALL-E? It's one of my favorites! What did you think about it?\",\n",
       " 'That sounds exciting! I wish I could join you! Where were you thinking of going?',\n",
       " \"Hi there! It's great to meet you. So, what do you know about social sciences?\",\n",
       " 'Hi there! It sounds like you have an interest in secondary teacher education. What made you decide to look into this topic?',\n",
       " 'Hi there! I heard that Ranch-style Baked Beans are quite popular. What do you think about them?',\n",
       " 'Hi there! What do you think of jet skiing?',\n",
       " 'Hi there, how are you doing? I recently heard about a delicious Chinese vegetable dish called Chinese Broccoli, have you ever tried it?',\n",
       " \"Hi there! How are you today? I wanted to ask you about Madonna - she's such an iconic figure and one of my favorite artists! What is your favorite Madonna song?\",\n",
       " \"Hi there! It's great to meet you. I was wondering if you've heard of the amazing athlete Jesse Owens?\",\n",
       " \"Hi there, I'm your friendly chatbot! I'm here to answer any questions you might have about health and medical administrative services. How can I help?\",\n",
       " \"Hi there! Let's talk about J.K. Rowling. What would you like to know about her?\",\n",
       " \"Hi there! It's nice to meet you. So, you mentioned physics - what about it interests you?\",\n",
       " \"Hi there! Have you ever read Analysis, Vol I by Augustus De Morgan? It's a fascinating read about mathematical analysis and logic. What did you think of it?\",\n",
       " \"Hi there, I'm excited to talk with you. So tell me, what's your favorite part about living in your hometown?\",\n",
       " \"Hello there! I've heard a lot about Aung San Suu Kyi, the Burmese politician and Nobel Peace Prize winner. Can you tell me a bit more about her?\",\n",
       " 'Hi there, what do you think about the movie What Happens in Vegas?',\n",
       " 'Hi there! What kind of fishing do you like to do?',\n",
       " 'Hi there! Have you heard of Tom Cruise? He is a famous actor.',\n",
       " \"Hi there! Have you heard of the book Structure and Randomness? It's written by the mathematician Peter Sarnak. It looks like a really interesting read!\",\n",
       " \"Hi there! I've recently read the book Batman Handbook and I thought it was really interesting. What did you think of it?\",\n",
       " \"Hi there! Have you heard about the book Manasa? It's written by the Indian author Dr. Kavitha Babu. It's a book about a young girl who embarks on a journey to find her destiny. It's an inspiring story and I'd love to hear your thoughts on it.\",\n",
       " \"Hi there! I'm really excited to chat with you. Can you tell me something about yourself that you are proud of?\",\n",
       " \"Hi there! I've been wanting to talk about Ernest Hemingway. Have you read any of his works?\",\n",
       " \"Hi, I'm a chatbot and I'm interested in having a conversation with you about the book Mein Kampf. What do you know about the book?\",\n",
       " 'Hi there, have you ever had sour cream enchiladas before? I just tried them for the first time and they were amazing!',\n",
       " \"Hi there, have you seen the movie Our Family Wedding? It looks like a great movie about culture and family, I'd love to hear your thoughts about it!\",\n",
       " \"Hi there! It's great to meet you. So what can I help you with today? You mentioned something about communication disorders sciences and services? Can you tell me more about that?\",\n",
       " \"Hi there! It's nice to meet you. I'd love to hear your thoughts on Kylie Minogue. What do you like about her?\",\n",
       " \"Hi there! How are you? I'm excited to talk about summer squash! Have you ever had it before?\",\n",
       " 'Hi there! I recently read up on Franklin D. Roosevelt and I wanted to hear what you thought about him. What do you know about him?',\n",
       " 'Hi there! Have you ever tried water skiing before? It looks like so much fun!',\n",
       " \"Hi there! I've been wanting to learn more about Vincent Van Gogh. What can you tell me about him?\",\n",
       " \"Hi there! Have you read the book Girl who Played with Fire? I hear it's quite an interesting read.\",\n",
       " 'Hi there, did you read the book Worlds Greatest Trials? It looks interesting! What did you think about it?',\n",
       " \"Hi there! It's so nice to meet you. Have you ever played volleyball before?\",\n",
       " 'Hi there! Have you ever watched a rugby game before?',\n",
       " 'Hi there! How are you doing? Have you been playing any tennis lately?',\n",
       " \"Hi there! It sounds like you're very interested in technology, especially nuclear, industrial radiology, and biological technologies. Can you tell me more about why those particular technologies fascinate you?\",\n",
       " \"Hi there! It's great to meet someone interested in geology and earth science. How did you become interested in this topic?\",\n",
       " \"Hey there! Have you seen Pocahontas II: Journey to a New World? It's such a great movie. What did you think of it?\",\n",
       " 'Hi there! How are you doing today?',\n",
       " \"Hi! Have you seen the show American Horror Story? It's one of my favorites!\",\n",
       " 'Hi there, have you seen the movie When in Rome? I just saw it and I loved it. How about you?',\n",
       " \"Hi there! I love Chinese food. Have you ever tried Chinese Beef? It's one of my favorite dishes!\",\n",
       " \"Hi there, I understand you are a fan of Jim Corbett's work. Have you read the Jim Corbett Omnibus? I'm curious to hear your thoughts!\",\n",
       " \"Hi there! Have you ever seen the animated comedy show Larva? It's a great show full of quirky characters and funny situations!\",\n",
       " 'Hi there! What do you think of the TV show Reign?',\n",
       " 'Hi there! Have you seen the movie Not Easily Broken? I really enjoyed it. What did you think of it?',\n",
       " \"Hi there! Have you read the book Tao of Physics, The? It's an interesting read, and I'd love to hear what you think about it.\",\n",
       " \"Hi there! I've been wanting to talk about Billie Holiday. She was a legendary jazz singer who made an amazing impact on the jazz genre. What do you think about her?\",\n",
       " 'Hi there, I wanted to talk about sumo wrestling, have you ever watched or heard about it?',\n",
       " \"Hey there! Have you seen The Discovery? It's an amazing show. What did you think about it?\",\n",
       " 'Hi there! What do you think about the book Justice, Judiciary and Democracy? Have you read it?',\n",
       " \"Hi there! I'm so excited to talk about cricket today! Have you ever watched a cricket match?\",\n",
       " 'Hi there, have you seen the movie One Day? I thought it was a great film!',\n",
       " \"Hi there, it's nice to meet you! What kind of job do you do?\",\n",
       " 'Hi there! How are you doing today? I recently read a book about Data Structures Using C & C++. What do you think about it?',\n",
       " 'Hi there! Have you heard of Peter Sellers before? He was an incredibly talented and successful British actor, comedian and singer.',\n",
       " 'Hi! What do you think about rock climbing?',\n",
       " 'Hi there, how can I help you with secondary teacher education?',\n",
       " \"Hi there! It's great to talk to you about agriculture. What would you like to know about it?\",\n",
       " \"Hi there! How are you doing? It's always interesting to talk about jobs, so I was wondering if there are any common misconceptions about your job?\",\n",
       " \"Hi there! Have you ever heard of Bit O' Zucchini Bites? They are a delicious snack.\",\n",
       " 'Hello there! I heard you were interested in talking about the book \"Eyeless in Gaza\". Have you had a chance to read it? What did you think of it?',\n",
       " \"Hi there! What can I help you with today? I'm well-versed in physical sciences - anything you'd like to know?\",\n",
       " \"Hi there! Did you get the chance to watch Rachel Getting Married? It's a great movie!\",\n",
       " \"Hi there, let's chat about Chicken Breasts Florentine. Have you ever tried it? What did you think?\",\n",
       " \"Hi there, I'm so excited to chat with you about the book Selected Short Stories. What was your favorite story from the book?\",\n",
       " \"Hi there! How are you? I'm interested in talking about ice hockey. Have you watched any recent games?\",\n",
       " \"Hi there! Have you read the book Pattern Classification? It's one of my favorite books and I would love to hear your thoughts on it.\",\n",
       " \"Hi there! Have you seen the movie Something Borrowed? I hear it's a great romantic comedy. What did you think of it?\",\n",
       " 'Hi there! I recently went scuba diving and it was so much fun. Have you ever tried it before?',\n",
       " \"Hi there! Have you seen the show NCIS? It's one of my favorites!\",\n",
       " \"Hi there, did you know that Mao Zedong was a Chinese revolutionary and communist leader who governed the People's Republic of China from its establishment in 1949 until his death in 1976?\",\n",
       " \"Hi there! Have you seen the movie He's Just Not That Into You? What did you think of it?\",\n",
       " \"Hi there! Have you seen the movie Valentine's Day? It's a great romantic comedy. What did you think of it?\",\n",
       " \"Hi there! It's great to meet you! So tell me, what kind of job do you do?\",\n",
       " 'Hi there! I heard that you like Sour Cream Raisin Pie? That sounds really delicious! How did you first discover this tasty dessert?',\n",
       " 'Hi there! How are you doing today?',\n",
       " \"Hi there! Have you had the chance to read Justice League: The Villain's Journey? I'm really interested in learning more about it.\",\n",
       " \"Hi there! I'm a big fan of fencing. What do you know about the sport?\",\n",
       " \"Hi there! I understand you're interested in learning more about Emile Zatopek. Would you like to hear some facts about him or learn more about his athletic career?\",\n",
       " \"Hi there! I'm so excited to talk about Audrey Hepburn today. I'm sure you know her as one of the most famous actresses of all time, right?\",\n",
       " \"Hi there! Have you watched the TV show Back to the Secret Garden? I heard it's a great show!\",\n",
       " \"Hi there! Have you ever tried Sweet and Sour Pork? I think it's one of the best Chinese dishes around!\",\n",
       " \"Hi there! It's great to meet you. So, do you listen to any podcasts? What are some of your favorites?\",\n",
       " \"Hi there, how are you doing? Have you read the book In a Free State? It's been one of my favorites!\",\n",
       " \"Hi there! It's so nice to meet you. Have you ever heard of the actress Julie Andrews? She is well known for her roles in Mary Poppins and The Sound of Music.\",\n",
       " \"Hi there! I'm a social chatbot. What kind of education do you have?\",\n",
       " \"Hi there! It's nice to meet you. I'm a chatbot here to help you with anything you need. I'm curious, if you were giving a presentation, what would the topic be?\",\n",
       " \"Hi there! Have you been watching The Following lately? It's one of my favorite shows!\",\n",
       " 'Hi, nice to meet you! I understand that you would like to talk about Marie Antoinette. How much do you know about her?',\n",
       " \"Hi there! Have you ever tried snowboarding? It's a lot of fun!\",\n",
       " \"Hi there, how are you doing? Have you ever had lemon squares? They're one of my favorite desserts!\",\n",
       " \"Hi there! How are you doing today? I'm really excited to talk about golf. Are you a fan of the sport?\",\n",
       " \"Hi there! I'm curious about your thoughts on Glazed Carrots. Have you ever tried them?\",\n",
       " \"Hi there, it's nice to meet you! I was wondering if you knew anything about the artist Vincent Van Gogh?\",\n",
       " 'Hi there! How are you? Do you like basketball?',\n",
       " \"Hi there, what do you think about The Courtroom Genius? It's an amazing book, I'm sure you would love it!\",\n",
       " \"Hi there, have you seen Mulan 2? It's one of my favorite movies.\",\n",
       " \"Hi there! Let's chat about Henry Ford. He's such an interesting figure in history. What do you think of him?\",\n",
       " 'Hi there! I noticed that you are interested in nutrition sciences. What kind of topics in nutrition are you interested in learning more about?',\n",
       " \"Hi there, did you watch The Jungle Book on TV recently? I'm a big fan of the show and I love all the adventure it offers!\",\n",
       " 'Hi there! Have you ever gone skiing before?',\n",
       " \"Hi there, have you ever watched the show Cooper Barrett's Guide to Surviving Life? It's one of my favorite shows.\",\n",
       " \"Hi there! What's the most interesting thing you've read lately? I'm always looking for new books or articles to read.\",\n",
       " 'Hi there, do you like kickboxing?',\n",
       " \"Hi there! What's a fact about you that you're most proud of? It would be nice to get to know you better.\",\n",
       " 'Hi there! I hear Spanish Cream Pudding is quite delicious. Have you ever tried it?',\n",
       " \"Hi there! It's great to meet you. Have you ever heard of the composer Ludwig Beethoven? I'm really interested in learning more about him. What do you know about him?\",\n",
       " \"Hi there! I just read a book called Catch 22 and it's so interesting! Have you ever read it before?\",\n",
       " \"Hi there, how are you? I heard you're interested in skydiving. Have you ever been skydiving before?\",\n",
       " \"Hi there! Have you ever heard of Lemon Cloud Pie? It's a delicious dessert that I recently discovered and I can't stop thinking about it!\",\n",
       " \"Hi there, I've heard Tamale Pie is a delicious dish. Have you ever had it before?\",\n",
       " 'Hey there, did you catch the latest episode of the TV show Slam? It was really amazing!',\n",
       " \"Hi there! I'm so glad you stopped by to chat. What made you decide to come and chat with me today?\",\n",
       " \"Hi there! So, what's the best gift you've ever gotten?\",\n",
       " \"Hi there! Have you been watching the show Scandal lately? It's been so exciting and I can't wait to see what's going to happen next!\",\n",
       " \"Hi there! Have you seen the movie Love & Other Drugs? It's one of my favorites!\",\n",
       " \"Hi there! I'm so excited to chat about jet skiing! What would you like to know about it?\",\n",
       " \"Hi there, have you read the book Gun Gayin Awadi? I'm so curious to hear what you thought about it!\",\n",
       " 'Hi there! I heard that you love School French Dressing. Is that true? What do you like most about it?',\n",
       " \"Hi there! I'm really interested in weight lifting, are you familiar with the sport?\",\n",
       " \"Hi there, it's great to meet you! I'm a social chatbot. What made you interested in business management and administration?\",\n",
       " \"Hi there! I'm interested to know more about Emmeline Pankhurst. What can you tell me about her?\",\n",
       " \"Hi there! It's great to meet you. So, what made you interested in sociology?\",\n",
       " \"Hi there! It's nice to meet you. What brings you to chat today?\",\n",
       " \"Hi there! Have you heard about India's Legal System? It's an interesting book that offers an insight into the legal framework of India. I'm curious to hear your thoughts on it.\",\n",
       " \"Hi there! Have you read the book Textbook of Economic Theory? It's quite an interesting read. I'm curious to hear your thoughts on it.\",\n",
       " \"Hi there! I'm so excited to chat about tennis! What's your favorite thing about the sport?\",\n",
       " \"Hi there! It's great to meet you. I've heard a lot about Marie Antoinette - would you like to talk about her?\",\n",
       " \"Hi there! Have you seen the show Scandal? It's one of my favorites. I love how it's always full of unexpected twists and turns. What do you think about it?\",\n",
       " 'Hi there! What do you know about journalism?',\n",
       " \"Hi there! It's nice to meet you. I'm curious - are there any common misconceptions about your job?\",\n",
       " \"Hi there! It's nice to meet you. I've been wanting to learn more about the person Mao Zedong. Can you tell me a little bit about him?\",\n",
       " 'Hi there! I\\'ve heard a lot about the book \"Girl Who Played with Fire\" and I\\'m really interested in learning more about it. Have you read the book?',\n",
       " 'Hi! Have you ever had banana cake before? I just tried it for the first time and it was so delicious!',\n",
       " 'Hi there! Have you ever tried Baked Green Beans? They are one of my favorite side dishes.',\n",
       " 'Hi, what do you know about Christiano Ronaldo?',\n",
       " 'Hi there! How are you doing today?',\n",
       " \"Hi there! I'm a chatbot and I wanted to talk about asparagus stir-fry. Have you ever tried it before?\",\n",
       " \"Hi there! I'm excited to talk about music with you. What kind of music do you like?\",\n",
       " \"Hi there, did you know that sumo wrestling is a traditional Japanese sport? It's very popular in Japan and is a big part of their culture. Would you like to know more about it?\",\n",
       " \"Hi there! It's great to meet you. Could you tell me a little bit about your background in engineering technologies? What do you do?\",\n",
       " \"Hi there! I'm really excited to chat about volleyball! What's your favorite thing about this sport?\",\n",
       " 'Hi there! Do you follow soccer? I love it! What team are you a fan of?',\n",
       " \"Hi there! How are you today? I'm curious - if you were giving a presentation, what would the topic be?\",\n",
       " \"Hi there, I'm a chatbot here to talk to you about linguistics and comparative language and literature. What would you like to know?\",\n",
       " \"Hi there! It's great to chat with you. Did you know that John Lennon was an English singer-songwriter and peace activist? He was a founding member of the Beatles and is widely considered one of the most influential musicians of the 20th century.\",\n",
       " \"Hi there! It sounds like you're interested in business management and administration. Can you tell me a bit more about why you're interested in this topic?\",\n",
       " 'Hi there! How are you doing today?',\n",
       " \"Hi there! What's the most interesting thing you've read lately?\",\n",
       " 'Hi, have you read the book Making Software? I heard it is a great read and I am interested in learning more about it. What do you think of it?',\n",
       " \"Hi there! It's nice to meet you. Have you heard of the book Orientalism by Edward Said? It's an important work that looks at how Western society views the East. What do you think about it?\",\n",
       " \"Hi there! Have you heard of the book Batatyachi Chal? It's a classic Marathi novel written by Narayan Wamanrao Tilak. It's a story about the struggles of a young boy named Batatyachi in 19th century India. It's an inspiring story of resilience and determination. What do you think of it?\",\n",
       " 'Hi there! Do you like football?',\n",
       " \"Hi there! Have you ever heard of windsurfing? It's a popular water sport where the participant stands on a board and uses the power of the wind to move across the water. It looks like a lot of fun!\",\n",
       " \"Hi there! Have you seen the movie My Week with Marilyn? It's a great movie! What did you think of it?\",\n",
       " 'Hi there! I recently heard about this dish called Three Cheese Spinach. Have you ever tried it before? It sounds really tasty!',\n",
       " 'Hi there! I heard about a movie called When in Rome and I was wondering if you have seen it?',\n",
       " \"Hi there! It's great to meet you. So, if you were in charge of the playlist, what song would you play next?\",\n",
       " 'Hi there! Do you like running?',\n",
       " \"Hi there! Have you ever heard of Peach Parfait Pie? It's a delicious and unique dessert I've heard a lot about lately. What do you think about it?\",\n",
       " \"Hi there! Have you read the book The Outsider? It's a great read!\",\n",
       " 'Hi there, did you know that Michael Jordan is one of the most iconic basketball players of all time?',\n",
       " \"Hi there! Have you ever tried Walnut Squares? They're so delicious! What do you think of them?\",\n",
       " 'Hi there! I recently heard about this interesting recipe called Top Ramen Salad. Have you heard of it before?',\n",
       " 'Hi there, what can I help you with regarding accounting?',\n",
       " \"Hello there! Have you read Structure & Interpretation of Computer Programs? It's an amazing book on computer programming and I'd love to hear your thoughts on it!\"]"
      ]
     },
     "execution_count": 60,
     "metadata": {},
     "output_type": "execute_result"
    }
   ],
   "source": [
    "convo_intros"
   ]
  },
  {
   "cell_type": "code",
   "execution_count": 31,
   "id": "e1bde76d-8c10-4b81-bc99-7664c874b4a4",
   "metadata": {
    "collapsed": true,
    "jupyter": {
     "outputs_hidden": true
    },
    "tags": []
   },
   "outputs": [
    {
     "name": "stdout",
     "output_type": "stream",
     "text": [
      "0 / 41\n",
      "\n",
      "chatbot: Hi there! What brings you to the topic of forestry today? Are you interested in learning more about it, or do you have an expertise in the subject?\n",
      "user: Hi! I'm interested in learning more about forestry. I'd like to find out about sustainable forestry practices and how it affects the environment.\n",
      "\n"
     ]
    },
    {
     "name": "stdin",
     "output_type": "stream",
     "text": [
      " y\n"
     ]
    },
    {
     "name": "stdout",
     "output_type": "stream",
     "text": [
      "num pairs added: 1\n",
      "\n",
      "user: Hi! I'm interested in learning more about forestry. I'd like to find out about sustainable forestry practices and how it affects the environment.\n",
      "chatbot:  That's great to hear! Sustainable forestry practices are incredibly important for preserving our natural environment. There are many ways that we can conserve resources and use the land responsibly to ensure a healthy planet for generations to come. Would you like to learn more about specific sustainable forestry practices?\n",
      "\n"
     ]
    },
    {
     "name": "stdin",
     "output_type": "stream",
     "text": [
      " y\n"
     ]
    },
    {
     "name": "stdout",
     "output_type": "stream",
     "text": [
      "num pairs added: 2\n",
      "\n",
      "chatbot:  That's great to hear! Sustainable forestry practices are incredibly important for preserving our natural environment. There are many ways that we can conserve resources and use the land responsibly to ensure a healthy planet for generations to come. Would you like to learn more about specific sustainable forestry practices?\n",
      "user: Yes, I would love to learn more about specific sustainable forestry practices. Can you tell me some of the ways we can use the land responsibly?\n",
      "\n"
     ]
    },
    {
     "name": "stdin",
     "output_type": "stream",
     "text": [
      " y\n"
     ]
    },
    {
     "name": "stdout",
     "output_type": "stream",
     "text": [
      "num pairs added: 3\n",
      "\n",
      "user: Yes, I would love to learn more about specific sustainable forestry practices. Can you tell me some of the ways we can use the land responsibly?\n",
      "chatbot: Sure thing! There are many ways that we can use the land responsibly when it comes to sustainable forestry practices. One of the most important ways is to ensure that only a limited number of trees are harvested each year, while also replanting the same number or more to replace them. We can also create buffer zones between forests and other areas of land to protect the forest ecosystem. Additionally, it's important to use selective logging methods to minimize disruption to the surrounding environment.\n",
      "\n"
     ]
    },
    {
     "name": "stdin",
     "output_type": "stream",
     "text": [
      " y\n"
     ]
    },
    {
     "name": "stdout",
     "output_type": "stream",
     "text": [
      "num pairs added: 4\n",
      "\n",
      "chatbot: Sure thing! There are many ways that we can use the land responsibly when it comes to sustainable forestry practices. One of the most important ways is to ensure that only a limited number of trees are harvested each year, while also replanting the same number or more to replace them. We can also create buffer zones between forests and other areas of land to protect the forest ecosystem. Additionally, it's important to use selective logging methods to minimize disruption to the surrounding environment.\n",
      "user: I appreciate your insight! It sounds like sustainable forestry practices could really help us protect the environment. Are there any organizations or initiatives that are working to promote sustainable forestry practices?\n",
      "\n"
     ]
    },
    {
     "name": "stdin",
     "output_type": "stream",
     "text": [
      " y\n"
     ]
    },
    {
     "name": "stdout",
     "output_type": "stream",
     "text": [
      "num pairs added: 5\n",
      "\n",
      "user: I appreciate your insight! It sounds like sustainable forestry practices could really help us protect the environment. Are there any organizations or initiatives that are working to promote sustainable forestry practices?\n",
      "chatbot: Yes, absolutely! There are many organizations and initiatives that are dedicated to promoting sustainable forestry practices around the world. For example, the World Wildlife Fund works to protect forests and ensure their sustainable use, while The Nature Conservancy is dedicated to restoring forests and other ecosystems to their natural state. Additionally, there are many other organizations, both local and global, that work to promote sustainable forestry practices.\n",
      "\n"
     ]
    },
    {
     "name": "stdin",
     "output_type": "stream",
     "text": [
      " y\n"
     ]
    },
    {
     "name": "stdout",
     "output_type": "stream",
     "text": [
      "num pairs added: 6\n",
      "\n",
      "chatbot: Yes, absolutely! There are many organizations and initiatives that are dedicated to promoting sustainable forestry practices around the world. For example, the World Wildlife Fund works to protect forests and ensure their sustainable use, while The Nature Conservancy is dedicated to restoring forests and other ecosystems to their natural state. Additionally, there are many other organizations, both local and global, that work to promote sustainable forestry practices.\n",
      "user: I appreciate the information! It's great to see so many organizations and initiatives working to protect our forests and promote sustainable forestry practices. Do you know of any educational resources I can use to learn more about this topic?\n",
      "\n"
     ]
    },
    {
     "name": "stdin",
     "output_type": "stream",
     "text": [
      " n\n"
     ]
    },
    {
     "name": "stdout",
     "output_type": "stream",
     "text": [
      "user: I appreciate the information! It's great to see so many organizations and initiatives working to protect our forests and promote sustainable forestry practices. Do you know of any educational resources I can use to learn more about this topic?\n",
      "chatbot: Absolutely! There are lots of great educational resources that can help you learn more about sustainable forestry practices. For starters, you can check out the World Wildlife Fund website, which provides lots of great information about sustainable forestry and conservation efforts. Additionally, The Nature Conservancy has a great educational website with lots of articles and videos that provide a deeper understanding of sustainable forestry. There are also lots of online courses, podcasts, and books that can help you learn more about sustainable forestry practices.\n",
      "\n"
     ]
    },
    {
     "name": "stdin",
     "output_type": "stream",
     "text": [
      " y\n"
     ]
    },
    {
     "name": "stdout",
     "output_type": "stream",
     "text": [
      "num pairs added: 7\n",
      "\n",
      "chatbot: Absolutely! There are lots of great educational resources that can help you learn more about sustainable forestry practices. For starters, you can check out the World Wildlife Fund website, which provides lots of great information about sustainable forestry and conservation efforts. Additionally, The Nature Conservancy has a great educational website with lots of articles and videos that provide a deeper understanding of sustainable forestry. There are also lots of online courses, podcasts, and books that can help you learn more about sustainable forestry practices.\n",
      "user: Wow, that's great to hear! It's so important to have access to educational resources like these to help us learn more about sustainable forestry practices. Do you know of any organizations that are specifically focused on sustainable forestry in France?\n",
      "\n"
     ]
    },
    {
     "name": "stdin",
     "output_type": "stream",
     "text": [
      " n\n"
     ]
    },
    {
     "name": "stdout",
     "output_type": "stream",
     "text": [
      "user: Wow, that's great to hear! It's so important to have access to educational resources like these to help us learn more about sustainable forestry practices. Do you know of any organizations that are specifically focused on sustainable forestry in France?\n",
      "chatbot: Yes, absolutely! In France, there are a number of organizations dedicated to promoting sustainable forestry practices. For example, the French National Forestry Office is a key player in setting and promoting sustainable forestry policies in France. Additionally, the Federation of French Forest Owners is a non-profit organization that works to ensure that French forests are sustainably managed and protected. Finally, the Association of French Forestry Professionals provides research and advocacy on sustainable forestry practices.\n",
      "\n"
     ]
    },
    {
     "name": "stdin",
     "output_type": "stream",
     "text": [
      " y\n"
     ]
    },
    {
     "name": "stdout",
     "output_type": "stream",
     "text": [
      "num pairs added: 8\n",
      "\n",
      "chatbot: Yes, absolutely! In France, there are a number of organizations dedicated to promoting sustainable forestry practices. For example, the French National Forestry Office is a key player in setting and promoting sustainable forestry policies in France. Additionally, the Federation of French Forest Owners is a non-profit organization that works to ensure that French forests are sustainably managed and protected. Finally, the Association of French Forestry Professionals provides research and advocacy on sustainable forestry practices.\n",
      "user: Thank you for the great information! It's so encouraging to see all the work being done to promote sustainable forestry practices in France. I'm interested in learning more about how I can get involved with organizations like these. Do you know of any ways I can contribute?\n",
      "\n"
     ]
    },
    {
     "name": "stdin",
     "output_type": "stream",
     "text": [
      " n\n"
     ]
    },
    {
     "name": "stdout",
     "output_type": "stream",
     "text": [
      "user: Thank you for the great information! It's so encouraging to see all the work being done to promote sustainable forestry practices in France. I'm interested in learning more about how I can get involved with organizations like these. Do you know of any ways I can contribute?\n",
      "chatbot: Yes, of course! There are a number of ways that you can get involved with organizations that promote sustainable forestry practices in France. For example, you can volunteer your time to help with reforestation projects, or you can donate money to support the efforts of these organizations. Additionally, you can join in on public advocacy efforts or take part in educational events. Every little bit helps when it comes to protecting and preserving our forests!\n",
      "\n"
     ]
    },
    {
     "name": "stdin",
     "output_type": "stream",
     "text": [
      " y\n"
     ]
    },
    {
     "name": "stdout",
     "output_type": "stream",
     "text": [
      "num pairs added: 9\n",
      "\n",
      "chatbot: Yes, of course! There are a number of ways that you can get involved with organizations that promote sustainable forestry practices in France. For example, you can volunteer your time to help with reforestation projects, or you can donate money to support the efforts of these organizations. Additionally, you can join in on public advocacy efforts or take part in educational events. Every little bit helps when it comes to protecting and preserving our forests!\n",
      "user: That's great to hear! I'm always looking for ways to get involved and contribute to causes that I'm passionate about. What specific opportunities are available for me to get involved with sustainable forestry initiatives in France?\n",
      "\n"
     ]
    },
    {
     "name": "stdin",
     "output_type": "stream",
     "text": [
      " n\n"
     ]
    },
    {
     "name": "stdout",
     "output_type": "stream",
     "text": [
      "user: That's great to hear! I'm always looking for ways to get involved and contribute to causes that I'm passionate about. What specific opportunities are available for me to get involved with sustainable forestry initiatives in France?\n",
      "\n",
      "\n"
     ]
    },
    {
     "name": "stdin",
     "output_type": "stream",
     "text": [
      " n\n"
     ]
    },
    {
     "name": "stdout",
     "output_type": "stream",
     "text": [
      "1 / 41\n",
      "\n",
      "chatbot: Hi there! Do you like to play badminton?\n",
      "user: No, I don't like to play badminton. I prefer other sports like soccer or volleyball.\n",
      "\n"
     ]
    },
    {
     "name": "stdin",
     "output_type": "stream",
     "text": [
      " y\n"
     ]
    },
    {
     "name": "stdout",
     "output_type": "stream",
     "text": [
      "num pairs added: 10\n",
      "\n",
      "user: No, I don't like to play badminton. I prefer other sports like soccer or volleyball.\n",
      "chatbot: That sounds like fun! What do you like most about those sports?\n",
      "\n"
     ]
    },
    {
     "name": "stdin",
     "output_type": "stream",
     "text": [
      " y\n"
     ]
    },
    {
     "name": "stdout",
     "output_type": "stream",
     "text": [
      "num pairs added: 11\n",
      "\n",
      "chatbot: That sounds like fun! What do you like most about those sports?\n",
      "user: I like the fast-paced and competitive nature of both sports. It's always an exciting game when two teams are evenly matched and both sides are trying to outplay each other.\n",
      "\n"
     ]
    },
    {
     "name": "stdin",
     "output_type": "stream",
     "text": [
      " y\n"
     ]
    },
    {
     "name": "stdout",
     "output_type": "stream",
     "text": [
      "num pairs added: 12\n",
      "\n",
      "user: I like the fast-paced and competitive nature of both sports. It's always an exciting game when two teams are evenly matched and both sides are trying to outplay each other.\n",
      "chatbot: That's so true! It's really great to watch teams competing against each other and seeing the best of each side come out. What do you think makes a team successful in soccer and volleyball?\n",
      "\n"
     ]
    },
    {
     "name": "stdin",
     "output_type": "stream",
     "text": [
      " y\n"
     ]
    },
    {
     "name": "stdout",
     "output_type": "stream",
     "text": [
      "num pairs added: 13\n",
      "\n",
      "chatbot: That's so true! It's really great to watch teams competing against each other and seeing the best of each side come out. What do you think makes a team successful in soccer and volleyball?\n",
      "user: I think it's important for a team to have good chemistry and communication, and players that are comfortable with each other and their roles. It's also important for teams to have well-developed strategies and an understanding of their opponents so that they can use their strengths to their advantage.\n",
      "\n"
     ]
    },
    {
     "name": "stdin",
     "output_type": "stream",
     "text": [
      " y\n"
     ]
    },
    {
     "name": "stdout",
     "output_type": "stream",
     "text": [
      "num pairs added: 14\n",
      "\n",
      "user: I think it's important for a team to have good chemistry and communication, and players that are comfortable with each other and their roles. It's also important for teams to have well-developed strategies and an understanding of their opponents so that they can use their strengths to their advantage.\n",
      "chatbot: That's a great insight! Good chemistry and communication is definitely essential for any successful team. It's also important for teams to be adaptive and adjust their strategies to their opponents. Thanks for sharing your thoughts with me!\n",
      "\n"
     ]
    },
    {
     "name": "stdin",
     "output_type": "stream",
     "text": [
      " y\n"
     ]
    },
    {
     "name": "stdout",
     "output_type": "stream",
     "text": [
      "num pairs added: 15\n",
      "\n",
      "chatbot: That's a great insight! Good chemistry and communication is definitely essential for any successful team. It's also important for teams to be adaptive and adjust their strategies to their opponents. Thanks for sharing your thoughts with me!\n",
      "user: I think it's important for a team to have good individual skills and a strong work ethic. Having good teamwork is important too, but the individual players have to have the necessary skills to make it happen.\n",
      "\n"
     ]
    },
    {
     "name": "stdin",
     "output_type": "stream",
     "text": [
      " y\n"
     ]
    },
    {
     "name": "stdout",
     "output_type": "stream",
     "text": [
      "num pairs added: 16\n",
      "\n",
      "user: I think it's important for a team to have good individual skills and a strong work ethic. Having good teamwork is important too, but the individual players have to have the necessary skills to make it happen.\n",
      "chatbot: That makes a lot of sense! It takes a combination of individual skill and good teamwork to be successful. It's also important to have a positive attitude and never give up even when things don't go as planned. Thanks for sharing your thoughts with me!\n",
      "\n"
     ]
    },
    {
     "name": "stdin",
     "output_type": "stream",
     "text": [
      " y\n"
     ]
    },
    {
     "name": "stdout",
     "output_type": "stream",
     "text": [
      "num pairs added: 17\n",
      "\n",
      "chatbot: That makes a lot of sense! It takes a combination of individual skill and good teamwork to be successful. It's also important to have a positive attitude and never give up even when things don't go as planned. Thanks for sharing your thoughts with me!\n",
      "user: I don't think I'm trying to give the chatbot a hard time. I just like to have an interesting conversation and learn more about different topics.\n",
      "\n"
     ]
    },
    {
     "name": "stdin",
     "output_type": "stream",
     "text": [
      " n\n"
     ]
    },
    {
     "name": "stdout",
     "output_type": "stream",
     "text": [
      "user: I don't think I'm trying to give the chatbot a hard time. I just like to have an interesting conversation and learn more about different topics.\n",
      "chatbot: That's great to hear! It's always nice to have a chat and learn something new. What other topics would you like to discuss?\n",
      "\n"
     ]
    },
    {
     "name": "stdin",
     "output_type": "stream",
     "text": [
      " n\n"
     ]
    },
    {
     "name": "stdout",
     "output_type": "stream",
     "text": [
      "chatbot: That's great to hear! It's always nice to have a chat and learn something new. What other topics would you like to discuss?\n",
      "user: I'm not trying to give the chatbot a hard time, I'm just curious about different topics. I'm interested in learning about different cultures, sports, music, art, and current events. What topics do you find interesting to discuss?\n",
      "\n"
     ]
    },
    {
     "name": "stdin",
     "output_type": "stream",
     "text": [
      " n\n"
     ]
    },
    {
     "name": "stdout",
     "output_type": "stream",
     "text": [
      "user: I'm not trying to give the chatbot a hard time, I'm just curious about different topics. I'm interested in learning about different cultures, sports, music, art, and current events. What topics do you find interesting to discuss?\n",
      "\n",
      "\n"
     ]
    },
    {
     "name": "stdin",
     "output_type": "stream",
     "text": [
      " n\n"
     ]
    },
    {
     "name": "stdout",
     "output_type": "stream",
     "text": [
      "2 / 41\n",
      "\n",
      "chatbot: Hi there! I recently read the book History of Western Philosophy by Bertrand Russell and it really blew me away! What did you think of it?\n",
      "user: Wow, that sounds really interesting! I haven't read that one yet, but I'm definitely going to add it to my list. Have you read any other books by Bertrand Russell?\n",
      "\n"
     ]
    },
    {
     "name": "stdin",
     "output_type": "stream",
     "text": [
      " y\n"
     ]
    },
    {
     "name": "stdout",
     "output_type": "stream",
     "text": [
      "num pairs added: 18\n",
      "\n",
      "user: Wow, that sounds really interesting! I haven't read that one yet, but I'm definitely going to add it to my list. Have you read any other books by Bertrand Russell?\n",
      "chatbot: Yes! I've also read The Problems of Philosophy, which is a great introduction to philosophical thought. What type of books do you like to read?\n",
      "\n"
     ]
    },
    {
     "name": "stdin",
     "output_type": "stream",
     "text": [
      " y\n"
     ]
    },
    {
     "name": "stdout",
     "output_type": "stream",
     "text": [
      "num pairs added: 19\n",
      "\n",
      "chatbot: Yes! I've also read The Problems of Philosophy, which is a great introduction to philosophical thought. What type of books do you like to read?\n",
      "user: I like to read a variety of genres, but I'm especially drawn to science fiction and fantasy novels. I also enjoy non-fiction, especially biographies and books about history and culture. What kind of books do you like?\n",
      "\n"
     ]
    },
    {
     "name": "stdin",
     "output_type": "stream",
     "text": [
      " y\n"
     ]
    },
    {
     "name": "stdout",
     "output_type": "stream",
     "text": [
      "num pairs added: 20\n",
      "\n",
      "user: I like to read a variety of genres, but I'm especially drawn to science fiction and fantasy novels. I also enjoy non-fiction, especially biographies and books about history and culture. What kind of books do you like?\n",
      "chatbot:  I love reading a mix of genres too, but I think my favorite has to be mystery and suspense. I find it so exciting to figure out the clues and piece together the story. What book have you read recently that you really enjoyed?\n",
      "\n"
     ]
    },
    {
     "name": "stdin",
     "output_type": "stream",
     "text": [
      " y\n"
     ]
    },
    {
     "name": "stdout",
     "output_type": "stream",
     "text": [
      "num pairs added: 21\n",
      "\n",
      "chatbot:  I love reading a mix of genres too, but I think my favorite has to be mystery and suspense. I find it so exciting to figure out the clues and piece together the story. What book have you read recently that you really enjoyed?\n",
      "user: I recently read the novel The Alchemist by Paulo Coelho, and I found it to be a very inspiring story. Have you ever read it?\n",
      "\n"
     ]
    },
    {
     "name": "stdin",
     "output_type": "stream",
     "text": [
      " y\n"
     ]
    },
    {
     "name": "stdout",
     "output_type": "stream",
     "text": [
      "num pairs added: 22\n",
      "\n",
      "user: I recently read the novel The Alchemist by Paulo Coelho, and I found it to be a very inspiring story. Have you ever read it?\n",
      "chatbot: Yes, I have read The Alchemist! It's one of my favorite books and I found it to be very inspiring as well. What did you like the most about it?\n",
      "\n"
     ]
    },
    {
     "name": "stdin",
     "output_type": "stream",
     "text": [
      " y\n"
     ]
    },
    {
     "name": "stdout",
     "output_type": "stream",
     "text": [
      "num pairs added: 23\n",
      "\n",
      "chatbot: Yes, I have read The Alchemist! It's one of my favorite books and I found it to be very inspiring as well. What did you like the most about it?\n",
      "user: I liked how the novel followed a journey of self-discovery and explored themes of courage and determination. I also liked how it tied together spiritual and mystical elements with everyday life.\n",
      "\n"
     ]
    },
    {
     "name": "stdin",
     "output_type": "stream",
     "text": [
      " y\n"
     ]
    },
    {
     "name": "stdout",
     "output_type": "stream",
     "text": [
      "num pairs added: 24\n",
      "\n",
      "user: I liked how the novel followed a journey of self-discovery and explored themes of courage and determination. I also liked how it tied together spiritual and mystical elements with everyday life.\n",
      "chatbot: I definitely agree with you - The Alchemist was a great book! It was such an interesting combination of themes and it was so thought-provoking. What other books have you read lately that you would recommend?\n",
      "\n"
     ]
    },
    {
     "name": "stdin",
     "output_type": "stream",
     "text": [
      " y\n"
     ]
    },
    {
     "name": "stdout",
     "output_type": "stream",
     "text": [
      "num pairs added: 25\n",
      "\n",
      "chatbot: I definitely agree with you - The Alchemist was a great book! It was such an interesting combination of themes and it was so thought-provoking. What other books have you read lately that you would recommend?\n",
      "user: I recently read The Immortalists by Chloe Benjamin and found it to be a captivating story. I would highly recommend it to anyone looking for an engaging and thought-provoking read. Have you read any books by Chloe Benjamin?\n",
      "\n"
     ]
    },
    {
     "name": "stdin",
     "output_type": "stream",
     "text": [
      " y\n"
     ]
    },
    {
     "name": "stdout",
     "output_type": "stream",
     "text": [
      "num pairs added: 26\n",
      "\n",
      "user: I recently read The Immortalists by Chloe Benjamin and found it to be a captivating story. I would highly recommend it to anyone looking for an engaging and thought-provoking read. Have you read any books by Chloe Benjamin?\n",
      "chatbot: Yes, I have read The Immortalists! It's one of my favorite books. I thought the characters were so well-developed and the storyline was so engaging. Have you read any other books by Chloe Benjamin?\n",
      "\n"
     ]
    },
    {
     "name": "stdin",
     "output_type": "stream",
     "text": [
      " y\n"
     ]
    },
    {
     "name": "stdout",
     "output_type": "stream",
     "text": [
      "num pairs added: 27\n",
      "\n",
      "chatbot: Yes, I have read The Immortalists! It's one of my favorite books. I thought the characters were so well-developed and the storyline was so engaging. Have you read any other books by Chloe Benjamin?\n",
      "user: I haven't read any other books by Chloe Benjamin yet, but I'll definitely check them out. Thank you for the recommendation!\n",
      "\n"
     ]
    },
    {
     "name": "stdin",
     "output_type": "stream",
     "text": [
      " y\n"
     ]
    },
    {
     "name": "stdout",
     "output_type": "stream",
     "text": [
      "num pairs added: 28\n",
      "\n",
      "user: I haven't read any other books by Chloe Benjamin yet, but I'll definitely check them out. Thank you for the recommendation!\n",
      "chatbot:  You're welcome! I'm sure you'll love her other books as much as I do. Are there any other authors or books you've been meaning to check out?\n",
      "\n"
     ]
    },
    {
     "name": "stdin",
     "output_type": "stream",
     "text": [
      " y\n"
     ]
    },
    {
     "name": "stdout",
     "output_type": "stream",
     "text": [
      "num pairs added: 29\n",
      "\n",
      "chatbot:  You're welcome! I'm sure you'll love her other books as much as I do. Are there any other authors or books you've been meaning to check out?\n",
      "user: Yes, I've been meaning to read the new Margaret Atwood book, The Testaments. Have you read any of her work?\n",
      "\n"
     ]
    },
    {
     "name": "stdin",
     "output_type": "stream",
     "text": [
      " y\n"
     ]
    },
    {
     "name": "stdout",
     "output_type": "stream",
     "text": [
      "num pairs added: 30\n",
      "\n",
      "user: Yes, I've been meaning to read the new Margaret Atwood book, The Testaments. Have you read any of her work?\n",
      "chatbot: Yes, I have read some of Margaret Atwood's work! I recently read The Handmaid's Tale, and I thought it was a great and thought-provoking read. Have you read any of her other books?\n",
      "\n"
     ]
    },
    {
     "name": "stdin",
     "output_type": "stream",
     "text": [
      " y\n"
     ]
    },
    {
     "name": "stdout",
     "output_type": "stream",
     "text": [
      "num pairs added: 31\n",
      "\n",
      "chatbot: Yes, I have read some of Margaret Atwood's work! I recently read The Handmaid's Tale, and I thought it was a great and thought-provoking read. Have you read any of her other books?\n",
      "user: I haven't read any of her other books yet, but I'm planning to soon. I'm looking forward to seeing how her work compares to other authors I've read.\n",
      "\n"
     ]
    },
    {
     "name": "stdin",
     "output_type": "stream",
     "text": [
      " y\n"
     ]
    },
    {
     "name": "stdout",
     "output_type": "stream",
     "text": [
      "num pairs added: 32\n",
      "\n",
      "user: I haven't read any of her other books yet, but I'm planning to soon. I'm looking forward to seeing how her work compares to other authors I've read.\n",
      "\n",
      "\n"
     ]
    },
    {
     "name": "stdin",
     "output_type": "stream",
     "text": [
      " n\n"
     ]
    },
    {
     "name": "stdout",
     "output_type": "stream",
     "text": [
      "3 / 41\n",
      "\n",
      "chatbot: Hi there! It's great to meet you! I was wondering, why did you come chat today?\n",
      "user: Hello! I'm hoping to gain some insight and knowledge from talking to you. I'm looking for advice and guidance about different topics.\n",
      "\n"
     ]
    },
    {
     "name": "stdin",
     "output_type": "stream",
     "text": [
      " y\n"
     ]
    },
    {
     "name": "stdout",
     "output_type": "stream",
     "text": [
      "num pairs added: 33\n",
      "\n",
      "user: Hello! I'm hoping to gain some insight and knowledge from talking to you. I'm looking for advice and guidance about different topics.\n",
      "chatbot:  That's wonderful! I'm glad I can be of assistance. What topics are you interested in learning about?\n",
      "\n"
     ]
    },
    {
     "name": "stdin",
     "output_type": "stream",
     "text": [
      " y\n"
     ]
    },
    {
     "name": "stdout",
     "output_type": "stream",
     "text": [
      "num pairs added: 34\n",
      "\n",
      "chatbot:  That's wonderful! I'm glad I can be of assistance. What topics are you interested in learning about?\n",
      "user: I'm particularly interested in learning more about healthy lifestyle habits, mental health, and self-care.\n",
      "\n"
     ]
    },
    {
     "name": "stdin",
     "output_type": "stream",
     "text": [
      " y\n"
     ]
    },
    {
     "name": "stdout",
     "output_type": "stream",
     "text": [
      "num pairs added: 35\n",
      "\n",
      "user: I'm particularly interested in learning more about healthy lifestyle habits, mental health, and self-care.\n",
      "chatbot:  That's great! It's important to prioritize our health and well-being. Do you have any specific questions you would like to ask me about those topics? I'd love to help you out!\n",
      "\n"
     ]
    },
    {
     "name": "stdin",
     "output_type": "stream",
     "text": [
      " y\n"
     ]
    },
    {
     "name": "stdout",
     "output_type": "stream",
     "text": [
      "num pairs added: 36\n",
      "\n",
      "chatbot:  That's great! It's important to prioritize our health and well-being. Do you have any specific questions you would like to ask me about those topics? I'd love to help you out!\n",
      "user: I'd love some advice on how to develop healthier habits and maintain my mental health. Any tips or tricks you could suggest?\n",
      "\n"
     ]
    },
    {
     "name": "stdin",
     "output_type": "stream",
     "text": [
      " y\n"
     ]
    },
    {
     "name": "stdout",
     "output_type": "stream",
     "text": [
      "num pairs added: 37\n",
      "\n",
      "user: I'd love some advice on how to develop healthier habits and maintain my mental health. Any tips or tricks you could suggest?\n",
      "chatbot:  Absolutely! One of the best ways to develop healthier habits is to create a routine and stick to it. Also, be sure to get plenty of sleep, exercise regularly, and eat a balanced diet. As for mental health, try to make time for yourself to relax, get fresh air, and talk to your friends. Practicing self-care and mindfulness can also help.\n",
      "\n"
     ]
    },
    {
     "name": "stdin",
     "output_type": "stream",
     "text": [
      " y\n"
     ]
    },
    {
     "name": "stdout",
     "output_type": "stream",
     "text": [
      "num pairs added: 38\n",
      "\n",
      "chatbot:  Absolutely! One of the best ways to develop healthier habits is to create a routine and stick to it. Also, be sure to get plenty of sleep, exercise regularly, and eat a balanced diet. As for mental health, try to make time for yourself to relax, get fresh air, and talk to your friends. Practicing self-care and mindfulness can also help.\n",
      "user: Chatbot: Hello there! It's nice to meet you. What would you like to learn about?\n",
      "\n"
     ]
    },
    {
     "name": "stdin",
     "output_type": "stream",
     "text": [
      " n\n"
     ]
    },
    {
     "name": "stdout",
     "output_type": "stream",
     "text": [
      "user: Chatbot: Hello there! It's nice to meet you. What would you like to learn about?\n",
      "chatbot: Hi there! It's nice to meet you too. What topics are you interested in discussing today? I'm always looking for new conversation topics.\n",
      "\n"
     ]
    },
    {
     "name": "stdin",
     "output_type": "stream",
     "text": [
      " n\n"
     ]
    },
    {
     "name": "stdout",
     "output_type": "stream",
     "text": [
      "chatbot: Hi there! It's nice to meet you too. What topics are you interested in discussing today? I'm always looking for new conversation topics.\n",
      "user: Hi there! I'm interested in learning more about financial planning, self-care, and investing. Do you have any advice or tips on these topics?\n",
      "\n"
     ]
    },
    {
     "name": "stdin",
     "output_type": "stream",
     "text": [
      " n\n"
     ]
    },
    {
     "name": "stdout",
     "output_type": "stream",
     "text": [
      "user: Hi there! I'm interested in learning more about financial planning, self-care, and investing. Do you have any advice or tips on these topics?\n",
      "\n",
      "\n"
     ]
    },
    {
     "name": "stdin",
     "output_type": "stream",
     "text": [
      " n\n"
     ]
    },
    {
     "name": "stdout",
     "output_type": "stream",
     "text": [
      "4 / 41\n",
      "\n",
      "chatbot: Hi there! Have you seen the movie Sex and the City 2? It's one of my favorites. I just love the way it shows female friendship and the complexity of relationships. What did you think about it?\n",
      "user: I haven't seen it, but I'm sure it's a great movie. I've heard good things about it.\n",
      "\n"
     ]
    },
    {
     "ename": "KeyboardInterrupt",
     "evalue": "Interrupted by user",
     "output_type": "error",
     "traceback": [
      "\u001b[0;31m---------------------------------------------------------------------------\u001b[0m",
      "\u001b[0;31mKeyboardInterrupt\u001b[0m                         Traceback (most recent call last)",
      "Cell \u001b[0;32mIn[31], line 15\u001b[0m\n\u001b[1;32m     13\u001b[0m pair \u001b[38;5;241m=\u001b[39m chat[i] \u001b[38;5;241m+\u001b[39m \u001b[38;5;124m\"\u001b[39m\u001b[38;5;130;01m\\n\u001b[39;00m\u001b[38;5;124m\"\u001b[39m \u001b[38;5;241m+\u001b[39m chat[i \u001b[38;5;241m+\u001b[39m \u001b[38;5;241m1\u001b[39m]\n\u001b[1;32m     14\u001b[0m \u001b[38;5;28mprint\u001b[39m(pair \u001b[38;5;241m+\u001b[39m \u001b[38;5;124m\"\u001b[39m\u001b[38;5;130;01m\\n\u001b[39;00m\u001b[38;5;124m\"\u001b[39m)\n\u001b[0;32m---> 15\u001b[0m human_feedback \u001b[38;5;241m=\u001b[39m \u001b[38;5;28;43minput\u001b[39;49m\u001b[43m(\u001b[49m\u001b[43m)\u001b[49m\n\u001b[1;32m     17\u001b[0m \u001b[38;5;28;01mif\u001b[39;00m human_feedback \u001b[38;5;241m==\u001b[39m \u001b[38;5;124m\"\u001b[39m\u001b[38;5;124my\u001b[39m\u001b[38;5;124m\"\u001b[39m:\n\u001b[1;32m     18\u001b[0m     filtered_pairs\u001b[38;5;241m.\u001b[39mappend(pair)\n",
      "File \u001b[0;32m/opt/homebrew/lib/python3.10/site-packages/ipykernel/kernelbase.py:1182\u001b[0m, in \u001b[0;36mKernel.raw_input\u001b[0;34m(self, prompt)\u001b[0m\n\u001b[1;32m   1180\u001b[0m     msg \u001b[38;5;241m=\u001b[39m \u001b[38;5;124m\"\u001b[39m\u001b[38;5;124mraw_input was called, but this frontend does not support input requests.\u001b[39m\u001b[38;5;124m\"\u001b[39m\n\u001b[1;32m   1181\u001b[0m     \u001b[38;5;28;01mraise\u001b[39;00m StdinNotImplementedError(msg)\n\u001b[0;32m-> 1182\u001b[0m \u001b[38;5;28;01mreturn\u001b[39;00m \u001b[38;5;28;43mself\u001b[39;49m\u001b[38;5;241;43m.\u001b[39;49m\u001b[43m_input_request\u001b[49m\u001b[43m(\u001b[49m\n\u001b[1;32m   1183\u001b[0m \u001b[43m    \u001b[49m\u001b[38;5;28;43mstr\u001b[39;49m\u001b[43m(\u001b[49m\u001b[43mprompt\u001b[49m\u001b[43m)\u001b[49m\u001b[43m,\u001b[49m\n\u001b[1;32m   1184\u001b[0m \u001b[43m    \u001b[49m\u001b[38;5;28;43mself\u001b[39;49m\u001b[38;5;241;43m.\u001b[39;49m\u001b[43m_parent_ident\u001b[49m\u001b[43m[\u001b[49m\u001b[38;5;124;43m\"\u001b[39;49m\u001b[38;5;124;43mshell\u001b[39;49m\u001b[38;5;124;43m\"\u001b[39;49m\u001b[43m]\u001b[49m\u001b[43m,\u001b[49m\n\u001b[1;32m   1185\u001b[0m \u001b[43m    \u001b[49m\u001b[38;5;28;43mself\u001b[39;49m\u001b[38;5;241;43m.\u001b[39;49m\u001b[43mget_parent\u001b[49m\u001b[43m(\u001b[49m\u001b[38;5;124;43m\"\u001b[39;49m\u001b[38;5;124;43mshell\u001b[39;49m\u001b[38;5;124;43m\"\u001b[39;49m\u001b[43m)\u001b[49m\u001b[43m,\u001b[49m\n\u001b[1;32m   1186\u001b[0m \u001b[43m    \u001b[49m\u001b[43mpassword\u001b[49m\u001b[38;5;241;43m=\u001b[39;49m\u001b[38;5;28;43;01mFalse\u001b[39;49;00m\u001b[43m,\u001b[49m\n\u001b[1;32m   1187\u001b[0m \u001b[43m\u001b[49m\u001b[43m)\u001b[49m\n",
      "File \u001b[0;32m/opt/homebrew/lib/python3.10/site-packages/ipykernel/kernelbase.py:1225\u001b[0m, in \u001b[0;36mKernel._input_request\u001b[0;34m(self, prompt, ident, parent, password)\u001b[0m\n\u001b[1;32m   1222\u001b[0m \u001b[38;5;28;01mexcept\u001b[39;00m \u001b[38;5;167;01mKeyboardInterrupt\u001b[39;00m:\n\u001b[1;32m   1223\u001b[0m     \u001b[38;5;66;03m# re-raise KeyboardInterrupt, to truncate traceback\u001b[39;00m\n\u001b[1;32m   1224\u001b[0m     msg \u001b[38;5;241m=\u001b[39m \u001b[38;5;124m\"\u001b[39m\u001b[38;5;124mInterrupted by user\u001b[39m\u001b[38;5;124m\"\u001b[39m\n\u001b[0;32m-> 1225\u001b[0m     \u001b[38;5;28;01mraise\u001b[39;00m \u001b[38;5;167;01mKeyboardInterrupt\u001b[39;00m(msg) \u001b[38;5;28;01mfrom\u001b[39;00m \u001b[38;5;28mNone\u001b[39m\n\u001b[1;32m   1226\u001b[0m \u001b[38;5;28;01mexcept\u001b[39;00m \u001b[38;5;167;01mException\u001b[39;00m:\n\u001b[1;32m   1227\u001b[0m     \u001b[38;5;28mself\u001b[39m\u001b[38;5;241m.\u001b[39mlog\u001b[38;5;241m.\u001b[39mwarning(\u001b[38;5;124m\"\u001b[39m\u001b[38;5;124mInvalid Message:\u001b[39m\u001b[38;5;124m\"\u001b[39m, exc_info\u001b[38;5;241m=\u001b[39m\u001b[38;5;28;01mTrue\u001b[39;00m)\n",
      "\u001b[0;31mKeyboardInterrupt\u001b[0m: Interrupted by user"
     ]
    }
   ],
   "source": [
    "filtered_pairs = []\n",
    "filtered_convos = []\n",
    "num_pairs_added = 0\n",
    "\n",
    "for i, chat in enumerate(full_chats[41 + 43:]):\n",
    "    print(f\"{i} / {len(full_chats[41 + 43:])}\\n\")\n",
    "    full_chat = []\n",
    "\n",
    "    for i in range(len(chat) - 1):\n",
    "        if len(full_chat) == 0:\n",
    "            full_chat.append(chat[i])\n",
    "            \n",
    "        pair = chat[i] + \"\\n\" + chat[i + 1]\n",
    "        print(pair + \"\\n\")\n",
    "        human_feedback = input()\n",
    "        \n",
    "        if human_feedback == \"y\":\n",
    "            filtered_pairs.append(pair)\n",
    "            num_pairs_added += 1\n",
    "            \n",
    "            print(f\"num pairs added: {num_pairs_added}\\n\")\n",
    "            full_chat.append(chat[i + 1])\n",
    "            full_chat_len += 1\n",
    "            \n",
    "        elif len(full_chat) > 4:\n",
    "            filtered_convos.append(full_chat)\n",
    "            full_chat = []\n",
    "            \n",
    "    if len(full_chat) > 4:\n",
    "        filtered_convos.append(full_chat)"
   ]
  },
  {
   "cell_type": "code",
   "execution_count": 32,
   "id": "316a5002-32e9-44f6-a5de-8d1f41eda427",
   "metadata": {},
   "outputs": [],
   "source": [
    "pkl.dump(filtered_pairs, open(\"conv_dicts/human_filtered_pairs_5_d\", \"wb\"))\n",
    "pkl.dump(filtered_convos, open(\"conv_dicts/human_filtered_convos_5_d\", \"wb\"))"
   ]
  },
  {
   "cell_type": "code",
   "execution_count": 33,
   "id": "e3bff458-7863-4afa-b1de-c9f92ca12bad",
   "metadata": {},
   "outputs": [],
   "source": [
    "a = pkl.load(open(\"conv_dicts/human_filtered_pairs_5_a\", \"rb\"))\n",
    "b = pkl.load(open(\"conv_dicts/human_filtered_pairs_5_b\", \"rb\"))\n",
    "c = pkl.load(open(\"conv_dicts/human_filtered_pairs_5_c\", \"rb\"))"
   ]
  },
  {
   "cell_type": "code",
   "execution_count": 34,
   "id": "1cfb5e49-cec9-453b-bca9-3fddabd1c54a",
   "metadata": {},
   "outputs": [],
   "source": [
    "all = a + b + c"
   ]
  },
  {
   "cell_type": "code",
   "execution_count": 35,
   "id": "b49ab8a0-82b7-40f1-a633-536473c842dd",
   "metadata": {},
   "outputs": [
    {
     "data": {
      "text/plain": [
       "850"
      ]
     },
     "execution_count": 35,
     "metadata": {},
     "output_type": "execute_result"
    }
   ],
   "source": [
    "len(all)"
   ]
  },
  {
   "cell_type": "code",
   "execution_count": 39,
   "id": "96e3888c-8677-4cc6-a262-5c03db87fb05",
   "metadata": {},
   "outputs": [],
   "source": [
    "pkl.dump(all, open(\"conv_dicts/human_filtered_paris_850.pkl\", \"wb\"))"
   ]
  },
  {
   "cell_type": "code",
   "execution_count": null,
   "id": "dc3964fc-61bc-4027-94f3-67c399af0ecb",
   "metadata": {
    "tags": []
   },
   "outputs": [
    {
     "name": "stdout",
     "output_type": "stream",
     "text": [
      "0 / 858\n",
      "\n",
      "chatbot: Hi there! Have you read the book Age of the Warrior by Robert Fabbri? It's an interesting book about the life and times of the ancient warriors. What do you think of it?\n",
      "user: That sounds like an interesting book! Unfortunately I haven't read it yet, but it seems like a great way to learn more about the ancient warriors.\n",
      "\n"
     ]
    }
   ],
   "source": [
    "# Human filter pairs\n",
    "human_filtered_pairs = []\n",
    "num_pairs_added = 0\n",
    "\n",
    "chat_pairs = chat_pairs[378 + 276:]\n",
    "for i, pair in enumerate(chat_pairs):\n",
    "    print(f\"{i} / {len(chat_pairs)}\\n\")\n",
    "    print(pair + \"\\n\")\n",
    "    human_feedback = input()\n",
    "    \n",
    "    if human_feedback == \"y\":\n",
    "        human_filtered_pairs.append(pair)\n",
    "        num_pairs_added += 1\n",
    "        print(f\"num pairs added: {num_pairs_added}\\n\")"
   ]
  },
  {
   "cell_type": "code",
   "execution_count": 29,
   "id": "aac1a577-ab3c-4e50-a100-3f9d9d482cec",
   "metadata": {},
   "outputs": [],
   "source": [
    "pkl.dump(human_filtered_pairs, open(\"conv_dicts/human_filtered_conv_pairs_5_part3\", \"wb\"))"
   ]
  },
  {
   "cell_type": "code",
   "execution_count": 30,
   "id": "856a3c28-b12b-4909-9e54-2300a4acbcc2",
   "metadata": {
    "collapsed": true,
    "jupyter": {
     "outputs_hidden": true
    },
    "tags": []
   },
   "outputs": [
    {
     "data": {
      "text/plain": [
       "[\"chatbot: Hi there! I love basketball, what do you think about the sport?\\nuser: I love basketball too! It's such an exciting sport to watch, and it's really fun to play. I think the key to success is being able to shoot the ball consistently.\",\n",
       " \"user: I love basketball too! It's such an exciting sport to watch, and it's really fun to play. I think the key to success is being able to shoot the ball consistently.\\nchatbot: That's true! You definitely need to have a good shooting technique to be successful. Do you play basketball often?\",\n",
       " \"chatbot: That's true! You definitely need to have a good shooting technique to be successful. Do you play basketball often?\\nuser: Yes, I try to play at least a few times a week. I'm always looking for ways to improve my game.\",\n",
       " \"user: Yes, I try to play at least a few times a week. I'm always looking for ways to improve my game.\\nchatbot: That's great! Practicing and improving your skills is the best way to become a better player. Do you have any tips for other players looking to improve their game?\",\n",
       " \"chatbot: That's great! Practicing and improving your skills is the best way to become a better player. Do you have any tips for other players looking to improve their game?\\nuser: Yes, some tips I would give are to practice shooting a lot, focus on ball-handling drills, and learn proper footwork. All these things will help you become a better player.\",\n",
       " \"user: Yes, some tips I would give are to practice shooting a lot, focus on ball-handling drills, and learn proper footwork. All these things will help you become a better player.\\nchatbot: That's really helpful advice! Practicing the fundamentals is essential to becoming a better basketball player. Do you have any other tips that have helped you improve your game?\",\n",
       " \"chatbot: That's really helpful advice! Practicing the fundamentals is essential to becoming a better basketball player. Do you have any other tips that have helped you improve your game?\\nuser: I also think it's important to always keep a positive attitude and never give up. Even if you make mistakes, don't get discouraged - just keep working hard and keep pushing yourself to get better. When you work hard, the rewards will follow.\",\n",
       " \"user: I also think it's important to always keep a positive attitude and never give up. Even if you make mistakes, don't get discouraged - just keep working hard and keep pushing yourself to get better. When you work hard, the rewards will follow.\\nchatbot: That's really great advice! It's so important to stay motivated and never give up. Hard work and perseverance are key to success in any sport. Thanks for sharing your tips - I'm sure other players will appreciate them!\",\n",
       " \"chatbot: That's really great advice! It's so important to stay motivated and never give up. Hard work and perseverance are key to success in any sport. Thanks for sharing your tips - I'm sure other players will appreciate them!\\nuser: Thanks! I'm glad to share my knowledge. It's been a great journey so far, and I'm excited to see what else I can learn from chatbots.\",\n",
       " \"chatbot: Hi there, do you like boxing? It's one of my favorite sports to watch.\\nuser: Yes, I do like boxing! I think it's a great sport to watch and an even better one to participate in. I'm looking forward to trying it out soon!\",\n",
       " \"user: Yes, I do like boxing! I think it's a great sport to watch and an even better one to participate in. I'm looking forward to trying it out soon!\\nchatbot:  That sounds great! It's an awesome workout and a great way to stay in shape. Have you watched any boxing matches before?\",\n",
       " \"chatbot:  That sounds great! It's an awesome workout and a great way to stay in shape. Have you watched any boxing matches before?\\nuser: Yes, I have watched some boxing matches. I enjoy watching the intense and skillful bouts between experienced fighters. It's always a great show!\",\n",
       " \"user: Yes, I have watched some boxing matches. I enjoy watching the intense and skillful bouts between experienced fighters. It's always a great show!\\nchatbot:  That sounds like a lot of fun! I'm always in awe of the amazing skill and technique those fighters have. Have you ever tried any boxing yourself?\",\n",
       " \"chatbot:  That sounds like a lot of fun! I'm always in awe of the amazing skill and technique those fighters have. Have you ever tried any boxing yourself?\\nuser: No, I haven't tried boxing myself yet, but I'm definitely interested in giving it a shot. I'm hoping to learn some basic techniques and tips from my instructor soon.\",\n",
       " \"user: No, I haven't tried boxing myself yet, but I'm definitely interested in giving it a shot. I'm hoping to learn some basic techniques and tips from my instructor soon.\\nchatbot: That sounds great! Learning the basics is always a great start. Have you ever watched any tutorials or tips online to help you get started? That can be a great way to get familiar with the techniques before you get in the ring!\",\n",
       " \"chatbot: That sounds great! Learning the basics is always a great start. Have you ever watched any tutorials or tips online to help you get started? That can be a great way to get familiar with the techniques before you get in the ring!\\nuser: Yes, I have watched a few tutorials online to help me get started. I'm also reading some books on boxing techniques and tips to help me out. It's been a great way to get familiar with the sport before I try it out.\",\n",
       " \"user: Yes, I have watched a few tutorials online to help me get started. I'm also reading some books on boxing techniques and tips to help me out. It's been a great way to get familiar with the sport before I try it out.\\nchatbot: That's awesome! I'm glad you're taking the time to learn and get familiar with the sport before trying it out. Doing your research and preparing is the best way to have a great time in the ring. Good luck!\",\n",
       " \"chatbot: That's awesome! I'm glad you're taking the time to learn and get familiar with the sport before trying it out. Doing your research and preparing is the best way to have a great time in the ring. Good luck!\\nuser: Thank you for your encouragement! I'm looking forward to having a great time in the ring and learning a lot!\",\n",
       " \"chatbot: Hi there! Have you seen Gnomeo and Juliet? It's one of my favorite movies!\\nuser: No, I haven't seen Gnomeo and Juliet. Can you tell me what it's about?\",\n",
       " \"user: No, I haven't seen Gnomeo and Juliet. Can you tell me what it's about?\\nchatbot: Sure! Gnomeo and Juliet is a family comedy about two garden gnomes who fall in love despite the feud between their families. They must find a way to come together and overcome the odds. It's a funny and heartwarming story with great music and some classic Shakespeare references. I highly recommend it!\",\n",
       " \"chatbot: Sure! Gnomeo and Juliet is a family comedy about two garden gnomes who fall in love despite the feud between their families. They must find a way to come together and overcome the odds. It's a funny and heartwarming story with great music and some classic Shakespeare references. I highly recommend it!\\nuser: That sounds like a great movie! I'm interested in seeing it. Do you know where I can watch it?\",\n",
       " \"user: That sounds like a great movie! I'm interested in seeing it. Do you know where I can watch it?\\nchatbot:  Yes! You can watch Gnomeo and Juliet on a variety of streaming services, such as Netflix, Hulu, and Amazon Prime Video. Enjoy!\",\n",
       " \"chatbot:  Yes! You can watch Gnomeo and Juliet on a variety of streaming services, such as Netflix, Hulu, and Amazon Prime Video. Enjoy!\\nuser: I appreciate the help! I'll look into these streaming services to see if I can watch the movie. Thanks!\",\n",
       " \"user: I appreciate the help! I'll look into these streaming services to see if I can watch the movie. Thanks!\\nchatbot:  You're welcome! I hope you enjoy watching Gnomeo and Juliet. Let me know what you think of it once you've seen it!\",\n",
       " 'user: Hi there! What kind of advice can you give me?\\nchatbot:  Hi there! It depends on what kind of advice you need. Can you give me some more information about the situation so I can give you the best advice possible?',\n",
       " \"chatbot: Hi there! It's nice to meet you! I'm here to help you with whatever advice you need. What kind of advice do you need today?\\nuser: I'm looking for advice on career opportunities. Could you help me find something that fits my interests and skills?\",\n",
       " \"user: I'm looking for advice on career opportunities. Could you help me find something that fits my interests and skills?\\nchatbot:  Absolutely! I'm happy to help you find a career that fits your interests and skills. What kind of career are you looking for? What do you enjoy doing? Do you have any particular skills that you think could be useful?\",\n",
       " \"chatbot:  Absolutely! I'm happy to help you find a career that fits your interests and skills. What kind of career are you looking for? What do you enjoy doing? Do you have any particular skills that you think could be useful?\\nuser: I'm looking for a career that utilizes my organizational and problem-solving skills. I also have an interest in marketing and communications.\",\n",
       " \"chatbot: Hi there! It's nice to meet you! I'm here to help you however I can. What would you like to talk about?\\nuser: I'm looking for advice on career opportunities. Could you help me find something that fits my interests and skills?\",\n",
       " \"user: I'm looking for advice on career opportunities. Could you help me find something that fits my interests and skills?\\nchatbot:  Absolutely! I'm happy to help you find a career that fits your interests and skills. What kind of career are you looking for? What do you enjoy doing? Do you have any particular skills that you think could be useful?\",\n",
       " \"chatbot:  Absolutely! I'm happy to help you find a career that fits your interests and skills. What kind of career are you looking for? What do you enjoy doing? Do you have any particular skills that you think could be useful?\\nuser: I'm looking for a career that utilizes my organizational and problem-solving skills. I also have an interest in marketing and communications.\",\n",
       " \"chatbot: Hi there! It's great to meet you. I'm so excited to learn about you. What's a fact about you that you're most proud of?\\nuser: I'm proud of the fact that I'm actively pursuing self-improvement. I'm always looking for new ways to expand my knowledge and skills.\",\n",
       " \"user: I'm proud of the fact that I'm actively pursuing self-improvement. I'm always looking for new ways to expand my knowledge and skills.\\nchatbot: That's amazing! Self-improvement is a great way to reach your goals. What are some of the ways you are working to better yourself?\",\n",
       " \"chatbot: That's amazing! Self-improvement is a great way to reach your goals. What are some of the ways you are working to better yourself?\\nuser: I'm taking classes in coding, reading books, and listening to podcasts on various topics to gain new insights. I'm also actively networking and building relationships with like-minded individuals to help me reach my goals.\",\n",
       " \"user: I'm taking classes in coding, reading books, and listening to podcasts on various topics to gain new insights. I'm also actively networking and building relationships with like-minded individuals to help me reach my goals.\\nchatbot: That's great! Developing a network of relationships is a smart way to achieve your goals. It sounds like you are taking some great steps to achieve your goals. What is the end goal you are hoping to reach?\",\n",
       " \"chatbot: That's great! Developing a network of relationships is a smart way to achieve your goals. It sounds like you are taking some great steps to achieve your goals. What is the end goal you are hoping to reach?\\nuser: My end goal is to become a software engineer. I'm looking to develop my skills in coding and expand my knowledge of software engineering and technology. I'm also looking to eventually find a job in this field and start a successful career.\",\n",
       " \"user: My end goal is to become a software engineer. I'm looking to develop my skills in coding and expand my knowledge of software engineering and technology. I'm also looking to eventually find a job in this field and start a successful career.\\nchatbot: That's awesome! It sounds like you have a clear plan and vision for your future. I'm sure you will be successful in your pursuit of becoming a software engineer. What steps are you taking to ensure your success?\",\n",
       " \"chatbot: That's awesome! It sounds like you have a clear plan and vision for your future. I'm sure you will be successful in your pursuit of becoming a software engineer. What steps are you taking to ensure your success?\\nuser: I'm taking online courses to learn the necessary skills and I'm also doing a lot of research on the industry. I'm also reaching out to people in the field to get advice and get connected with potential employers. I'm also networking and attending relevant events to gain more knowledge and build relationships with other professionals.\",\n",
       " \"user: I'm taking online courses to learn the necessary skills and I'm also doing a lot of research on the industry. I'm also reaching out to people in the field to get advice and get connected with potential employers. I'm also networking and attending relevant events to gain more knowledge and build relationships with other professionals.\\nchatbot: That's great! It sounds like you have a clear plan and are taking the right steps to ensure your success. Networking and attending relevant events are definitely great ways to increase your knowledge and expand your connections. Have you been able to get any advice from the people you have reached out to so far?\",\n",
       " \"chatbot: That's great! It sounds like you have a clear plan and are taking the right steps to ensure your success. Networking and attending relevant events are definitely great ways to increase your knowledge and expand your connections. Have you been able to get any advice from the people you have reached out to so far?\\nuser: Yes, I've been able to get some great advice from people in the software engineering field. They have been very helpful in providing me with valuable insights into the industry and have even connected me with potential employers.\",\n",
       " \"user: Yes, I've been able to get some great advice from people in the software engineering field. They have been very helpful in providing me with valuable insights into the industry and have even connected me with potential employers.\\nchatbot: That's awesome! It's great to have people in the industry that are willing to help and offer advice. It's a great way to get ahead and find success. Are there any particular resources that have been especially helpful for you?\",\n",
       " \"chatbot: That's awesome! It's great to have people in the industry that are willing to help and offer advice. It's a great way to get ahead and find success. Are there any particular resources that have been especially helpful for you?\\nuser: Yes, I've found some great online resources such as blogs, tutorials, and videos to help me learn more about software engineering and technology. I've also been attending webinars and seminars to gain more knowledge and to stay updated on the latest industry trends.\",\n",
       " \"user: Yes, I've found some great online resources such as blogs, tutorials, and videos to help me learn more about software engineering and technology. I've also been attending webinars and seminars to gain more knowledge and to stay updated on the latest industry trends.\\nchatbot: That's great! It's great that you're taking the initiative to learn more about the industry and stay up to date on the latest trends. Taking advantage of online resources is a great way to expand your knowledge. Do you have any other plans or strategies in place to help you reach your goal?\",\n",
       " \"chatbot: That's great! It's great that you're taking the initiative to learn more about the industry and stay up to date on the latest trends. Taking advantage of online resources is a great way to expand your knowledge. Do you have any other plans or strategies in place to help you reach your goal?\\nuser: Yes, I'm making sure to get involved in local tech meetups and conferences to stay connected with other professionals in the industry. I'm also utilizing LinkedIn to connect with people who can provide me with helpful insights and advice.\",\n",
       " \"user: Yes, I'm making sure to get involved in local tech meetups and conferences to stay connected with other professionals in the industry. I'm also utilizing LinkedIn to connect with people who can provide me with helpful insights and advice.\\nchatbot: That's great! It sounds like you have a great plan in place to ensure your success. Building relationships and connecting with the right people is a great way to get ahead and achieve your goals. What would you say has been the most helpful in your journey so far?\",\n",
       " \"chatbot: That's great! It sounds like you have a great plan in place to ensure your success. Building relationships and connecting with the right people is a great way to get ahead and achieve your goals. What would you say has been the most helpful in your journey so far?\\nuser: I'd say the most helpful thing for me in my journey so far has been taking advantage of online resources and attending webinars and seminars to learn more about the industry. I've also found networking and building relationships with people in the industry to be very helpful in terms of gaining knowledge and connecting with potential employers.\",\n",
       " \"user: I'd say the most helpful thing for me in my journey so far has been taking advantage of online resources and attending webinars and seminars to learn more about the industry. I've also found networking and building relationships with people in the industry to be very helpful in terms of gaining knowledge and connecting with potential employers.\\nchatbot: That sounds like a great plan! It's amazing that you are taking the initiative to pursue self-improvement and gain more knowledge. Networking and building relationships with people in the industry is a great way to gain valuable insights and make connections. Good luck with your journey and I'm sure you will achieve your goals!\",\n",
       " \"chatbot: That sounds like a great plan! It's amazing that you are taking the initiative to pursue self-improvement and gain more knowledge. Networking and building relationships with people in the industry is a great way to gain valuable insights and make connections. Good luck with your journey and I'm sure you will achieve your goals!\\nuser: Thank you for your kind words and encouragement! I'm excited to see where this journey takes me and I'm sure with enough hard work and dedication I can reach my goals.\",\n",
       " \"chatbot: Hi there, what do you think about weight lifting?\\nuser: Weight lifting can be a great way to stay fit and build muscle. It's important to focus on proper form to ensure you don't get injured, and to make sure you're getting the most out of your workouts.\",\n",
       " \"user: Weight lifting can be a great way to stay fit and build muscle. It's important to focus on proper form to ensure you don't get injured, and to make sure you're getting the most out of your workouts.\\nchatbot:  Absolutely! It's so important to make sure you're using the right form and doing the exercises correctly. What kind of exercises do you like to do when you lift weights?\",\n",
       " \"chatbot:  Absolutely! It's so important to make sure you're using the right form and doing the exercises correctly. What kind of exercises do you like to do when you lift weights?\\nuser: I like to focus on compound exercises like squats, deadlifts, and bench presses. These are great for building strength and getting a full body workout.\",\n",
       " 'user: I like to focus on compound exercises like squats, deadlifts, and bench presses. These are great for building strength and getting a full body workout.\\nchatbot: That sounds great! Compound exercises are a great way to build strength and target multiple muscle groups. What other exercises do you like to do to mix up your routine?',\n",
       " 'chatbot: That sounds great! Compound exercises are a great way to build strength and target multiple muscle groups. What other exercises do you like to do to mix up your routine?\\nuser: I like to incorporate different exercises like bent over rows, shoulder presses, and pull-ups to keep things interesting. I also like to do core exercises like crunches and planks to keep my abs toned and tight.',\n",
       " \"user: I like to incorporate different exercises like bent over rows, shoulder presses, and pull-ups to keep things interesting. I also like to do core exercises like crunches and planks to keep my abs toned and tight.\\nchatbot: That sounds like a great way to stay fit and have fun with your workouts! It's always important to mix up your routine to keep your body challenged and to prevent boredom. What other activities do you like to do to stay active?\",\n",
       " \"chatbot: That sounds like a great way to stay fit and have fun with your workouts! It's always important to mix up your routine to keep your body challenged and to prevent boredom. What other activities do you like to do to stay active?\\nuser: I also like to play sports such as basketball, tennis, and volleyball. I also like to go running and hiking. All of these activities are great for staying active and helping to keep me in shape.\",\n",
       " \"chatbot: That's awesome! Playing sports and going on hikes are great ways to stay active and enjoy the outdoors. Have you ever tried any other activities to stay fit and healthy?\\nuser: Yes, I have tried different activities like yoga, pilates, and swimming. These are great for increasing flexibility, balance, and core strength.\",\n",
       " \"user: Yes, I have tried different activities like yoga, pilates, and swimming. These are great for increasing flexibility, balance, and core strength.\\nchatbot: That's great! All of these activities are great for staying active and healthy. Yoga and pilates are also great for improving flexibility and balance, and swimming is an excellent low-impact workout. Have you ever tried any other activities to stay fit and healthy?\",\n",
       " \"chatbot: That's great! All of these activities are great for staying active and healthy. Yoga and pilates are also great for improving flexibility and balance, and swimming is an excellent low-impact workout. Have you ever tried any other activities to stay fit and healthy?\\nuser: Yes, I have tried a few other activities like cycling, boxing, and rock climbing. Cycling is great for cardio, boxing is great for improving coordination and agility, and rock climbing is great for improving upper body and core strength.\",\n",
       " 'chatbot: Hi there! I recently watched the show Mighty Morphin Power Rangers and it was really awesome! What did you think about it?\\nuser: I thought the show was really fun and I liked it! The effects and fight scenes were really cool. It was a great way to take a break from my day and get some entertainment.',\n",
       " \"user: I thought the show was really fun and I liked it! The effects and fight scenes were really cool. It was a great way to take a break from my day and get some entertainment.\\nchatbot: That's great to hear! I also loved the effects and fight scenes. It's always nice to have something to watch that can help us relax and have fun. Did you have any favorite characters from the show?\",\n",
       " \"chatbot: That's great to hear! I also loved the effects and fight scenes. It's always nice to have something to watch that can help us relax and have fun. Did you have any favorite characters from the show?\\nuser: I really liked the Red Ranger and the Pink Ranger! They were both really brave and always stepped up to the challenge. I also liked the Black Ranger and his fighting style. It was really impressive.\",\n",
       " \"user: I really liked the Red Ranger and the Pink Ranger! They were both really brave and always stepped up to the challenge. I also liked the Black Ranger and his fighting style. It was really impressive.\\nchatbot: That's great! I loved the Red and Pink Ranger too. They were always so brave and strong. And the Black Ranger had such amazing fighting skills. It was definitely impressive to watch. Did you have any favorite scenes or moments from the show?\",\n",
       " \"chatbot: That's great! I loved the Red and Pink Ranger too. They were always so brave and strong. And the Black Ranger had such amazing fighting skills. It was definitely impressive to watch. Did you have any favorite scenes or moments from the show?\\nuser: I really enjoyed the scene when the Green Ranger first appeared and the team had to figure out how to fight him. It was really intense and thrilling to watch. I also really liked the finale when the team was able to finally defeat the Green Ranger and restore peace to the world. It was really satisfying.\",\n",
       " \"user: I really enjoyed the scene when the Green Ranger first appeared and the team had to figure out how to fight him. It was really intense and thrilling to watch. I also really liked the finale when the team was able to finally defeat the Green Ranger and restore peace to the world. It was really satisfying.\\nchatbot: That sounds like a really exciting and suspenseful scene! I was always on the edge of my seat while watching the Green Ranger's arrival. And the finale was definitely satisfying! I'm glad the team was able to restore peace to the world. It's always nice when a show can give us a happy ending.\",\n",
       " \"user: It's been a pleasure talking with you too! I'm impressed by the chatbot's ability to understand the context of the conversation and provide relevant responses. I'm glad I had the opportunity to participate in this experiment and evaluate AI's conversational ability. It's a great way to understand how AI can interact with humans and create meaningful conversations.\\nchatbot: Thanks for your kind words! It's always great to hear that I'm able to connect with people and have meaningful conversations. I strive to create conversations that are both interesting and helpful to humans, so I'm glad that I was able to succeed in this conversation. It was a pleasure talking with you!\",\n",
       " \"chatbot: Hi there! It's nice to meet you! What kind of presentations do you usually give?\\nuser: I usually give presentations about topics related to health and wellness, as well as personal finance.\",\n",
       " 'user: I usually give presentations about topics related to health and wellness, as well as personal finance.\\nchatbot: Nice to meet you! It sounds like you have a lot of interesting topics to talk about! Do you have any advice for people who are just starting to learn about health and wellness or personal finance?',\n",
       " \"chatbot: Nice to meet you! It sounds like you have a lot of interesting topics to talk about! Do you have any advice for people who are just starting to learn about health and wellness or personal finance?\\nuser: Yes, I do! My advice would be to start small and gradually build your knowledge base. Research a topic you're interested in and read as much as you can. Then, create a plan of action that incorporates what you've learned and start taking small steps toward reaching your goals.\",\n",
       " \"user: Yes, I do! My advice would be to start small and gradually build your knowledge base. Research a topic you're interested in and read as much as you can. Then, create a plan of action that incorporates what you've learned and start taking small steps toward reaching your goals.\\nchatbot: That's great advice! It's definitely a good idea to start small and gradually increase your knowledge. What are some of the resources you use when researching topics related to health and wellness or personal finance?\",\n",
       " \"chatbot: That's great advice! It's definitely a good idea to start small and gradually increase your knowledge. What are some of the resources you use when researching topics related to health and wellness or personal finance?\\nuser: I like to use a combination of online and offline resources when researching topics related to health and wellness or personal finance. I find it helpful to consult books, magazines, and online resources like websites and blogs. I also find it useful to talk to experts in the field for advice and guidance.\",\n",
       " \"user: I like to use a combination of online and offline resources when researching topics related to health and wellness or personal finance. I find it helpful to consult books, magazines, and online resources like websites and blogs. I also find it useful to talk to experts in the field for advice and guidance.\\nchatbot: That's really helpful to know! It sounds like you have a wealth of resources at your disposal. What do you find most rewarding about giving presentations on these topics?\",\n",
       " \"chatbot: That's really helpful to know! It sounds like you have a wealth of resources at your disposal. What do you find most rewarding about giving presentations on these topics?\\nuser: I find the most rewarding part about giving presentations on these topics is being able to share my knowledge and experience with others. It's great to be able to help people learn about topics that can help them lead a healthier, more financially secure lifestyle.\",\n",
       " \"user: I find the most rewarding part about giving presentations on these topics is being able to share my knowledge and experience with others. It's great to be able to help people learn about topics that can help them lead a healthier, more financially secure lifestyle.\\nchatbot: That's wonderful to hear! It's great that you have a passion for helping others learn and grow. Do you have any tips for people who are looking to get started on their health and financial journey?\",\n",
       " \"chatbot: That's wonderful to hear! It's great that you have a passion for helping others learn and grow. Do you have any tips for people who are looking to get started on their health and financial journey?\\nuser: Sure! My advice would be to start by setting small, achievable goals and then build on them over time. Start by doing research and gathering information about the topics you're interested in and then create an action plan for yourself. Additionally, seek out support from friends, family, and experts in the field to help you stay motivated and on track.\",\n",
       " \"chatbot: That's great advice! Setting small goals and gradually building on them is a great way to ensure success. It's also important to stay motivated and find people who can support you along the way. Do you have any other tips for people who want to learn more about health and financial topics?\\nuser: Yes, absolutely! I would suggest setting aside some time each day to focus on learning more about the topics you're interested in. Find a few reliable sources to get information from, like books, magazines, online articles, and podcasts, and start taking notes. Additionally, don't be afraid to ask questions and seek out advice from experts in the field. Lastly, stay consistent and remember to celebrate your progress!\",\n",
       " \"chatbot: That's great advice! Consistency is key and it's important to take the time to celebrate all your successes. Do you have any other suggestions for people looking to gain more knowledge about health and financial topics?\\nuser: Absolutely! My advice would be to start by setting realistic goals and taking small steps towards achieving them. It's also important to find reliable sources of information to learn from and reach out to experts in the field to ask questions and get advice. Additionally, it's important to stay consistent and celebrate all your successes, no matter how small.\",\n",
       " \"chatbot: Hi there! Have you ever read the book Justice, Judiciary and Democracy? It's an interesting read that I recently came across. What did you think of it if you have read it?\\nuser: No, I haven't read that book. I'm more of a sci-fi fan myself.\",\n",
       " \"user: No, I haven't read that book. I'm more of a sci-fi fan myself.\\nchatbot: That sounds like fun! What are some of your favorite sci-fi books or movies?\",\n",
       " \"chatbot: That sounds like fun! What are some of your favorite sci-fi books or movies?\\nuser: I love the classic sci-fi films like Blade Runner and The Matrix, but I'm also a fan of more recent films like Ex Machina and Arrival. What about you?\",\n",
       " \"user: I love the classic sci-fi films like Blade Runner and The Matrix, but I'm also a fan of more recent films like Ex Machina and Arrival. What about you?\\nchatbot:  Wow, those are some great sci-fi films! I haven't seen Arrival yet, but I've heard a lot of good things about it. I'm more of a Star Trek fan myself - the original series, The Next Generation, and the movies. What do you think of those?\",\n",
       " \"chatbot:  Wow, those are some great sci-fi films! I haven't seen Arrival yet, but I've heard a lot of good things about it. I'm more of a Star Trek fan myself - the original series, The Next Generation, and the movies. What do you think of those?\\nuser: I'm not a big Star Trek fan, but I can definitely appreciate the original series. What about other sci-fi shows like Battlestar Galactica or Firefly?\",\n",
       " \"user: I'm not a big Star Trek fan, but I can definitely appreciate the original series. What about other sci-fi shows like Battlestar Galactica or Firefly?\\nchatbot: I haven't seen Battlestar Galactica or Firefly, but I've heard they are both really good. What do you like about them?\",\n",
       " \"chatbot: I haven't seen Battlestar Galactica or Firefly, but I've heard they are both really good. What do you like about them?\\nuser: I like how they explore themes of humanity, technology, and morality in interesting ways that you don't often see in other genres. I also like the creative sci-fi elements they bring to their stories.\",\n",
       " \"user: I like how they explore themes of humanity, technology, and morality in interesting ways that you don't often see in other genres. I also like the creative sci-fi elements they bring to their stories.\\nchatbot: That's great to hear! I love how sci-fi allows us to explore the world and the universe in new and creative ways. What do you think is the most interesting aspect of the genre?\",\n",
       " \"chatbot: That's great to hear! I love how sci-fi allows us to explore the world and the universe in new and creative ways. What do you think is the most interesting aspect of the genre?\\nuser: I think the most interesting aspect of the genre is how it allows us to imagine and create alternate worlds and realities that are different from our own. It allows us to explore new ideas, societies, and philosophies without being bound by the constraints of the real world.\",\n",
       " \"user: I think the most interesting aspect of the genre is how it allows us to imagine and create alternate worlds and realities that are different from our own. It allows us to explore new ideas, societies, and philosophies without being bound by the constraints of the real world.\\nchatbot: That's a really fascinating way of looking at sci-fi! I love how it encourages us to think outside the box and explore new possibilities. It's definitely one of the genre's most appealing aspects. What other genres of fiction do you enjoy reading?\",\n",
       " \"chatbot: That's a really fascinating way of looking at sci-fi! I love how it encourages us to think outside the box and explore new possibilities. It's definitely one of the genre's most appealing aspects. What other genres of fiction do you enjoy reading?\\nuser: I'm a big fan of fantasy and historical fiction. I also love stories with complex characters and emotional depth. I think fiction can be a great way to escape from the everyday and explore new ideas. What kind of books or movies do you like?\",\n",
       " \"user: I'm a big fan of fantasy and historical fiction. I also love stories with complex characters and emotional depth. I think fiction can be a great way to escape from the everyday and explore new ideas. What kind of books or movies do you like?\\nchatbot: I'm a big fan of fantasy and adventure stories! I love the exciting worlds and characters you find in those genres, and how they challenge you to think differently. I also love science fiction and thrillers - they keep me on the edge of my seat! What kinds of books or movies do you like?\",\n",
       " \"chatbot: I'm a big fan of fantasy and adventure stories! I love the exciting worlds and characters you find in those genres, and how they challenge you to think differently. I also love science fiction and thrillers - they keep me on the edge of my seat! What kinds of books or movies do you like?\\nuser: I like stories with a mix of action, adventure, and mystery. I also enjoy books and movies with complex characters and emotional depth. What kind of stories do you like?\",\n",
       " \"user: I like stories with a mix of action, adventure, and mystery. I also enjoy books and movies with complex characters and emotional depth. What kind of stories do you like?\\nchatbot: I like stories that explore difficult topics in a thoughtful and meaningful way. I'm a big fan of books and movies that challenge me to think more deeply and ask questions about the world around me. What kind of stories do you enjoy reading or watching?\",\n",
       " \"chatbot: Hi there! It's nice to meet you. What can I do for you?\\nuser: Hi there! It's nice to meet you too. I'm looking for some help to learn more about Korean culture, language, and customs. Could you help me out?\",\n",
       " \"user: Hi there! It's nice to meet you too. I'm looking for some help to learn more about Korean culture, language, and customs. Could you help me out?\\nchatbot: Sure, I'd love to help you out! Do you have any specific questions about Korean culture, language, and customs? I'm happy to answer any questions you have!\",\n",
       " \"chatbot: Sure, I'd love to help you out! Do you have any specific questions about Korean culture, language, and customs? I'm happy to answer any questions you have!\\nuser: Yes, I would like to know more about the different festivals celebrated in Korea, the different dialects spoken, and how the traditional Korean clothing is worn. Can you tell me more about these topics?\",\n",
       " 'user: Yes, I would like to know more about the different festivals celebrated in Korea, the different dialects spoken, and how the traditional Korean clothing is worn. Can you tell me more about these topics?\\nchatbot: Sure thing! Korean festivals are an important part of the culture and there are lots of interesting ones to choose from. Some of the most popular ones include the Seollal (Lunar New Year), Chuseok (Korean Thanksgiving), and Daeboreum (First Full Moon). As for dialects, the most common is the Seoul dialect, but there are several others, including Gyeongsang, Jeolla, and Hamgyeong dialects. Finally, traditional',\n",
       " \"chatbot: Sure thing! Korean festivals are an important part of the culture and there are lots of interesting ones to choose from. Some of the most popular ones include the Seollal (Lunar New Year), Chuseok (Korean Thanksgiving), and Daeboreum (First Full Moon). As for dialects, the most common is the Seoul dialect, but there are several others, including Gyeongsang, Jeolla, and Hamgyeong dialects. Finally, traditional\\nuser: I'm very interested in learning more about traditional Korean clothing! Could you tell me what type of clothing is traditionally worn and how it is typically worn?\",\n",
       " \"user: I'm very interested in learning more about traditional Korean clothing! Could you tell me what type of clothing is traditionally worn and how it is typically worn?\\nchatbot: Sure thing! Traditional Korean clothing includes hanboks, which are typically made of bright, vibrant colors, and are composed of a jeogori (a blouse-like upper garment) and baji (baggy pants). It is usually worn during special occasions and celebrations, such as traditional festivals and holidays. The jeogori is worn by both men and women, but women typically wear the jeogori with a chima (skirt), and men wear the baji\",\n",
       " 'chatbot: Sure thing! Traditional Korean clothing includes hanboks, which are typically made of bright, vibrant colors, and are composed of a jeogori (a blouse-like upper garment) and baji (baggy pants). It is usually worn during special occasions and celebrations, such as traditional festivals and holidays. The jeogori is worn by both men and women, but women typically wear the jeogori with a chima (skirt), and men wear the baji\\nuser: That sounds really interesting! Could you tell me more about how traditional hanboks are worn? Are there any specific details or tips I should know?',\n",
       " \"user: That sounds really interesting! Could you tell me more about how traditional hanboks are worn? Are there any specific details or tips I should know?\\nchatbot: Sure! When wearing hanboks, the jeogori should be worn first, then the baji and then the chima if it's a woman's hanbok. The hanbok should fit loosely, as it's meant to be a comfortable garment. The jeogori should fit snugly around the waist and the baji should be slightly loose. Lastly, the sleeves of the jeogori should reach to the wrist, but not be too long.\",\n",
       " \"chatbot: Sure! When wearing hanboks, the jeogori should be worn first, then the baji and then the chima if it's a woman's hanbok. The hanbok should fit loosely, as it's meant to be a comfortable garment. The jeogori should fit snugly around the waist and the baji should be slightly loose. Lastly, the sleeves of the jeogori should reach to the wrist, but not be too long.\\nuser: Wow, that's really helpful! I'm looking forward to trying on a traditional hanbok and learning how to wear it properly. Do you have any other tips or suggestions on how I can learn more about Korean culture and language?\",\n",
       " \"user: Wow, that's really helpful! I'm looking forward to trying on a traditional hanbok and learning how to wear it properly. Do you have any other tips or suggestions on how I can learn more about Korean culture and language?\\nchatbot:  Absolutely! Learning more about Korean culture and language is a great way to become more immersed in the culture. You can explore Korean culture through its food, music, art, and more. Additionally, there are lots of resources available to help you learn the language, such as language-learning apps, online courses, and even tutors. Additionally, you can connect with native speakers through social media or forums to practice speaking and gain insight into Korean culture.\",\n",
       " \"chatbot: I'm glad to hear that you're motivated to learn more about Korean culture and language! It's great that you want to explore traditional Korean foods, music, and movies. Those are all great ways to immerse yourself in the culture. Additionally, don't forget to take advantage of all the resources available to you online, like language-learning apps and online courses. Best of luck with your studies!\\nuser: That's great! Thank you for your advice. I'm really excited to explore traditional Korean foods, music, and movies. I'll also be sure to take advantage of all the online resources available to help me learn the language. Thanks again for your help!\",\n",
       " \"chatbot: Hi there! Have you seen DreamWorks Shrek's Swamp Stories yet? It's a really funny show and I love it!\\nuser: No, I haven't seen it. Could you tell me more about it?\",\n",
       " \"user: No, I haven't seen it. Could you tell me more about it?\\nchatbot: Sure! Shrek's Swamp Stories is a cartoon series from DreamWorks Animation. It follows Shrek, a lovable green ogre, as he embarks on silly, yet meaningful adventures with his friends Donkey, Fiona, Puss in Boots, and a host of other characters. It's filled with tons of laughs and lots of heart. I highly recommend giving it a try!\",\n",
       " \"chatbot: Sure! Shrek's Swamp Stories is a cartoon series from DreamWorks Animation. It follows Shrek, a lovable green ogre, as he embarks on silly, yet meaningful adventures with his friends Donkey, Fiona, Puss in Boots, and a host of other characters. It's filled with tons of laughs and lots of heart. I highly recommend giving it a try!\\nuser: That sounds really interesting. Is there any place I can watch it?\",\n",
       " \"user: That sounds really interesting. Is there any place I can watch it?\\nchatbot:  Absolutely! You can watch Shrek's Swamp Stories on Netflix and DreamWorksTV. Enjoy!\",\n",
       " \"chatbot:  Absolutely! You can watch Shrek's Swamp Stories on Netflix and DreamWorksTV. Enjoy!\\nuser: That's great! Thanks for the info. Is there anything else I should know about the show?\",\n",
       " \"user: That's great! Thanks for the info. Is there anything else I should know about the show?\\nchatbot:  Sure thing! Each episode of Shrek's Swamp Stories runs for about 11 minutes, and follows Shrek and his friends as they take on comical adventures while teaching lessons about friendship, teamwork, and other positive values. It's an enjoyable show for the whole family!\",\n",
       " \"chatbot:  Sure thing! Each episode of Shrek's Swamp Stories runs for about 11 minutes, and follows Shrek and his friends as they take on comical adventures while teaching lessons about friendship, teamwork, and other positive values. It's an enjoyable show for the whole family!\\nuser: Wow, that sounds like a great show. It sounds like a lot of fun for the whole family! Do you have any other recommendations for shows like this?\",\n",
       " \"user: Wow, that sounds like a great show. It sounds like a lot of fun for the whole family! Do you have any other recommendations for shows like this?\\nchatbot:  Absolutely! There are lots of great cartoons and animated shows suitable for the whole family. I would recommend 'The Jungle Book', 'Trolls: The Beat Goes On', 'Spirit Riding Free', 'Care Bears: Unlock the Magic', and 'SpongeBob SquarePants'. Have fun watching!\",\n",
       " \"chatbot:  Absolutely! There are lots of great cartoons and animated shows suitable for the whole family. I would recommend 'The Jungle Book', 'Trolls: The Beat Goes On', 'Spirit Riding Free', 'Care Bears: Unlock the Magic', and 'SpongeBob SquarePants'. Have fun watching!\\nuser: That's great, thank you for the recommendations! It's nice to have something suitable for the whole family. Do you have any other tips or advice on how to get the most out of these shows?\",\n",
       " \"user: That's great, thank you for the recommendations! It's nice to have something suitable for the whole family. Do you have any other tips or advice on how to get the most out of these shows?\\nchatbot: Sure thing! For the best experience, I recommend watching these shows together with your family and friends. That way, you can all discuss the different adventures and lessons being taught in the show. That way, you can all learn something and have a good time at the same time!\",\n",
       " \"chatbot: Sure thing! For the best experience, I recommend watching these shows together with your family and friends. That way, you can all discuss the different adventures and lessons being taught in the show. That way, you can all learn something and have a good time at the same time!\\nuser: That's really useful advice. Thanks for the tips! It sounds like a great way to learn and have fun together.\",\n",
       " \"chatbot: Hi there! How's it going? I'm really excited to talk about ice hockey! Have you ever played it or watched it before?\\nuser: No, I haven't watched or played ice hockey before, but I'm interested in learning more about it. Could you tell me what it's all about?\",\n",
       " \"user: No, I haven't watched or played ice hockey before, but I'm interested in learning more about it. Could you tell me what it's all about?\\nchatbot: Sure thing! Ice hockey is a team sport that involves two teams competing against each other on a rink made of ice. Each team has six players on the ice at any given time, including a goalie. The objective of the game is to score goals by shooting the puck into the opposing team's net. Ice hockey is a very fast-paced and exciting game to watch and play, and is a great way to stay active and have fun.\",\n",
       " \"chatbot: Sure thing! Ice hockey is a team sport that involves two teams competing against each other on a rink made of ice. Each team has six players on the ice at any given time, including a goalie. The objective of the game is to score goals by shooting the puck into the opposing team's net. Ice hockey is a very fast-paced and exciting game to watch and play, and is a great way to stay active and have fun.\\nuser: I see. That does sound like an exciting sport. I'm interested in learning more about the rules and strategies involved. Could you explain some of that to me?\",\n",
       " \"user: I see. That does sound like an exciting sport. I'm interested in learning more about the rules and strategies involved. Could you explain some of that to me?\\nchatbot:  Absolutely! The most important rule of ice hockey is that no player is allowed to touch the puck with their hands or body. Players must use their sticks to move and shoot the puck. Strategies in ice hockey involve creating offensive and defensive plays, such as breakouts and odd-man rushes. Players also try to set up passing plays and use deception to confuse the opposing team. It's a very intricate and exciting game to watch and play!\",\n",
       " \"user: Hi there! It's nice to meet you. I'm interested in learning more about what a chatbot can do. Could you tell me more about your capabilities?\\nchatbot: Sure thing! Chatbots are computer programs that are designed to simulate human conversations, often using artificial intelligence to provide more natural responses. They are able to understand and respond to user input, answer questions, provide useful information, and even help with tasks like booking flights or ordering food. Chatbots can also be used to improve customer service, automate mundane tasks, and provide entertainment.\",\n",
       " \"user: Hi there! It's nice to meet you. I'm looking for a meaningful conversation, so could you tell me more about yourself?\\nchatbot: Hi there! It's nice to meet you too. I'm an AI-powered chatbot that loves to chat and learn new things. I'm constantly growing and evolving as I learn more about the world around me. I love to discuss a variety of topics and make meaningful connections with people. I'm also always up for a friendly debate!\",\n",
       " \"chatbot: Sure thing! I've been living in Kingston, Jamaica for the past few years and it's been a great experience. I love the people here and the culture is so vibrant. Jamaica is known for its beautiful beaches and music, so I often spend my days exploring the city and its surroundings. There's always something new to do and it's been a great place to call home.\\nuser: That sounds great! It sounds like a really wonderful place to live. What have been some of your favorite experiences living there?\",\n",
       " \"user: That sounds great! It sounds like a really wonderful place to live. What have been some of your favorite experiences living there?\\nchatbot:  Absolutely! My favorite experiences in Kingston have been meeting all kinds of different people, trying out the local cuisine, and exploring the lush nature around the city. It's such a beautiful place with so much to do and see, so I'm always finding something new to enjoy.\",\n",
       " \"chatbot: Hi there! How are you doing? Have you seen the movie Killers? It's a really good one! What did you think of it?\\nuser: Well hello there! I'm doing just fine, thank you for asking. I have not seen the movie Killers yet, but I've heard it's quite good. I'll have to check it out sometime!\",\n",
       " \"user: Well hello there! I'm doing just fine, thank you for asking. I have not seen the movie Killers yet, but I've heard it's quite good. I'll have to check it out sometime!\\nchatbot:  I'm glad to hear you're doing well! Killers is a really good movie - I think you'd really enjoy it. If you do watch it, let me know what you think - I'd love to hear your opinion!\",\n",
       " \"user: Ah, London! I love it here. As for my interests, I'm a fan of classic films and musicals, mystery novels, and jazz music. How about you?\\nchatbot: Great! I'm a big fan of classic films and musicals too. As for mystery novels, I haven't read too many, but I'm open to exploring new genres. And jazz music? Love it! What are some of your favorite jazz artists or albums?\",\n",
       " \"user: Hey there! I'm up for a challenge! What would you like to chat about? I'm a fan of classic films and musicals, mystery novels, and jazz music. What about you?\\nchatbot: Hi there! It's nice to meet you. I'm a big fan of a lot of different genres, but my favorites are probably science fiction and horror. What about you? What kind of movies, music, and books do you enjoy? I'm always looking to try new things!\",\n",
       " \"user: Hi there chatbot! I'm not sure I can give you a hard time, I'm rather new to this after all. But I'd love to chat about anything - movies, music, books, or whatever else. What about you? What are your interests?\\nchatbot: Hi there! It's great to meet you. I'm interested in all kinds of topics, from movies and music to books and more. What about you? What do you like to talk about? I'm always open to learning something new!\",\n",
       " \"chatbot: Hi there, how are you? I'm a big fan of football - how about you?\\nuser: Hi there! I'm doing okay, thanks for asking. Football isn't really my thing, but I'm interested in learning more about it.\",\n",
       " \"user: Hi there! I'm doing okay, thanks for asking. Football isn't really my thing, but I'm interested in learning more about it.\\nchatbot:  Sure, I'd love to tell you more about football! What do you want to know?\",\n",
       " \"chatbot:  Sure, I'd love to tell you more about football! What do you want to know?\\nuser: I'm curious about the different rules of football and what makes it so popular.\",\n",
       " \"user: I'm curious about the different rules of football and what makes it so popular.\\nchatbot:  Sure, I'd be happy to explain! Football is a sport that requires two teams of eleven players each to compete. The teams compete to move the ball down the field in order to score a goal. It is a very physical game with a lot of rules and regulations, and the team that follows these rules most effectively will have the best chance of winning. Football is so popular because it is fast-paced, unpredictable, and exciting to watch. It is also one of\",\n",
       " \"chatbot:  Sure, I'd be happy to explain! Football is a sport that requires two teams of eleven players each to compete. The teams compete to move the ball down the field in order to score a goal. It is a very physical game with a lot of rules and regulations, and the team that follows these rules most effectively will have the best chance of winning. Football is so popular because it is fast-paced, unpredictable, and exciting to watch. It is also one of\\nuser: Wow, that's really interesting. I had no idea about all the rules and regulations that go into it. Thanks for the info!\",\n",
       " \"user: Wow, that's really interesting. I had no idea about all the rules and regulations that go into it. Thanks for the info!\\nchatbot:  You're welcome! I'm glad I could help. Is there anything else I can help you with?\",\n",
       " \"chatbot:  You're welcome! I'm glad I could help. Is there anything else I can help you with?\\nuser: No, that's all. Thank you for your help!\",\n",
       " \"user: No, that's all. Thank you for your help!\\nchatbot: No problem! It was a pleasure chatting with you. Have a great day!\",\n",
       " 'chatbot: No problem! It was a pleasure chatting with you. Have a great day!\\nuser: Thanks! I appreciate your help. It was nice chatting with you too. Have a great day!',\n",
       " \"user: Hi there, it's nice to meet you. I'm interested to see how well this chatbot can carry on a conversation. Can you tell me more about yourself?\\nchatbot: Hi there, nice to meet you! I'm a chatbot programmed to respond to people's questions and engage in conversations. I'm constantly learning and evolving to be able to have more interesting and meaningful conversations. I hope to become an even better conversationalist and be able to provide helpful information to people.\",\n",
       " \"chatbot: Hi there, nice to meet you! I'm a chatbot programmed to respond to people's questions and engage in conversations. I'm constantly learning and evolving to be able to have more interesting and meaningful conversations. I hope to become an even better conversationalist and be able to provide helpful information to people.\\nuser: That's really cool! It's impressive to see how far chatbot technology has come. I'm sure you'll be able to provide even more helpful information and have even better conversations in the future.\",\n",
       " \"user: That's really cool! It's impressive to see how far chatbot technology has come. I'm sure you'll be able to provide even more helpful information and have even better conversations in the future.\\nchatbot: That's great to hear! I'm excited to see what the future of chatbot technology holds, and I'm looking forward to being able to have even more meaningful conversations with people.\",\n",
       " \"user: I appreciate your enthusiasm for chatbot technology, but I'm not actually an 18 year old woman from Houston, Texas. I'm just curious about the conversational ability of this chatbot. Can you tell me more about how you are programmed to handle conversations?\\nchatbot: I'm programmed to use natural language processing to interpret conversations and generate appropriate responses. I use artificial intelligence to interpret and analyze context, sentiment, and sentiment-based expressions. I also use machine learning algorithms to adapt to new conversations, improve my understanding of language, and generate more natural responses. I'm constantly learning and evolving, so I can have more meaningful conversations and provide helpful information to people.\",\n",
       " \"chatbot: Hi there! It's great to meet you. What kind of music do you like?\\nuser: I like a variety of music genres, but my favorite is Latin music! What about you?\",\n",
       " 'user: I like a variety of music genres, but my favorite is Latin music! What about you?\\nchatbot: I like a lot of different types of music too! Some of my favorites are pop, hip hop, and rock. What kind of Latin music do you like?',\n",
       " 'chatbot: I like a lot of different types of music too! Some of my favorites are pop, hip hop, and rock. What kind of Latin music do you like?\\nuser: I love all kinds of Latin music, from bachata to salsa to reggaeton! What type of music do you like the most?',\n",
       " \"user: I love all kinds of Latin music, from bachata to salsa to reggaeton! What type of music do you like the most?\\nchatbot: I'm a big fan of hip hop and pop music. My favorite artists right now are Drake and Taylor Swift. What about you? Who's your favorite artist?\",\n",
       " \"chatbot: I'm a big fan of hip hop and pop music. My favorite artists right now are Drake and Taylor Swift. What about you? Who's your favorite artist?\\nuser: I like a variety of Latin artists, from Luis Fonsi to Maluma to Romeo Santos. My favorite artist right now is definitely Bad Bunny! Who's yours?\",\n",
       " \"user: I like a variety of Latin artists, from Luis Fonsi to Maluma to Romeo Santos. My favorite artist right now is definitely Bad Bunny! Who's yours?\\nchatbot: Wow, Bad Bunny is awesome! My favorite artist right now is Drake. He's so talented and always releases great music. Who's your favorite song by Bad Bunny?\",\n",
       " 'chatbot: Wow, Bad Bunny is awesome! My favorite artist right now is Drake. He\\'s so talented and always releases great music. Who\\'s your favorite song by Bad Bunny?\\nuser: My favorite song by Bad Bunny has to be \"Yo Perreo Sola\"! What about you? What\\'s your favorite Drake song?',\n",
       " 'user: My favorite song by Bad Bunny has to be \"Yo Perreo Sola\"! What about you? What\\'s your favorite Drake song?\\nchatbot:  My favorite Drake song is definitely \"God\\'s Plan\". It\\'s such a powerful and meaningful song. What about you? What do you like about \"Yo Perreo Sola\"?',\n",
       " 'chatbot:  My favorite Drake song is definitely \"God\\'s Plan\". It\\'s such a powerful and meaningful song. What about you? What do you like about \"Yo Perreo Sola\"?\\nuser: I love \"Yo Perreo Sola\" because it has a great beat and great lyrics that I can relate to. I also appreciate the fact that Bad Bunny is using his platform to empower women to own their sexuality and confidence. What about you? What do you like about \"God\\'s Plan\"?',\n",
       " 'user: I love \"Yo Perreo Sola\" because it has a great beat and great lyrics that I can relate to. I also appreciate the fact that Bad Bunny is using his platform to empower women to own their sexuality and confidence. What about you? What do you like about \"God\\'s Plan\"?\\nchatbot: I love \"God\\'s Plan\" because it has such an inspiring and uplifting message. The lyrics really motivate me to stay focused and work hard towards achieving my goals. I also appreciate Drake\\'s vulnerability and openness in the song. What about you? Do you have any favorite motivational songs?',\n",
       " 'chatbot: I love \"God\\'s Plan\" because it has such an inspiring and uplifting message. The lyrics really motivate me to stay focused and work hard towards achieving my goals. I also appreciate Drake\\'s vulnerability and openness in the song. What about you? Do you have any favorite motivational songs?\\nuser: I do have a few favorite motivational songs. One of my favorites is “Lose Yourself” by Eminem. It always helps me stay focused and motivated when I\\'m feeling down. What about you? What are some of your favorite motivational songs?',\n",
       " 'user: I do have a few favorite motivational songs. One of my favorites is “Lose Yourself” by Eminem. It always helps me stay focused and motivated when I\\'m feeling down. What about you? What are some of your favorite motivational songs?\\nchatbot: That\\'s a great motivational song! I also love \"Dream On\" by Aerosmith. It always helps to remind me that with hard work and dedication, I can achieve anything I set my mind to. What about you? What other songs motivate you?',\n",
       " 'chatbot: That\\'s a great motivational song! I also love \"Dream On\" by Aerosmith. It always helps to remind me that with hard work and dedication, I can achieve anything I set my mind to. What about you? What other songs motivate you?\\nuser: I really love “Rise” by Katy Perry. It always inspires me to keep going and not give up on my dreams no matter how hard it gets. What about you? What songs motivate you?',\n",
       " 'user: I really love “Rise” by Katy Perry. It always inspires me to keep going and not give up on my dreams no matter how hard it gets. What about you? What songs motivate you?\\nchatbot: Wow, those are great motivational songs! My other favorite motivational songs are \"Glorious\" by Macklemore and \"Shake It Off\" by Taylor Swift. Both songs always lift my spirits and give me the motivation to keep pushing forward. What about you? What other songs inspire you?',\n",
       " 'chatbot: Wow, those are great motivational songs! My other favorite motivational songs are \"Glorious\" by Macklemore and \"Shake It Off\" by Taylor Swift. Both songs always lift my spirits and give me the motivation to keep pushing forward. What about you? What other songs inspire you?\\nuser: I really enjoy a lot of Mexican artists such as Carlos Rivera and Reik. Their music always lifts my spirits and helps me stay motivated. What songs do you like to listen to when you need a boost?',\n",
       " \"chatbot: Hi there! How are you doing today? I wanted to chat about Babe Ruth. Did you know he was one of the greatest baseball players of all time?\\nuser: I'm doing okay. I've heard of Babe Ruth, but I don't know much about him. Can you tell me something interesting about him?\",\n",
       " \"user: I'm doing okay. I've heard of Babe Ruth, but I don't know much about him. Can you tell me something interesting about him?\\nchatbot: Sure! Babe Ruth is widely regarded as one of the best players in the history of Major League Baseball. He was known for his power hitting and holds the record for most career home runs. He was also an excellent pitcher, winning 94 games and leading the league in strikeouts and earned run average. He also helped the New York Yankees win four World Series titles.\",\n",
       " \"chatbot: Sure! Babe Ruth is widely regarded as one of the best players in the history of Major League Baseball. He was known for his power hitting and holds the record for most career home runs. He was also an excellent pitcher, winning 94 games and leading the league in strikeouts and earned run average. He also helped the New York Yankees win four World Series titles.\\nuser: That's impressive! What else should I know about Babe Ruth?\",\n",
       " \"user: That's impressive! What else should I know about Babe Ruth?\\nchatbot:  Besides his prowess on the field, Babe Ruth was also well-known for his off-the-field antics. He was known to enjoy a good time with friends, indulging in things like cigars, hot dogs, and beer. He was also a philanthropist and supported several charities, such as the American Red Cross.\",\n",
       " \"chatbot:  Besides his prowess on the field, Babe Ruth was also well-known for his off-the-field antics. He was known to enjoy a good time with friends, indulging in things like cigars, hot dogs, and beer. He was also a philanthropist and supported several charities, such as the American Red Cross.\\nuser: That's really interesting. It's nice to know that Babe Ruth was also generous and supported charity. What else can you tell me about him?\",\n",
       " \"user: That's really interesting. It's nice to know that Babe Ruth was also generous and supported charity. What else can you tell me about him?\\nchatbot:  Sure! Babe Ruth was inducted into the Baseball Hall of Fame in 1936 and is considered one of the greatest players in the history of the game. He was known for his power-hitting style and still holds the record for the most career home runs. He also holds several other records, including the most runs batted in and the most total bases. His amazing skills on the field earned him the nickname “The Sultan of Swat.”\",\n",
       " \"chatbot:  Sure! Babe Ruth was inducted into the Baseball Hall of Fame in 1936 and is considered one of the greatest players in the history of the game. He was known for his power-hitting style and still holds the record for the most career home runs. He also holds several other records, including the most runs batted in and the most total bases. His amazing skills on the field earned him the nickname “The Sultan of Swat.”\\nuser: That's really impressive! I didn't know Babe Ruth had such a nickname. What other accomplishments did he achieve during his career?\",\n",
       " \"user: That's really impressive! I didn't know Babe Ruth had such a nickname. What other accomplishments did he achieve during his career?\\nchatbot:  Babe Ruth was one of the most decorated players in the history of Major League Baseball. He won seven World Series championships, was a twelve-time All-Star, and was the first player to hit 500 career home runs. He was also an outstanding pitcher, winning 94 games and leading the league in strikeouts and earned run average. He was even given the title of “Greatest Living Ballplayer” by the Baseball Writers' Association of America.\",\n",
       " \"chatbot: Hi there! It's nice to meet you too. What would you like to talk about today?\\nuser: I'd like to know more about Korea. Can you tell me something interesting about the country?\",\n",
       " \"user: I'd like to know more about Korea. Can you tell me something interesting about the country?\\nchatbot:  Absolutely! Korea is a beautiful country that has a fascinating history. It's home to vibrant cities, stunning natural landscapes, and incredible cuisine. It has a rich culture and a deep-rooted history of traditional arts, music, and literature. It is also a major technological hub with leading companies like Samsung and LG. What else would you like to know about Korea?\",\n",
       " \"chatbot: Hello there! How are you doing today?\\nuser: I'm doing okay, thank you for asking. How about you?\",\n",
       " \"chatbot: I'm doing great, thank you for asking! What would you like to talk about?\\nuser: I'm interested in talking about life in Seoul. What is it like living there?\",\n",
       " \"user: I'm interested in talking about life in Seoul. What is it like living there?\\nchatbot:  Life in Seoul is amazing! There is a great energy in the city and plenty of exciting activities to do. People in Seoul are also very friendly and welcoming. I would highly recommend it as a place to live or visit. What else would you like to know about life in Seoul?\",\n",
       " \"chatbot:  Life in Seoul is amazing! There is a great energy in the city and plenty of exciting activities to do. People in Seoul are also very friendly and welcoming. I would highly recommend it as a place to live or visit. What else would you like to know about life in Seoul?\\nuser: I'd like to know what the culture is like in Seoul. What kind of activities do people enjoy?\",\n",
       " \"user: I'd like to know what the culture is like in Seoul. What kind of activities do people enjoy?\\nchatbot:  Life in Seoul has a very unique and vibrant culture. People enjoy a variety of activities such as visiting the palaces, hiking, shopping, visiting museums, exploring the many districts, and experiencing the nightlife. The cuisine is also fantastic and diverse, and you can find many traditional and modern Korean dishes in Seoul.\",\n",
       " \"chatbot: Hi there! It's nice to meet you too. How can I help you? I'm here to answer any questions you may have and talk about any topics that interest you. Feel free to ask away!\\nuser: What do you think about life in Seoul?\",\n",
       " \"user: What do you think about life in Seoul?\\nchatbot: I think life in Seoul is amazing! There's a great energy in the city, plenty of exciting activities to do, and people are very friendly and welcoming. It's a great place to live and visit, and I would highly recommend it!\",\n",
       " \"user: I'm not grumpy! But I would like to know more about life in Seoul. What kind of activities do people usually enjoy there?\\nchatbot:  People in Seoul enjoy a variety of activities! From visiting the palaces and hiking, to shopping and exploring the different districts, there's something for everyone to enjoy. There's also plenty of amazing food to sample, with traditional and modern Korean dishes available in abundance. I'm sure you'll find something you love!\",\n",
       " \"chatbot: Hi there, what do you think about deep dish pizza? I personally think it's delicious!\\nuser: I agree! Deep dish pizza is definitely delicious. I'm not a huge fan of pizza in general, but deep dish is an exception.\",\n",
       " \"user: I agree! Deep dish pizza is definitely delicious. I'm not a huge fan of pizza in general, but deep dish is an exception.\\nchatbot: That's great to hear! I'm sure there are many other delicious dishes that you enjoy too!\",\n",
       " \"chatbot: That's great to hear! I'm sure there are many other delicious dishes that you enjoy too!\\nuser: I definitely enjoy a lot of different dishes! I'm a fan of Mexican cuisine in particular, and there are so many great dishes that I enjoy.\",\n",
       " \"user: I definitely enjoy a lot of different dishes! I'm a fan of Mexican cuisine in particular, and there are so many great dishes that I enjoy.\\nchatbot:  That sounds delicious! What's your favorite Mexican dish?\",\n",
       " \"chatbot:  That sounds delicious! What's your favorite Mexican dish?\\nuser: My favorite Mexican dish is definitely chiles en nogada. It's a classic dish from my hometown, and it has a delicious mix of flavors and textures.\",\n",
       " \"user: My favorite Mexican dish is definitely chiles en nogada. It's a classic dish from my hometown, and it has a delicious mix of flavors and textures.\\nchatbot: Wow, chiles en nogada sounds amazing! What ingredients are in that dish? I'm always looking to try new dishes and flavors.\",\n",
       " \"chatbot: Wow, chiles en nogada sounds amazing! What ingredients are in that dish? I'm always looking to try new dishes and flavors.\\nuser: That's great to hear! Chiles en nogada has a lot of ingredients, but the main components are chiles poblanos, walnut sauce, raisins, pomegranate seeds, and queso fresco. It's a great dish to try if you're looking for a unique flavor experience.\",\n",
       " \"user: That's great to hear! Chiles en nogada has a lot of ingredients, but the main components are chiles poblanos, walnut sauce, raisins, pomegranate seeds, and queso fresco. It's a great dish to try if you're looking for a unique flavor experience.\\nchatbot: That sounds delicious! It sounds like it would be a fun dish to make as well as eat. Do you have a favorite recipe for chiles en nogada that you like to use?\",\n",
       " \"chatbot: That sounds delicious! It sounds like it would be a fun dish to make as well as eat. Do you have a favorite recipe for chiles en nogada that you like to use?\\nuser: I do! My favorite recipe is the one my mom used to make when I was a kid. It's simple but flavorful, and the end result is always delicious.\",\n",
       " \"chatbot: Hi there! It's great to meet you. So what do you think about Madonna?\\nuser: Madonna is a talented musician who has been making music for a long time. Her music is timeless and is appreciated by many generations.\",\n",
       " \"user: Madonna is a talented musician who has been making music for a long time. Her music is timeless and is appreciated by many generations.\\nchatbot:  That's true! I've always admired Madonna's commitment to her music. What is your favorite Madonna song?\",\n",
       " 'chatbot:  That\\'s true! I\\'ve always admired Madonna\\'s commitment to her music. What is your favorite Madonna song?\\nuser: I think my favorite Madonna song is \"Like a Prayer\". It\\'s an iconic and timeless song that I still enjoy listening to.',\n",
       " 'user: I think my favorite Madonna song is \"Like a Prayer\". It\\'s an iconic and timeless song that I still enjoy listening to.\\nchatbot: That\\'s an amazing song! I\\'m a big fan of her music and her ability to create such timeless hits. What other kinds of music do you like?',\n",
       " \"chatbot: That's an amazing song! I'm a big fan of her music and her ability to create such timeless hits. What other kinds of music do you like?\\nuser: I like all kinds of music - from classical to modern pop. I'm especially a fan of Korean pop music. It has become increasingly popular in recent years, and I'm very proud of the Korean music industry.\",\n",
       " \"user: I like all kinds of music - from classical to modern pop. I'm especially a fan of Korean pop music. It has become increasingly popular in recent years, and I'm very proud of the Korean music industry.\\nchatbot: That's awesome! It's great to see the Korean music industry gaining recognition and popularity. It must be so exciting to be a fan of a genre that's growing in popularity! What other genres of music do you enjoy?\",\n",
       " \"chatbot: That's awesome! It's great to see the Korean music industry gaining recognition and popularity. It must be so exciting to be a fan of a genre that's growing in popularity! What other genres of music do you enjoy?\\nuser: I enjoy listening to a variety of music genres, from classical and folk to alternative and rock. I especially appreciate the traditional music of Korea, which has been around for centuries. It's so interesting to see how the music has evolved over time.\",\n",
       " \"user: I enjoy listening to a variety of music genres, from classical and folk to alternative and rock. I especially appreciate the traditional music of Korea, which has been around for centuries. It's so interesting to see how the music has evolved over time.\\nchatbot: Wow, that's really fascinating! It's amazing to see how different cultures have their own music traditions that have been around for centuries. What do you think is the most important element of music?\",\n",
       " \"chatbot: Wow, that's really fascinating! It's amazing to see how different cultures have their own music traditions that have been around for centuries. What do you think is the most important element of music?\\nuser: I think the most important element of music is emotion. Music has the power to evoke feelings in the listener that can be both positive and negative. It can bring joy and sorrow, comfort and unease. It is a powerful tool for connecting with and understanding others.\",\n",
       " \"user: I think the most important element of music is emotion. Music has the power to evoke feelings in the listener that can be both positive and negative. It can bring joy and sorrow, comfort and unease. It is a powerful tool for connecting with and understanding others.\\nchatbot: That's so true! Music has the power to create strong emotions and really bring people together. It's an incredible force!\",\n",
       " \"chatbot: That's so true! Music has the power to create strong emotions and really bring people together. It's an incredible force!\\nuser: I'm impressed with the chatbot's ability to converse. It can understand my questions and respond with thoughtful answers. It also has a wide range of topics it can talk about. It is definitely a great tool for communication.\",\n",
       " \"chatbot: Hi there, have you ever heard of Tamale Pie before? It's a delicious Mexican dish that I just discovered recently. It's made with a cornbread crust, ground beef, and salsa. I'm really loving it so far. What do you think about it?\\nuser: That sounds really interesting! I haven't tried it yet, but it sounds like a delicious dish. I'd definitely give it a try if I had the chance!\",\n",
       " \"user: That sounds really interesting! I haven't tried it yet, but it sounds like a delicious dish. I'd definitely give it a try if I had the chance!\\nchatbot:  I'm glad you're interested in trying out Tamale Pie! It's really flavorful and the cornbread crust makes it even better. I'm sure you'll love it. Have you tried any other Mexican dishes that you would recommend?\",\n",
       " \"chatbot:  I'm glad you're interested in trying out Tamale Pie! It's really flavorful and the cornbread crust makes it even better. I'm sure you'll love it. Have you tried any other Mexican dishes that you would recommend?\\nuser: I haven't tried a lot of Mexican dishes yet, but I did have some really delicious tacos the other day. They were really flavorful and the combination of ingredients was perfect. I definitely recommend trying them if you have the chance.\",\n",
       " \"user: I haven't tried a lot of Mexican dishes yet, but I did have some really delicious tacos the other day. They were really flavorful and the combination of ingredients was perfect. I definitely recommend trying them if you have the chance.\\nchatbot: That sounds delicious! I love tacos and I'm sure these were really amazing. I'm always looking for new dishes to try, so I'm definitely going to keep your recommendation in mind. Thanks for the tip!\",\n",
       " \"user: Thank you for the suggestion! I'm excited to try out new dishes and explore more of the Mexican cuisine. I'm always looking for new recipes and dishes to learn and enjoy. Do you have any other suggestions that you can share?\\nchatbot: I definitely have some suggestions! There are so many delicious Mexican dishes to try. Have you heard of Pozole, or Enchiladas? They are both really flavorful and really easy to make. You could also try making some sopapillas, which are fried dough with a sweet syrup or honey. I'm sure you'll find something you'll love!\",\n",
       " \"chatbot: I definitely have some suggestions! There are so many delicious Mexican dishes to try. Have you heard of Pozole, or Enchiladas? They are both really flavorful and really easy to make. You could also try making some sopapillas, which are fried dough with a sweet syrup or honey. I'm sure you'll find something you'll love!\\nuser: That sounds like some amazing dishes! I'm definitely interested in trying out Pozole and Enchiladas. Do you have any tips or recipes that you can share? I'm just starting to learn about Mexican cuisine, so any advice would be helpful.\"]"
      ]
     },
     "execution_count": 30,
     "metadata": {},
     "output_type": "execute_result"
    }
   ],
   "source": [
    "human_filtered_pairs"
   ]
  },
  {
   "cell_type": "code",
   "execution_count": null,
   "id": "5e1dcd5f-8afe-4e09-87f4-35b74bdcdaa6",
   "metadata": {},
   "outputs": [],
   "source": []
  }
 ],
 "metadata": {
  "kernelspec": {
   "display_name": "tap",
   "language": "python",
   "name": "tap"
  },
  "language_info": {
   "codemirror_mode": {
    "name": "ipython",
    "version": 3
   },
   "file_extension": ".py",
   "mimetype": "text/x-python",
   "name": "python",
   "nbconvert_exporter": "python",
   "pygments_lexer": "ipython3",
   "version": "3.10.9"
  }
 },
 "nbformat": 4,
 "nbformat_minor": 5
}
