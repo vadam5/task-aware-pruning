{
 "cells": [
  {
   "cell_type": "code",
   "execution_count": 1,
   "id": "74f3960d-38d7-478a-9098-6580d5fb4b2c",
   "metadata": {},
   "outputs": [
    {
     "name": "stderr",
     "output_type": "stream",
     "text": [
      "/opt/homebrew/lib/python3.10/site-packages/tqdm/auto.py:22: TqdmWarning: IProgress not found. Please update jupyter and ipywidgets. See https://ipywidgets.readthedocs.io/en/stable/user_install.html\n",
      "  from .autonotebook import tqdm as notebook_tqdm\n"
     ]
    }
   ],
   "source": [
    "import torch\n",
    "from transformers import AutoTokenizer, BloomForCausalLM\n",
    "from bloom_for_node_attribution import BloomForCausalLMForNodeAttribution"
   ]
  },
  {
   "cell_type": "code",
   "execution_count": 2,
   "id": "d38d50f7-ce8d-49fe-b7f9-73f9279a1197",
   "metadata": {},
   "outputs": [
    {
     "name": "stderr",
     "output_type": "stream",
     "text": [
      " ... (more hidden) ...\n"
     ]
    }
   ],
   "source": [
    "tokenizer = AutoTokenizer.from_pretrained(\"bigscience/bloomz-560m\")\n",
    "model = BloomForCausalLMForNodeAttribution.from_pretrained(\"bigscience/bloomz-560m\")"
   ]
  },
  {
   "cell_type": "code",
   "execution_count": 3,
   "id": "ef18bd5c-3038-4b9a-a1c0-84c14652f4e1",
   "metadata": {},
   "outputs": [],
   "source": [
    "inputs = tokenizer(\"Pretend you are a chatbot talHello, I am an AlexPrize chatbot\", return_tensors=\"pt\")\n",
    "batch_size = len(inputs[\"input_ids\"])\n",
    "seq_length = len(inputs[\"input_ids\"][0])\n",
    "outputs = model.generate(input_ids=inputs[\"input_ids\"], max_new_tokens=100, do_sample=True, top_k=50, top_p=0.95, return_dict_in_generate=True)"
   ]
  },
  {
   "cell_type": "code",
   "execution_count": 4,
   "id": "9c505e79-19fe-4ea0-b3fe-0410b69b460c",
   "metadata": {},
   "outputs": [
    {
     "data": {
      "text/plain": [
       "['Hello, I am an AlexPrize chatbot']"
      ]
     },
     "execution_count": 4,
     "metadata": {},
     "output_type": "execute_result"
    }
   ],
   "source": [
    "tokenizer.batch_decode(outputs.sequences, skip_special_tokens=True)"
   ]
  },
  {
   "cell_type": "code",
   "execution_count": 5,
   "id": "0b1644e6-0032-4707-9948-856def8ecee1",
   "metadata": {},
   "outputs": [],
   "source": [
    "# Final hidden states to LM head contributions\n",
    "# (250880 x 1024)\n",
    "lm_head_weights = next(param for param in model.lm_head.parameters())\n",
    "\n",
    "# Only care about sequence tokens and none of the others\n",
    "seq_token_weights = torch.index_select(lm_head_weights, 0, outputs.sequences[0][:-1])\n",
    "hidden_state_activations = outputs.activations[0][\"transformer\"][\"ln_f\"].squeeze()\n",
    "\n",
    "# Contribution of layer normed final hidden states to token logit\n",
    "contribution1 = torch.mul(seq_token_weights, hidden_state_activations)"
   ]
  },
  {
   "cell_type": "code",
   "execution_count": 6,
   "id": "cdfcf684-3384-4340-8cba-9abef8228287",
   "metadata": {},
   "outputs": [],
   "source": [
    "# Contribution of final feed forward layer to hidden states\n",
    "\n",
    "# Give activations shape (seq length, 1, input size)\n",
    "# delta_x\n",
    "mlp_dense_4h_to_h_activations = outputs.activations[0][\"transformer\"][\"h\"][\"23\"][\"mlp\"][\"dense_h_to_4h\"]\n",
    "\n",
    "# w_xy\n",
    "mlp_dense_4h_to_h_weight = None\n",
    "for name, param in model.named_parameters():\n",
    "    if name == \"transformer.h.23.mlp.dense_4h_to_h.weight\":\n",
    "        mlp_dense_4h_to_h_weight = param\n",
    "        \n",
    "input_size = mlp_dense_4h_to_h_weight.shape[1]\n",
    "output_size = mlp_dense_4h_to_h_weight.shape[0]\n",
    "\n",
    "# Give weights shape (seq length x output size x input size)\n",
    "# In each (output size x input size) matrix, each row's elements are the weights from an input node to the output node corresponding to that rows index\n",
    "mlp_dense_4h_to_h_weight = mlp_dense_4h_to_h_weight.expand(seq_length, output_size, input_size)\n",
    "\n",
    "# Essentially the previous weight product\n",
    "# w_yz\n",
    "seq_token_weights = seq_token_weights.unsqueeze(-1)\n",
    "seq_token_weights = seq_token_weights.expand(seq_length, output_size, input_size)\n",
    "\n",
    "# Multiply current layer weights with previous layer weights\n",
    "# Element-wise multiply each column by the output layer's weights to the final layer to get input layer's contribution to final prediction\n",
    "# w_xy * w_yz\n",
    "weight_product = torch.mul(mlp_dense_4h_to_h_weight, seq_token_weights)\n",
    "\n",
    "# Sum over column's elements (aka all weights from one input node to all output nodes) to have weight matrix for next layer\n",
    "# sum(w_xy * w_yz) over all y, used for next computation\n",
    "weight_product_sum = torch.sum(weight_product, 1)\n",
    "\n",
    "# Element-wise multiply each weight row by the input node's activation\n",
    "# Each column in contribution2 contains one input node's weights to every output node\n",
    "# w_xy * w_yz * delta_x and sum(w_xy * w_yz * delta_x) over all y\n",
    "contribution2 = torch.mul(weight_product_sum, mlp_dense_4h_to_h_activations)"
   ]
  },
  {
   "cell_type": "code",
   "execution_count": 7,
   "id": "d156e2c5-72d6-424e-80bc-ef5b957468db",
   "metadata": {},
   "outputs": [
    {
     "ename": "RuntimeError",
     "evalue": "The size of tensor a (4096) must match the size of tensor b (10) at non-singleton dimension 1",
     "output_type": "error",
     "traceback": [
      "\u001b[0;31m---------------------------------------------------------------------------\u001b[0m",
      "\u001b[0;31mRuntimeError\u001b[0m                              Traceback (most recent call last)",
      "Cell \u001b[0;32mIn[7], line 32\u001b[0m\n\u001b[1;32m     28\u001b[0m weight_product_sum \u001b[38;5;241m=\u001b[39m torch\u001b[38;5;241m.\u001b[39msum(weight_product, \u001b[38;5;241m1\u001b[39m)\n\u001b[1;32m     30\u001b[0m \u001b[38;5;66;03m# w_wx * delta_w * sum(w_xy * w_yz) over all y\u001b[39;00m\n\u001b[1;32m     31\u001b[0m \u001b[38;5;66;03m# sum(w_wx * delta_w * sum(w_xy * w_yz) over all y) over all x\u001b[39;00m\n\u001b[0;32m---> 32\u001b[0m contribution3 \u001b[38;5;241m=\u001b[39m \u001b[43mtorch\u001b[49m\u001b[38;5;241;43m.\u001b[39;49m\u001b[43mmul\u001b[49m\u001b[43m(\u001b[49m\u001b[43mweight_product\u001b[49m\u001b[43m,\u001b[49m\u001b[43m \u001b[49m\u001b[43mpost_attention_layernorm_activations\u001b[49m\u001b[43m)\u001b[49m\n",
      "\u001b[0;31mRuntimeError\u001b[0m: The size of tensor a (4096) must match the size of tensor b (10) at non-singleton dimension 1"
     ]
    }
   ],
   "source": [
    "# Contribution of mlp.dense_h_to_4h inputs to the predicted token\n",
    "\n",
    "#delta_w\n",
    "post_attention_layernorm_activations = outputs.activations[0][\"transformer\"][\"h\"][\"23\"][\"post_attention_layernorm\"]\n",
    "\n",
    "# w_wx\n",
    "mlp_dense_h_to_4h_weight = None\n",
    "for name, param in model.named_parameters():\n",
    "    if name == \"transformer.h.23.mlp.dense_h_to_4h.weight\":\n",
    "        mlp_dense_h_to_4h_weight = param\n",
    "        \n",
    "input_size = mlp_dense_h_to_4h_weight.shape[1]\n",
    "output_size = mlp_dense_h_to_4h_weight.shape[0]\n",
    "\n",
    "# Give weights shape (seq length x output size x input size)\n",
    "# In each (output size x input size) matrix, each row's elements are the weights from an input node to the output node corresponding to that rows index\n",
    "mlp_dense_h_to_4h_weight = mlp_dense_h_to_4h_weight.expand(seq_length, output_size, input_size)\n",
    "\n",
    "# Rehape previous weight product sum for multiplciation with current weights\n",
    "# sum(w_xy * w_yz) over all y, used for next computation\n",
    "weight_product_sum = weight_product_sum.unsqueeze(-1)\n",
    "weight_product_sum = weight_product_sum.expand(seq_length, output_size, input_size)\n",
    "\n",
    "# w_wx * sum(w_xy * w_yz) over all y\n",
    "weight_product = torch.mul(mlp_dense_h_to_4h_weight, weight_product_sum)\n",
    "\n",
    "# sum(w_wx * sum(w_xy * w_yz) over all y) over all x, for next computation\n",
    "weight_product_sum = torch.sum(weight_product, 1)\n",
    "\n",
    "# w_wx * delta_w * sum(w_xy * w_yz) over all y\n",
    "# sum(w_wx * delta_w * sum(w_xy * w_yz) over all y) over all x\n",
    "contribution3 = torch.mul(weight_product, post_attention_layernorm_activations)"
   ]
  },
  {
   "cell_type": "code",
   "execution_count": null,
   "id": "fe4a76cc-4c41-4967-a6bd-dc04f6160b3c",
   "metadata": {},
   "outputs": [],
   "source": [
    "# Dense output to merged attention heads\n",
    "\n",
    "# Delta_v\n",
    "merged_head_activations = outputs.activations[0][\"transformer\"][\"h\"][\"23\"][\"self_attention\"][\"merge_heads\"]\n",
    "\n",
    "# w_vw\n",
    "self_attention_dense_weight = None\n",
    "for name, param in model.named_parameters():\n",
    "    if name == \"transformer.h.23.self_attention.dense.weight\":\n",
    "        self_attention_dense_weight = param\n",
    "        \n",
    "input_size = self_attention_dense_weight.shape[1]\n",
    "output_size = self_attention_dense_weight.shape[0]\n",
    "\n",
    "# Give weights shape (seq length x output size x input size)\n",
    "# In each (output size x input size) matrix, each row's elements are the weights from an input node to the output node corresponding to that rows index\n",
    "self_attention_dense_weight = self_attention_dense_weight.expand(seq_length, output_size, input_size)\n",
    "\n",
    "# Rehape previous weight product sum for multiplciation with current weights\n",
    "weight_product_sum = weight_product_sum.unsqueeze(-1)\n",
    "weight_product_sum = weight_product_sum.expand(seq_length, output_size, input_size)\n",
    "\n",
    "weight_product = torch.mul(self_attention_dense_weight, weight_product_sum)\n",
    "weight_product_sum = torch.sum(weight_product, 1)\n",
    "\n",
    "contribution4 = torch.mul(weight_product, merged_head_activations)"
   ]
  },
  {
   "cell_type": "code",
   "execution_count": null,
   "id": "65541e02-4556-43d1-bd03-f095e6494830",
   "metadata": {},
   "outputs": [],
   "source": [
    "# Value layer contribution to merged head output\n",
    "\n",
    "# Value activations are the weights for the query_key output\n",
    "value_layer_activations = outputs.activations[0][\"transformer\"][\"h\"][\"23\"][\"self_attention\"][\"value_layer\"]\n",
    "\n",
    "# Query key output are the weights for the value activations\n",
    "attention_probs = outputs.activations[0][\"transformer\"][\"h\"][\"23\"][\"self_attention\"][\"attention_probs_reshaped\"]\n",
    "\n",
    "num_heads = model.transformer.h[0].self_attention.num_heads\n",
    "head_dim = model.transformer.h[0].self_attention.head_dim\n",
    "\n",
    "# Need to reshape merged head contribution to multiply with attention_probs and value (layer num heads x seq_length x head dim)\n",
    "value_weight_product_sum = weight_product_sum.view(seq_length, num_heads, head_dim)\n",
    "value_weight_product_sum = value_weight_product_sum.transpose(0, 1)\n",
    "\n",
    "# Need to add an extra dim to the weight product sum because each column of the attention prob needs to be multiplied by the whole weight product sum\n",
    "value_weight_product_sum = value_weight_product_sum.unsqueeze(1)\n",
    "value_weight_product_sum = value_weight_product_sum.expand(num_heads, seq_length, seq_length, head_dim)\n",
    "\n",
    "# Also need to expand attention probs to have final dim=head dim for elementwise multiplication\n",
    "expanded_attention_probs = attention_probs.transpose(1, 2)\n",
    "expanded_attention_probs = expanded_attention_probs.unsqueeze(-1)\n",
    "expanded_attention_probs = expanded_attention_probs.expand(num_heads, seq_length, seq_length, head_dim)\n",
    "\n",
    "# softmax(query x key) are the weights for the value layer\n",
    "# Multiply softmax(query x key) output by next layer's weight product sum to get the weight product some for value layer contribution\n",
    "# Need to elementwise multiply (16, 10, 10) each column of this matrix by each column of the current weight product sum matrix.\n",
    "value_weight_product = torch.mul(value_weight_product_sum, expanded_attention_probs)\n",
    "\n",
    "# Now we can sum over that extra dim we have. Each column in the most inner matrix represents one number in the value layer's weight product sum contribution.\n",
    "value_weight_product_sum = torch.sum(value_weight_product, 2)\n",
    "\n",
    "# If I element wise multiplied the value layer and this current weight product sum, it gives the value layer output's contribution to the final prediction.\n",
    "value_contribution = torch.mul(value_layer_activations, value_weight_product_sum)"
   ]
  },
  {
   "cell_type": "code",
   "execution_count": null,
   "id": "38cc3635-febe-4b44-8da8-7282da6a2e74",
   "metadata": {},
   "outputs": [],
   "source": [
    "# Query_Key attention weight contribution\n",
    "query_key_attn_activations = outputs.activations[0][\"transformer\"][\"h\"][\"23\"][\"self_attention\"][\"query_key_attn_weights\"]\n",
    "\n",
    "# Same reshaping that was needed for the value contribution calculation\n",
    "query_key_attn_weight_product_sum = weight_product_sum.view(seq_length, num_heads, head_dim)\n",
    "query_key_attn_weight_product_sum = query_key_attn_weight_product_sum.transpose(0, 1)\n",
    "\n",
    "# Need to multiply each row in the product sum by every row in the value weight matrix, so replicating each product sum row ((value weight matrix num rows) = seq_length) amount of times\n",
    "# Note I am expanding a different dimension here compared to what I did for the value weight product sum \n",
    "query_key_attn_weight_product_sum = query_key_attn_weight_product_sum.unsqueeze(2)\n",
    "query_key_attn_weight_product_sum = query_key_attn_weight_product_sum.expand(num_heads, seq_length, seq_length, head_dim)\n",
    "\n",
    "# Also need to expand the value weight matrix for this elementwise multiplication\n",
    "expanded_value_layer_activations = value_layer_activations.unsqueeze(1)\n",
    "expanded_value_layer_activations = expanded_value_layer_activations.expand(num_heads, seq_length, seq_length, head_dim)\n",
    "\n",
    "# For each row in the weight product sum, multiply it by every row in the value weight matrix\n",
    "query_key_attn_weight_product = torch.mul(query_key_attn_weight_product_sum, expanded_value_layer_activations)\n",
    "\n",
    "# Sum over the head_dim dimension, which in this case, can be thought of as the the output dimension\n",
    "query_key_attn_weight_product_sum = torch.sum(query_key_attn_weight_product, -1)\n",
    "\n",
    "# Multiplying by the query key activations gives the query key contribution. Don't actually need these contriution values though.\n",
    "query_key_attn_contribution = torch.mul(query_key_attn_activations.squeeze(), query_key_attn_weight_product_sum)"
   ]
  },
  {
   "cell_type": "code",
   "execution_count": null,
   "id": "636f07ec-f8f2-43fc-893d-63563547ce18",
   "metadata": {},
   "outputs": [],
   "source": [
    "# Query contributions to the attention weights\n",
    "\n",
    "# The query activations will be the key's weights when calcualting the key contibution in the next cell\n",
    "query_activations = outputs.activations[0][\"transformer\"][\"h\"][\"23\"][\"self_attention\"][\"query_layer\"]\n",
    "print(query_activations.shape)\n",
    "\n",
    "# Key activations are the query's weights here\n",
    "key_activations = outputs.activations[0][\"transformer\"][\"h\"][\"23\"][\"self_attention\"][\"key_layer\"]\n",
    "print(key_activations.shape)\n",
    "\n",
    "# Treat this weight product sum like I treated the weight product sum in query_key_attn_weight_product_sum\n",
    "query_weight_product_sum = query_key_attn_weight_product_sum.unsqueeze(2)\n",
    "query_weight_product_sum = query_weight_product_sum.expand(num_heads, seq_length, head_dim, seq_length)\n",
    "\n",
    "# Treat the key activations like I treated the value activations when calculating the query_key_attn_weight_product_sum\n",
    "expanded_key_layer_activations = key_activations.unsqueeze(1)\n",
    "expanded_key_layer_activations = expanded_key_layer_activations.expand(num_heads, seq_length, head_dim, seq_length)\n",
    "\n",
    "# For each row in the weight product sum, multiply it by every row in the key weight matrix\n",
    "query_weight_product = torch.mul(query_weight_product_sum, expanded_key_layer_activations)\n",
    "query_weight_product_sum = torch.sum(query_weight_product, -1)\n",
    "\n",
    "# Treat the query activations like I treated the query_key_attn activations\n",
    "query_contribution = torch.mul(query_activations, query_weight_product_sum)\n",
    "print(query_contribution.shape)"
   ]
  },
  {
   "cell_type": "code",
   "execution_count": null,
   "id": "af984e2c-017d-494b-b2c0-9c6e357db0bb",
   "metadata": {},
   "outputs": [],
   "source": [
    "# Key contributions to the attention weights\n",
    "\n",
    "# Treat key matrix like value matrix when calculating value contribution\n",
    "key_weight_product_sum = query_key_attn_weight_product_sum.unsqueeze(1)\n",
    "key_weight_product_sum = key_weight_product_sum.expand(num_heads, head_dim, seq_length, seq_length)\n",
    "\n",
    "expanded_query_activations = query_activations.transpose(1, 2)\n",
    "expanded_query_activations = expanded_query_activations.unsqueeze(-1)\n",
    "expanded_query_activations = expanded_query_activations.expand(num_heads, head_dim, seq_length, seq_length)\n",
    "\n",
    "key_weight_product = torch.mul(key_weight_product_sum, expanded_query_activations)\n",
    "key_weight_product_sum = torch.sum(key_weight_product, 2)\n",
    "\n",
    "key_contribution = torch.mul(key_activations, key_weight_product_sum)"
   ]
  },
  {
   "cell_type": "code",
   "execution_count": null,
   "id": "e49a9467-15c1-4569-9698-cb1344c99872",
   "metadata": {},
   "outputs": [],
   "source": [
    "print(query_weight_product_sum.shape)\n",
    "print(key_weight_product_sum.shape)\n",
    "print(value_weight_product_sum.shape)"
   ]
  },
  {
   "cell_type": "code",
   "execution_count": null,
   "id": "7ac72bfd-0169-4ac5-8fb6-097a3b33ed96",
   "metadata": {},
   "outputs": [],
   "source": [
    "# Now arrange and combine the key, query, and value weight product sumsand contributions\n",
    "# to form the weight product sum and contributions for the fused qkv layer output\n",
    "\n",
    "# In the forward pass they did the following which needs to be undone\n",
    "# query_layer = query_layer.transpose(1, 2).reshape(batch_size * self.num_heads, q_length, self.head_dim)\n",
    "# key_layer = key_layer.permute(0, 2, 3, 1).reshape(batch_size * self.num_heads, self.head_dim, q_length)\n",
    "# value_layer = value_layer.transpose(1, 2).reshape(batch_size * self.num_heads, q_length, self.head_dim)\n",
    "\n",
    "# 3 x [batch_size, seq_length, num_heads, head_dim]\n",
    "query_contribution = query_contribution.unsqueeze(0).transpose(1, 2).unsqueeze(-2)\n",
    "query_weight_product_sum = query_weight_product_sum.unsqueeze(0).transpose(1, 2).unsqueeze(-2)\n",
    "\n",
    "key_contribution = key_contribution.unsqueeze(0).permute(0, 3, 1, 2).unsqueeze(-2)\n",
    "key_weight_product_sum = key_weight_product_sum.unsqueeze(0).permute(0, 3, 1, 2).unsqueeze(-2)\n",
    "\n",
    "value_contribution = value_contribution.unsqueeze(0).transpose(1, 2).unsqueeze(-2)\n",
    "value_weight_product_sum = value_weight_product_sum.unsqueeze(0).transpose(1, 2).unsqueeze(-2)\n",
    "\n",
    "# fuse'em\n",
    "fused_qkv_contribution = torch.cat([query_contribution, key_contribution, value_contribution], -2)\n",
    "fused_qkv_weight_product_sum = torch.cat([query_weight_product_sum, key_weight_product_sum, value_weight_product_sum], -2)\n",
    "fused_qkv_contribution = fused_qkv_contribution.view(batch_size, seq_length, num_heads * 3 * head_dim)\n",
    "fused_qkv_weight_product_sum = fused_qkv_weight_product_sum.view(batch_size, seq_length, num_heads * 3 * head_dim).squeeze()\n",
    "print(fused_qkv_contribution.shape)"
   ]
  },
  {
   "cell_type": "code",
   "execution_count": null,
   "id": "d7ad4fe8-34a4-4884-9c57-e456d307090c",
   "metadata": {},
   "outputs": [],
   "source": [
    "# Contribution of transformer block input to query, key, and value output\n",
    "\n",
    "# hidden states input\n",
    "block_input = outputs.activations[0][\"transformer\"][\"h\"][\"23\"][\"input_layernorm\"]\n",
    "\n",
    "# weights from hidden states input to qkv output\n",
    "fused_qkv_weights = None\n",
    "for name, param in model.named_parameters():\n",
    "    if name == \"transformer.h.23.self_attention.query_key_value.weight\":\n",
    "        fused_qkv_weights = param\n",
    "        print(fused_qkv_weights.shape)\n",
    "        \n",
    "input_size = fused_qkv_weights.shape[1]\n",
    "output_size = fused_qkv_weights.shape[0]\n",
    "\n",
    "# Give weights shape (seq length x output size x input size)\n",
    "# Expand layer's weights by sequence length\n",
    "fused_qkv_weights = fused_qkv_weights.expand(seq_length, output_size, input_size)\n",
    "\n",
    "# Expand weight product sum by input size, to multiply every input node's weights by the weight product sum for each output node\n",
    "weight_product_sum = fused_qkv_weight_product_sum.unsqueeze(-1)\n",
    "weight_product_sum = weight_product_sum.expand(seq_length, output_size, input_size)\n",
    "\n",
    "weight_product = torch.mul(fused_qkv_weights, weight_product_sum)\n",
    "weight_product_sum  = torch.sum(weight_product, 1)\n",
    "\n",
    "block_input_contribution = torch.mul(weight_product_sum, block_input)"
   ]
  },
  {
   "cell_type": "code",
   "execution_count": null,
   "id": "a68d99ba-93cc-4cd6-926f-bddb125e8ed8",
   "metadata": {},
   "outputs": [],
   "source": [
    "# Contribution of dense layer after attention heads to FFN\n",
    "\n",
    "# transformer.h.23.self_attention.query_key_value.weight torch.Size([3072, 1024])\n",
    "# Activation shape: torch.Size([1, 10, 3072])\n",
    "# transformer.h.23.self_attention.dense.weight torch.Size([1024, 1024])\n",
    "\n",
    "#delta_v \n",
    "\n"
   ]
  },
  {
   "cell_type": "code",
   "execution_count": null,
   "id": "5bfdc40e-ccf7-482b-abee-3d1841b15f4a",
   "metadata": {},
   "outputs": [],
   "source": [
    "for name, param in model.named_parameters():\n",
    "    if \"bias\" in name:\n",
    "        continue\n",
    "        \n",
    "    # output = xW(transpose) + b\n",
    "    # The model weights are already transposed, so input and output dims appear swapped\n",
    "    print(name, param.shape)\n",
    "\n",
    "    hierarchy = name.split(\".\")\n",
    "    curr_act = outputs.activations[0]\n",
    "\n",
    "    for level in hierarchy:\n",
    "        if level not in [\"weight\", \"bias\"]:\n",
    "            curr_act = curr_act[level]\n",
    "        else:\n",
    "            break\n",
    "\n",
    "    print(f\"Activation shape: {curr_act.shape}\")"
   ]
  },
  {
   "cell_type": "code",
   "execution_count": null,
   "id": "3565feb9-259e-42f5-84b7-10dfd8a6439d",
   "metadata": {},
   "outputs": [],
   "source": [
    "for name, param in model.named_parameters():\n",
    "    if name == \"transformer.h.23.mlp.dense_4h_to_h.weight\":\n",
    "        print(param)"
   ]
  }
 ],
 "metadata": {
  "kernelspec": {
   "display_name": "tap",
   "language": "python",
   "name": "tap"
  },
  "language_info": {
   "codemirror_mode": {
    "name": "ipython",
    "version": 3
   },
   "file_extension": ".py",
   "mimetype": "text/x-python",
   "name": "python",
   "nbconvert_exporter": "python",
   "pygments_lexer": "ipython3",
   "version": "3.10.9"
  }
 },
 "nbformat": 4,
 "nbformat_minor": 5
}
