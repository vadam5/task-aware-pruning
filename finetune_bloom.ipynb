{
 "cells": [
  {
   "cell_type": "code",
   "execution_count": 48,
   "id": "0e7a688f-ae54-4190-8cdc-d7323de203f2",
   "metadata": {},
   "outputs": [],
   "source": [
    "import random\n",
    "import torch\n",
    "import pickle as pkl\n",
    "\n",
    "from transformers import AutoTokenizer, BloomForCausalLM\n",
    "from transformers import TrainingArguments, Trainer\n",
    "from transformers import DataCollatorForLanguageModeling"
   ]
  },
  {
   "cell_type": "code",
   "execution_count": 35,
   "id": "f2244ad1-1d4e-4347-b81e-9ab0d95f7251",
   "metadata": {},
   "outputs": [],
   "source": [
    "# Load model and tokenizer\n",
    "tokenizer = AutoTokenizer.from_pretrained(\"bigscience/bloom-560m\")\n",
    "model = BloomForCausalLM.from_pretrained(\"bigscience/bloom-560m\")\n",
    "context_length = 2048"
   ]
  },
  {
   "cell_type": "code",
   "execution_count": 52,
   "id": "f0210519-aef2-4cf9-ac53-ccf8055db421",
   "metadata": {},
   "outputs": [],
   "source": [
    "#Load data\n",
    "split_percent = 0.95\n",
    "\n",
    "data = pkl.load(open(\"conv_dicts/530_human_filtered_conv_pairs.pkl\", \"rb\"))\n",
    "random.shuffle(data)\n",
    "split = int(split_percent * len(data))\n",
    "\n",
    "train_data = data[:split]\n",
    "val_data = data[split:]"
   ]
  },
  {
   "cell_type": "code",
   "execution_count": 64,
   "id": "f9933752-56c5-491c-9576-af24c7cb9a65",
   "metadata": {
    "tags": []
   },
   "outputs": [],
   "source": [
    "# tokenize data\n",
    "tokenizer.pad_token = tokenizer.eos_token\n",
    "\n",
    "def tokenize(data, tokenizer, context_length):\n",
    "    outputs = tokenizer(\n",
    "        data,\n",
    "        truncation=True,\n",
    "        max_length=context_length,\n",
    "        return_overflowing_tokens=True,\n",
    "        return_length=True,\n",
    "    )\n",
    "    \n",
    "    input_batch = []\n",
    "    for length, input_ids in zip(outputs[\"length\"], outputs[\"input_ids\"]):\n",
    "        if length < context_length:\n",
    "            input_batch.append(input_ids)\n",
    "            \n",
    "    return input_batch"
   ]
  },
  {
   "cell_type": "code",
   "execution_count": 65,
   "id": "a7c627c5-a30b-49fc-abad-e31315bce8a8",
   "metadata": {},
   "outputs": [],
   "source": [
    "class DialogueDataset(torch.utils.data.Dataset):\n",
    "    def __init__(self, data_list, tokenizer, context_length):\n",
    "        self.data_strings = data_list\n",
    "        self.tokenized_data = tokenize(data_list, tokenizer, context_length)\n",
    "        \n",
    "    def __len__(self):\n",
    "        return len(self.data_strings)\n",
    "    \n",
    "    def __getitem__(self, idx):\n",
    "        return self.tokenized_data[idx].copy()"
   ]
  },
  {
   "cell_type": "code",
   "execution_count": 66,
   "id": "dc136740-3243-4612-8633-bde087dd8c1b",
   "metadata": {},
   "outputs": [],
   "source": [
    "train_dataset = DialogueDataset(train_data, tokenizer, context_length)\n",
    "val_dataset = DialogueDataset(val_data, tokenizer, context_length)"
   ]
  },
  {
   "cell_type": "code",
   "execution_count": 67,
   "id": "aa2c5918-51eb-4c8b-b7ea-175295f36b80",
   "metadata": {},
   "outputs": [],
   "source": [
    "data_collator = DataCollatorForLanguageModeling(tokenizer=tokenizer, mlm=False)"
   ]
  },
  {
   "cell_type": "code",
   "execution_count": 69,
   "id": "5545b6ec-cbad-4204-927a-f970a5cccf5e",
   "metadata": {},
   "outputs": [
    {
     "name": "stderr",
     "output_type": "stream",
     "text": [
      "PyTorch: setting up devices\n",
      "The default value for the training argument `--report_to` will change in v5 (from all installed integrations to none). In v5, you will need to use `--report_to all` to get the same behavior as now. You should start updating your code and make this info disappear :-).\n"
     ]
    }
   ],
   "source": [
    "# Setup trainer args\n",
    "training_args = TrainingArguments(\n",
    "    output_dir=\"./results\",\n",
    "    evaluation_strategy=\"epoch\",\n",
    "    logging_strategy=\"steps\",\n",
    "    learning_rate=2e-5,\n",
    "    weight_decay=0.01,\n",
    "    num_train_epochs=3,\n",
    "    logging_steps=5,\n",
    ")"
   ]
  },
  {
   "cell_type": "code",
   "execution_count": 70,
   "id": "f754e571-7c23-4a88-abdf-98d8d9f4af41",
   "metadata": {},
   "outputs": [],
   "source": [
    "# init trainer\n",
    "trainer = Trainer(\n",
    "    model=model,\n",
    "    args=training_args,\n",
    "    train_dataset=train_dataset,\n",
    "    eval_dataset=val_dataset,\n",
    "    data_collator=data_collator,\n",
    ")"
   ]
  },
  {
   "cell_type": "code",
   "execution_count": 71,
   "id": "c506370d-def3-4f73-9420-5bca7e928708",
   "metadata": {},
   "outputs": [
    {
     "name": "stderr",
     "output_type": "stream",
     "text": [
      "***** Running training *****\n",
      "  Num examples = 503\n",
      "  Num Epochs = 3\n",
      "  Instantaneous batch size per device = 8\n",
      "  Total train batch size (w. parallel, distributed & accumulation) = 8\n",
      "  Gradient Accumulation steps = 1\n",
      "  Total optimization steps = 189\n",
      "  Number of trainable parameters = 559214592\n"
     ]
    },
    {
     "data": {
      "text/html": [
       "\n",
       "    <div>\n",
       "      \n",
       "      <progress value='189' max='189' style='width:300px; height:20px; vertical-align: middle;'></progress>\n",
       "      [189/189 15:30, Epoch 3/3]\n",
       "    </div>\n",
       "    <table border=\"1\" class=\"dataframe\">\n",
       "  <thead>\n",
       " <tr style=\"text-align: left;\">\n",
       "      <th>Epoch</th>\n",
       "      <th>Training Loss</th>\n",
       "      <th>Validation Loss</th>\n",
       "    </tr>\n",
       "  </thead>\n",
       "  <tbody>\n",
       "    <tr>\n",
       "      <td>1</td>\n",
       "      <td>0.790200</td>\n",
       "      <td>0.828489</td>\n",
       "    </tr>\n",
       "    <tr>\n",
       "      <td>2</td>\n",
       "      <td>0.336500</td>\n",
       "      <td>0.391211</td>\n",
       "    </tr>\n",
       "    <tr>\n",
       "      <td>3</td>\n",
       "      <td>0.180400</td>\n",
       "      <td>0.322937</td>\n",
       "    </tr>\n",
       "  </tbody>\n",
       "</table><p>"
      ],
      "text/plain": [
       "<IPython.core.display.HTML object>"
      ]
     },
     "metadata": {},
     "output_type": "display_data"
    },
    {
     "name": "stderr",
     "output_type": "stream",
     "text": [
      "***** Running Evaluation *****\n",
      "  Num examples = 27\n",
      "  Batch size = 8\n",
      "***** Running Evaluation *****\n",
      "  Num examples = 27\n",
      "  Batch size = 8\n",
      "***** Running Evaluation *****\n",
      "  Num examples = 27\n",
      "  Batch size = 8\n",
      "\n",
      "\n",
      "Training completed. Do not forget to share your model on huggingface.co/models =)\n",
      "\n",
      "\n"
     ]
    },
    {
     "data": {
      "text/plain": [
       "TrainOutput(global_step=189, training_loss=0.6709897691610629, metrics={'train_runtime': 937.9351, 'train_samples_per_second': 1.609, 'train_steps_per_second': 0.202, 'total_flos': 335937985609728.0, 'train_loss': 0.6709897691610629, 'epoch': 3.0})"
      ]
     },
     "execution_count": 71,
     "metadata": {},
     "output_type": "execute_result"
    }
   ],
   "source": [
    "trainer.train()"
   ]
  },
  {
   "cell_type": "code",
   "execution_count": 73,
   "id": "c0e21227-397a-45b1-8958-52403e4ae6b4",
   "metadata": {},
   "outputs": [
    {
     "name": "stderr",
     "output_type": "stream",
     "text": [
      "Saving model checkpoint to ./results\n",
      "Configuration saved in ./results/config.json\n",
      "Configuration saved in ./results/generation_config.json\n",
      "Model weights saved in ./results/pytorch_model.bin\n"
     ]
    }
   ],
   "source": [
    "trainer.save_model()"
   ]
  },
  {
   "cell_type": "code",
   "execution_count": 74,
   "id": "0a8d9afc-190a-4a38-b787-58b64e790e5f",
   "metadata": {},
   "outputs": [],
   "source": [
    "finetuned_model = trainer.model"
   ]
  },
  {
   "cell_type": "code",
   "execution_count": 85,
   "id": "81610174-2070-4c38-8a1b-bfc8fb7b2c60",
   "metadata": {},
   "outputs": [
    {
     "name": "stderr",
     "output_type": "stream",
     "text": [
      "Generate config GenerationConfig {\n",
      "  \"bos_token_id\": 1,\n",
      "  \"eos_token_id\": 2,\n",
      "  \"pad_token_id\": 3,\n",
      "  \"transformers_version\": \"4.26.0\"\n",
      "}\n",
      "\n"
     ]
    },
    {
     "name": "stdout",
     "output_type": "stream",
     "text": [
      "['user: Do you like watching movies?\\nchatbot: Yes, I really enjoy watching movies! My favorite so far is \"Juliette Houston,\" which I think is really gripping and well-done. I think the acting is spot on and the special effects really work. I haven\\'t seen any other']\n"
     ]
    }
   ],
   "source": [
    "line = \"user: Do you like watching movies?\\nchatbot:\"\n",
    "inputs = tokenizer(line, return_tensors=\"pt\")\n",
    "pruned_times = []\n",
    "\n",
    "\n",
    "outputs = finetuned_model.generate(\n",
    "    input_ids=inputs[\"input_ids\"], \n",
    "    max_new_tokens=50, \n",
    "    do_sample=True, \n",
    "    top_k=50, \n",
    "    top_p=0.95,\n",
    ")\n",
    "\n",
    "print(tokenizer.batch_decode(outputs, skip_special_tokens=True))"
   ]
  },
  {
   "cell_type": "code",
   "execution_count": null,
   "id": "11b2dbe3-1cc0-468a-84ab-f81ab163f6b7",
   "metadata": {},
   "outputs": [],
   "source": []
  }
 ],
 "metadata": {
  "kernelspec": {
   "display_name": "tap",
   "language": "python",
   "name": "tap"
  },
  "language_info": {
   "codemirror_mode": {
    "name": "ipython",
    "version": 3
   },
   "file_extension": ".py",
   "mimetype": "text/x-python",
   "name": "python",
   "nbconvert_exporter": "python",
   "pygments_lexer": "ipython3",
   "version": "3.10.9"
  }
 },
 "nbformat": 4,
 "nbformat_minor": 5
}
