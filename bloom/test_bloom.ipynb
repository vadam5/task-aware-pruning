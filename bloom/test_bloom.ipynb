{
 "cells": [
  {
   "cell_type": "code",
   "execution_count": 1,
   "id": "74f3960d-38d7-478a-9098-6580d5fb4b2c",
   "metadata": {},
   "outputs": [
    {
     "name": "stderr",
     "output_type": "stream",
     "text": [
      "/opt/homebrew/lib/python3.10/site-packages/tqdm/auto.py:22: TqdmWarning: IProgress not found. Please update jupyter and ipywidgets. See https://ipywidgets.readthedocs.io/en/stable/user_install.html\n",
      "  from .autonotebook import tqdm as notebook_tqdm\n"
     ]
    }
   ],
   "source": [
    "import torch\n",
    "from transformers import AutoTokenizer, BloomForCausalLM\n",
    "from bloom_for_node_attribution import BloomForCausalLMForNodeAttribution"
   ]
  },
  {
   "cell_type": "code",
   "execution_count": 2,
   "id": "d38d50f7-ce8d-49fe-b7f9-73f9279a1197",
   "metadata": {},
   "outputs": [],
   "source": [
    "tokenizer = AutoTokenizer.from_pretrained(\"bigscience/bloom-560m\")\n",
    "model = BloomForCausalLMForNodeAttribution.from_pretrained(\"bigscience/bloom-560m\")"
   ]
  },
  {
   "cell_type": "code",
   "execution_count": 3,
   "id": "ef18bd5c-3038-4b9a-a1c0-84c14652f4e1",
   "metadata": {},
   "outputs": [],
   "source": [
    "inputs = tokenizer(\"Hello, I am an AlexPrize chatbot\", return_tensors=\"pt\")\n",
    "seq_length = len(inputs[\"input_ids\"][0])\n",
    "outputs = model.generate(input_ids=inputs[\"input_ids\"], max_new_tokens=1, do_sample=True, top_k=50, top_p=0.95, return_dict_in_generate=True)"
   ]
  },
  {
   "cell_type": "code",
   "execution_count": 4,
   "id": "9c505e79-19fe-4ea0-b3fe-0410b69b460c",
   "metadata": {},
   "outputs": [
    {
     "data": {
      "text/plain": [
       "['Hello, I am an AlexPrize chatbot.\\n']"
      ]
     },
     "execution_count": 4,
     "metadata": {},
     "output_type": "execute_result"
    }
   ],
   "source": [
    "tokenizer.batch_decode(outputs.sequences, skip_special_tokens=True)"
   ]
  },
  {
   "cell_type": "code",
   "execution_count": 22,
   "id": "0b1644e6-0032-4707-9948-856def8ecee1",
   "metadata": {},
   "outputs": [
    {
     "name": "stdout",
     "output_type": "stream",
     "text": [
      "tensor([[ 4.5872e-02, -4.6421e-02, -4.1495e-02,  ...,  4.6246e+01,\n",
      "          7.3020e-03,  9.8865e-02],\n",
      "        [-4.6934e-02, -2.8784e-02, -3.4557e-02,  ...,  3.9431e+01,\n",
      "         -1.2985e-03, -3.0629e-02],\n",
      "        [ 8.1281e-03, -9.8136e-03, -1.6750e-02,  ...,  4.3258e+01,\n",
      "         -1.4852e-02,  4.6938e-02],\n",
      "        ...,\n",
      "        [-9.3010e-02, -1.9035e-03,  5.5965e-02,  ...,  3.8051e+01,\n",
      "         -3.8928e-02,  5.1447e-06],\n",
      "        [ 1.8649e-02,  2.7172e-02, -3.7876e-03,  ...,  4.0829e+01,\n",
      "         -5.3049e-03,  2.8129e-01],\n",
      "        [ 3.1953e-04,  7.5846e-02,  2.1626e-02,  ...,  4.2024e+01,\n",
      "         -9.2955e-03,  3.6013e-02]], grad_fn=<MulBackward0>)\n"
     ]
    }
   ],
   "source": [
    "# Final hidden states to LM head contributions\n",
    "lm_head_weights = next(param for param in model.lm_head.parameters())\n",
    "\n",
    "# Only care about sequence tokens and none of the others\n",
    "seq_token_weights = torch.index_select(lm_head_weights, 0, outputs.sequences[0][:-1])\n",
    "hidden_state_activations = outputs.activations[0][\"transformer\"][\"ln_f\"].squeeze()\n",
    "\n",
    "# Contribution of layer normed final hidden states to token logit\n",
    "contribution1 = torch.mul(seq_token_weights, hidden_state_activations)\n",
    "print(contribution1)"
   ]
  },
  {
   "cell_type": "code",
   "execution_count": 23,
   "id": "cdfcf684-3384-4340-8cba-9abef8228287",
   "metadata": {},
   "outputs": [
    {
     "name": "stdout",
     "output_type": "stream",
     "text": [
      "tensor([[-1.3841e-03,  6.3697e-04, -1.5406e-04,  ...,  4.3465e-04,\n",
      "          4.0150e-05, -5.9891e-04],\n",
      "        [ 4.7142e-03, -1.7368e-03,  2.8305e-04,  ..., -2.0748e-04,\n",
      "         -1.3106e-03,  1.1136e-03],\n",
      "        [ 1.4183e-03, -2.4820e-04, -1.8910e-05,  ...,  8.2431e-06,\n",
      "         -3.1495e-04,  7.1449e-04],\n",
      "        ...,\n",
      "        [ 1.7915e-03,  2.5799e-04,  2.0766e-04,  ..., -3.4075e-05,\n",
      "          4.3839e-04,  7.2800e-04],\n",
      "        [ 7.3433e-04,  2.0247e-04, -1.6178e-03,  ..., -4.9226e-05,\n",
      "         -1.0721e-03,  2.0690e-04],\n",
      "        [-5.4961e-04, -1.2362e-04, -6.1327e-04,  ..., -1.6303e-04,\n",
      "         -3.7989e-04, -7.8312e-04]], grad_fn=<SumBackward1>)\n"
     ]
    }
   ],
   "source": [
    "# Contribution of final feed forward layer to hidden states\n",
    "\n",
    "# Give activations shape (seq length, 1, input size)\n",
    "# delta_x\n",
    "mlp_dense_4h_to_h_activations = outputs.activations[0][\"transformer\"][\"h\"][\"23\"][\"mlp\"][\"dense_h_to_4h\"]\n",
    "mlp_dense_4h_to_h_activations = torch.transpose(mlp_dense_4h_to_h_activations, 0, 1)\n",
    "\n",
    "# w_xy\n",
    "mlp_dense_4h_to_h_weight = None\n",
    "for name, param in model.named_parameters():\n",
    "    if name == \"transformer.h.23.mlp.dense_4h_to_h.weight\":\n",
    "        mlp_dense_4h_to_h_weight = param\n",
    "        \n",
    "input_size = mlp_dense_4h_to_h_weight.shape[1]\n",
    "output_size = mlp_dense_4h_to_h_weight.shape[0]\n",
    "\n",
    "# Give weights shape (seq length x output size x input size)\n",
    "# In each (output size x input size) matrix, each row's elements are the weights from an input node to the output node corresponding to that rows index\n",
    "mlp_dense_4h_to_h_weight = mlp_dense_4h_to_h_weight.expand(seq_length, output_size, input_size)\n",
    "\n",
    "# Essentially the previous weight product\n",
    "# w_yz\n",
    "seq_token_weights = seq_token_weights.unsqueeze(-1)\n",
    "seq_token_weights = seq_token_weights.expand(seq_length, output_size, input_size)\n",
    "\n",
    "# Multiply current layer weights with previous layer weights\n",
    "# Element-wise multiply each column by the output layer's weights to the final layer to get input layer's contribution to final prediction\n",
    "# w_xy * w_yz\n",
    "weight_product = torch.mul(mlp_dense_4h_to_h_weight, seq_token_weights)\n",
    "\n",
    "# Element-wise multiply each weight row by the input node's activation\n",
    "# Each column in contribution2 contains one input node's weights to every output node\n",
    "# w_xy * w_yz * delta_x\n",
    "contribution2 = torch.mul(weight_product, mlp_dense_4h_to_h_activations)\n",
    "\n",
    "# Sum over column's elements to get contribution of input node to final token output\n",
    "# sum(w_xy * w_yz * delta_x) over all y\n",
    "contribution2 = torch.sum(contribution2, 1)\n",
    "\n",
    "# Sum over column's elements (aka all weights from one input node to all output nodes) to have weight matrix for next layer\n",
    "# sum(w_xy * w_yz) over all y, used for next computation\n",
    "weight_product_sum = torch.sum(weight_product, 1)\n",
    "print(contribution2)"
   ]
  },
  {
   "cell_type": "code",
   "execution_count": 24,
   "id": "d156e2c5-72d6-424e-80bc-ef5b957468db",
   "metadata": {},
   "outputs": [
    {
     "name": "stdout",
     "output_type": "stream",
     "text": [
      "tensor([[-1.6548e-03, -2.2128e-02, -8.0217e-03,  ..., -2.2217e+00,\n",
      "          6.2512e-03, -4.4189e-02],\n",
      "        [-3.0524e-02,  1.9464e-03, -9.5641e-02,  ..., -1.6648e+00,\n",
      "         -1.9307e-02,  2.3634e-02],\n",
      "        [ 9.8880e-03,  3.1073e-02, -2.9036e-02,  ..., -1.9420e+00,\n",
      "          1.3735e-03, -1.0021e-02],\n",
      "        ...,\n",
      "        [-8.0712e-03,  9.5216e-03,  1.3890e-02,  ..., -1.5980e+00,\n",
      "          2.2731e-04, -2.1542e-03],\n",
      "        [ 1.0310e-03,  2.0804e-02,  1.6554e-02,  ..., -2.0859e+00,\n",
      "         -2.4728e-03, -1.0520e-01],\n",
      "        [-4.2761e-03,  5.1319e-02,  2.1998e-02,  ..., -2.0985e+00,\n",
      "          3.5365e-04, -4.2339e-02]], grad_fn=<SumBackward1>)\n"
     ]
    }
   ],
   "source": [
    "# Contribution of mlp.dense_h_to_4h inputs to the predicted token\n",
    "\n",
    "#delta_w\n",
    "post_attention_layernorm_activations = outputs.activations[0][\"transformer\"][\"h\"][\"23\"][\"post_attention_layernorm\"]\n",
    "post_attention_layernorm_activations = torch.transpose(post_attention_layernorm_activations, 0, 1)\n",
    "\n",
    "# w_wx\n",
    "mlp_dense_h_to_4h_weight = None\n",
    "for name, param in model.named_parameters():\n",
    "    if name == \"transformer.h.23.mlp.dense_h_to_4h.weight\":\n",
    "        mlp_dense_h_to_4h_weight = param\n",
    "        \n",
    "input_size = mlp_dense_h_to_4h_weight.shape[1]\n",
    "output_size = mlp_dense_h_to_4h_weight.shape[0]\n",
    "\n",
    "# Give weights shape (seq length x output size x input size)\n",
    "# In each (output size x input size) matrix, each row's elements are the weights from an input node to the output node corresponding to that rows index\n",
    "mlp_dense_h_to_4h_weight = mlp_dense_h_to_4h_weight.expand(seq_length, output_size, input_size)\n",
    "\n",
    "# Rehape previous weight product sum for multiplciation with current weights\n",
    "# sum(w_xy * w_yz) over all y, used for next computation\n",
    "weight_product_sum = weight_product_sum.unsqueeze(-1)\n",
    "weight_product_sum = weight_product_sum.expand(seq_length, output_size, input_size)\n",
    "\n",
    "# w_wx * sum(w_xy * w_yz) over all y\n",
    "weight_product = torch.mul(mlp_dense_h_to_4h_weight, weight_product_sum)\n",
    "\n",
    "# w_wx * delta_w * sum(w_xy * w_yz) over all y\n",
    "contribution3 = torch.mul(weight_product, post_attention_layernorm_activations)\n",
    "\n",
    "# sum(w_wx * delta_w * sum(w_xy * w_yz) over all y) over all x\n",
    "contribution3 = torch.sum(contribution3, 1)\n",
    "\n",
    "# sum(w_wx * sum(w_xy * w_yz) over all y) over all x, for next computation\n",
    "weight_product_sum = torch.sum(weight_product, 1)\n",
    "print(contribution3)"
   ]
  },
  {
   "cell_type": "code",
   "execution_count": 25,
   "id": "fe4a76cc-4c41-4967-a6bd-dc04f6160b3c",
   "metadata": {},
   "outputs": [
    {
     "name": "stdout",
     "output_type": "stream",
     "text": [
      "torch.Size([10, 1024])\n"
     ]
    }
   ],
   "source": [
    "# Dense output to merged attention heads\n",
    "\n",
    "# Delta_v\n",
    "merged_head_activations = outputs.activations[0][\"transformer\"][\"h\"][\"23\"][\"self_attention\"][\"merge_heads\"]\n",
    "merged_head_activations = torch.transpose(merged_head_activations, 0, 1)\n",
    "\n",
    "# w_vw\n",
    "self_attention_dense_weight = None\n",
    "for name, param in model.named_parameters():\n",
    "    if name == \"transformer.h.23.self_attention.dense.weight\":\n",
    "        self_attention_dense_weight = param\n",
    "        \n",
    "input_size = self_attention_dense_weight.shape[1]\n",
    "output_size = self_attention_dense_weight.shape[0]\n",
    "\n",
    "# Give weights shape (seq length x output size x input size)\n",
    "# In each (output size x input size) matrix, each row's elements are the weights from an input node to the output node corresponding to that rows index\n",
    "self_attention_dense_weight = self_attention_dense_weight.expand(seq_length, output_size, input_size)\n",
    "\n",
    "# Rehape previous weight product sum for multiplciation with current weights\n",
    "weight_product_sum = weight_product_sum.unsqueeze(-1)\n",
    "weight_product_sum = weight_product_sum.expand(seq_length, output_size, input_size)\n",
    "weight_product = torch.mul(self_attention_dense_weight, weight_product_sum)\n",
    "\n",
    "contribution4 = torch.mul(weight_product, merged_head_activations)\n",
    "contribution4 = torch.sum(contribution4, 1)\n",
    "\n",
    "weight_product_sum = torch.sum(weight_product, 1)\n",
    "print(weight_product_sum.shape)"
   ]
  },
  {
   "cell_type": "code",
   "execution_count": 26,
   "id": "65541e02-4556-43d1-bd03-f095e6494830",
   "metadata": {},
   "outputs": [],
   "source": [
    "# Value layer contribution to merged head output\n",
    "\n",
    "# Value activations are the weights for the query_key output\n",
    "value_layer_activations = outputs.activations[0][\"transformer\"][\"h\"][\"23\"][\"self_attention\"][\"value_layer\"]\n",
    "\n",
    "# Query key output are the weights for the value activations\n",
    "attention_probs = outputs.activations[0][\"transformer\"][\"h\"][\"23\"][\"self_attention\"][\"attention_probs_reshaped\"]\n",
    "\n",
    "num_heads = model.transformer.h[0].self_attention.num_heads\n",
    "head_dim = model.transformer.h[0].self_attention.head_dim\n",
    "\n",
    "# Need to reshape merged head contribution to multiply with attention_probs and value (layer num heads x seq_length x head dim)\n",
    "value_layer_weight_product_sum = weight_product_sum.view(seq_length, num_heads, head_dim)\n",
    "value_layer_weight_product_sum = value_layer_weight_product_sum.transpose(0, 1)\n",
    "\n",
    "# Need to add an extra dim to the weight product sum because each column of the attention prob needs to be multiplied by the whole weight product sum\n",
    "value_layer_weight_product_sum = value_layer_weight_product_sum.unsqueeze(1)\n",
    "value_layer_weight_product_sum = value_layer_weight_product_sum.expand(num_heads, seq_length, seq_length, head_dim)\n",
    "\n",
    "# Also need to expand attention probs to have final dim=head dim for elementwise multiplication\n",
    "expanded_attention_probs = attention_probs.unsqueeze(-1)\n",
    "expanded_attention_probs = expanded_attention_probs.expand(num_heads, seq_length, seq_length, head_dim)\n",
    "\n",
    "# softmax(query x key) are the weights for the value layer\n",
    "# Multiply softmax(query x key) output by next layer's weight product sum to get the weight product some for value layer contribution\n",
    "# Need to elementwise multiply (16, 10, 10) each column of this matrix by each column of the current weight product sum matrix.\n",
    "value_layer_weight_product = torch.mul(value_layer_weight_product_sum, expanded_attention_probs)\n",
    "\n",
    "# Now we can sum over that extra dim we have. Each column in the most inner matrix represents one number in the value layer's weight product sum contribution.\n",
    "value_layer_weight_product_sum = torch.sum(value_layer_weight_product, 2)\n",
    "\n",
    "# If I elementwise multiplied the value layer and this current weight product sum, it gives the value layer output's contribution to the final prediction.\n",
    "value_layer_contributions = torch.mul(value_layer_activations, value_layer_weight_product_sum)"
   ]
  },
  {
   "cell_type": "code",
   "execution_count": null,
   "id": "38cc3635-febe-4b44-8da8-7282da6a2e74",
   "metadata": {},
   "outputs": [],
   "source": [
    "# Query_Key attention weight contribution\n",
    "query_key_attn_activations = outputs.activations[0][\"transformer\"][\"h\"][\"23\"][\"self_attention\"][\"query_key_attn_weights\"]\n",
    "\n",
    "# Same reshaping that was needed for the value contribution calculation\n",
    "key_query_atten_product_sum = weight_product_sum.view(seq_length, num_heads, head_dim)\n",
    "key_query_atten_product_sum = value_layer_weight_product_sum.transpose(0, 1)\n",
    "\n",
    "\n",
    "\n",
    "\n",
    "\n"
   ]
  },
  {
   "cell_type": "code",
   "execution_count": 21,
   "id": "a68d99ba-93cc-4cd6-926f-bddb125e8ed8",
   "metadata": {},
   "outputs": [],
   "source": [
    "# Contribution of dense layer after attention heads to FFN\n",
    "\n",
    "# transformer.h.23.self_attention.query_key_value.weight torch.Size([3072, 1024])\n",
    "# Activation shape: torch.Size([1, 10, 3072])\n",
    "# transformer.h.23.self_attention.dense.weight torch.Size([1024, 1024])\n",
    "\n",
    "#delta_v \n",
    "\n"
   ]
  },
  {
   "cell_type": "code",
   "execution_count": null,
   "id": "5bfdc40e-ccf7-482b-abee-3d1841b15f4a",
   "metadata": {},
   "outputs": [],
   "source": [
    "for name, param in model.named_parameters():\n",
    "    if \"bias\" in name:\n",
    "        continue\n",
    "        \n",
    "    # output = xW(transpose) + b\n",
    "    # The model weights are already transposed, so input and output dims appear swapped\n",
    "    print(name, param.shape)\n",
    "\n",
    "    hierarchy = name.split(\".\")\n",
    "    curr_act = outputs.activations[0]\n",
    "\n",
    "    for level in hierarchy:\n",
    "        if level not in [\"weight\", \"bias\"]:\n",
    "            curr_act = curr_act[level]\n",
    "        else:\n",
    "            break\n",
    "\n",
    "    print(f\"Activation shape: {curr_act.shape}\")"
   ]
  },
  {
   "cell_type": "code",
   "execution_count": null,
   "id": "3565feb9-259e-42f5-84b7-10dfd8a6439d",
   "metadata": {},
   "outputs": [],
   "source": [
    "for name, param in model.named_parameters():\n",
    "    if name == \"transformer.h.23.mlp.dense_4h_to_h.weight\":\n",
    "        print(param)"
   ]
  },
  {
   "cell_type": "code",
   "execution_count": null,
   "id": "a510d22c-17fc-40f5-805f-21056d8f0c25",
   "metadata": {},
   "outputs": [],
   "source": []
  }
 ],
 "metadata": {
  "kernelspec": {
   "display_name": "tap",
   "language": "python",
   "name": "tap"
  },
  "language_info": {
   "codemirror_mode": {
    "name": "ipython",
    "version": 3
   },
   "file_extension": ".py",
   "mimetype": "text/x-python",
   "name": "python",
   "nbconvert_exporter": "python",
   "pygments_lexer": "ipython3",
   "version": "3.10.9"
  }
 },
 "nbformat": 4,
 "nbformat_minor": 5
}
