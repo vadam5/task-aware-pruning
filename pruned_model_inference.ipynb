{
 "cells": [
  {
   "cell_type": "code",
   "execution_count": 1,
   "id": "2a3de92f-6759-41b5-b06b-f832edaec3e4",
   "metadata": {},
   "outputs": [
    {
     "name": "stderr",
     "output_type": "stream",
     "text": [
      "/opt/homebrew/lib/python3.10/site-packages/tqdm/auto.py:22: TqdmWarning: IProgress not found. Please update jupyter and ipywidgets. See https://ipywidgets.readthedocs.io/en/stable/user_install.html\n",
      "  from .autonotebook import tqdm as notebook_tqdm\n"
     ]
    }
   ],
   "source": [
    "import torch\n",
    "import json\n",
    "import time\n",
    "import numpy as np\n",
    "\n",
    "from transformers import AutoTokenizer\n",
    "from transformers.models.bloom.configuration_bloom import BloomConfig\n",
    "from pruning.pruned_bloom import PrunedBloomForCausalLM\n",
    "from node_attribution.utils import count_params\n",
    "from rouge_score import rouge_scorer"
   ]
  },
  {
   "cell_type": "code",
   "execution_count": 2,
   "id": "42d1fb51-4885-4939-a618-0f96f12b3935",
   "metadata": {},
   "outputs": [],
   "source": [
    "tokenizer = AutoTokenizer.from_pretrained(f\"bigscience/bloom-560m\")"
   ]
  },
  {
   "cell_type": "code",
   "execution_count": 3,
   "id": "74165a44-7e25-4040-a1a9-6ca5a986be88",
   "metadata": {},
   "outputs": [],
   "source": [
    "def score(model, tokenizer, sentence):\n",
    "    tensor_input = tokenizer.encode(sentence, return_tensors='pt')\n",
    "    repeat_input = tensor_input.repeat(tensor_input.size(-1)-2, 1)\n",
    "    mask = torch.ones(tensor_input.size(-1) - 1).diag(1)[:-2]\n",
    "    masked_input = repeat_input.masked_fill(mask == 1, tokenizer.pad_token_id)\n",
    "    labels = repeat_input.masked_fill( masked_input != tokenizer.pad_token_id, -100)\n",
    "    with torch.inference_mode():\n",
    "        loss = model(masked_input, labels=labels).loss\n",
    "    return np.exp(loss.item())"
   ]
  },
  {
   "cell_type": "code",
   "execution_count": 4,
   "id": "5ed63a74-abb2-4968-aa2c-5a82686d476b",
   "metadata": {},
   "outputs": [],
   "source": [
    "weights_path = \"pruned_560m_bloom.pt\"\n",
    "state_dict_shapes_path = \"state_dict_shapes.pkl\"\n",
    "config_path = \"bloom_560m_config.json\"\n",
    "config_json = json.load(open(config_path, \"rb\"))\n",
    "bloom_config = BloomConfig(\n",
    "    vocab_size=250880,\n",
    "    hidden_size=1024,\n",
    "    n_layer=24,\n",
    "    n_head=16,\n",
    "    layer_norm_epsilon=1e-5,\n",
    "    initializer_range=0.02,\n",
    "    use_cache=True,\n",
    "    bos_token_id=1,\n",
    "    eos_token_id=2,\n",
    "    apply_residual_connection_post_layernorm=False,\n",
    "    hidden_dropout=0.0,\n",
    "    attention_dropout=0.0,\n",
    "    pretraining_tp=1,  # TP rank used when training with megatron\n",
    "    slow_but_exact=False,\n",
    "    attention_softmax_in_fp32=True,\n",
    "    bias_dropout_fusion=True,\n",
    "    masked_softmax_fusion=True,\n",
    "    offset_alibi=100,\n",
    "    pad_token_id=3,\n",
    "    seq_length=2048,\n",
    "    skip_bias_add=True,\n",
    "    skip_bias_add_qkv=False,\n",
    "    unk_token_id=0,\n",
    "    \n",
    ")"
   ]
  },
  {
   "cell_type": "code",
   "execution_count": 5,
   "id": "2d70af46-70b3-4775-b40f-6edccfb70a15",
   "metadata": {},
   "outputs": [],
   "source": [
    "pruned_model = PrunedBloomForCausalLM(bloom_config, state_dict_shapes_path)"
   ]
  },
  {
   "cell_type": "code",
   "execution_count": 6,
   "id": "ed6bfc52-6743-48db-82d4-dc8de97a119a",
   "metadata": {},
   "outputs": [
    {
     "data": {
      "text/plain": [
       "<All keys matched successfully>"
      ]
     },
     "execution_count": 6,
     "metadata": {},
     "output_type": "execute_result"
    }
   ],
   "source": [
    "pruned_model.load_state_dict(torch.load(weights_path))"
   ]
  },
  {
   "cell_type": "code",
   "execution_count": 7,
   "id": "d4526c93-9061-4e02-9c92-9385086e4294",
   "metadata": {},
   "outputs": [
    {
     "name": "stdout",
     "output_type": "stream",
     "text": [
      "0.10005102656548703\n"
     ]
    }
   ],
   "source": [
    "pruned_percent = 1.0 - (count_params(pruned_model)[-1] / 559214592)\n",
    "print(pruned_percent)"
   ]
  },
  {
   "cell_type": "code",
   "execution_count": 8,
   "id": "0db0af9e-3a66-4d72-88eb-f7b638582f46",
   "metadata": {},
   "outputs": [],
   "source": [
    "num_trials = 1"
   ]
  },
  {
   "cell_type": "code",
   "execution_count": 9,
   "id": "35f458a6-cc2e-40ab-b522-239a9379252c",
   "metadata": {
    "tags": []
   },
   "outputs": [
    {
     "name": "stdout",
     "output_type": "stream",
     "text": [
      "38.79999376397738\n"
     ]
    }
   ],
   "source": [
    "print(score(sentence=\"Oh, interesting, I am not familiar with that movie! Can you tell me more about it?\", model=pruned_model, tokenizer=tokenizer)) "
   ]
  },
  {
   "cell_type": "code",
   "execution_count": 10,
   "id": "a0446e0b-5008-4cf0-8e2d-23e6ab6ad16b",
   "metadata": {
    "tags": []
   },
   "outputs": [
    {
     "name": "stdout",
     "output_type": "stream",
     "text": [
      "inference time: 7.5935821533203125\n",
      "[\"Hello, I am a social bot!  I'm a small, but well-informed, social...\\n[Adadadadadadadadadadadadadadadadadadadadadadadadadadadadadadadadadadadadadadadadadadadadadadadadadadadadadadadadadadadadadadadadadadadadadadadadadadadadadadadadadadadadadadadad\"]\n"
     ]
    }
   ],
   "source": [
    "line = \"Hello, I am a social bot! \"\n",
    "inputs = tokenizer(line, return_tensors=\"pt\")\n",
    "pruned_times = []\n",
    "\n",
    "for i in range(num_trials):\n",
    "    start = time.time()\n",
    "    outputs = pruned_model.generate(\n",
    "        input_ids=inputs[\"input_ids\"], \n",
    "        max_new_tokens=100, \n",
    "        do_sample=True, \n",
    "        top_k=50, \n",
    "        top_p=0.95,\n",
    "    )\n",
    "    end = time.time()\n",
    "    pruned_times.append(end - start)\n",
    "    print(f\"inference time: {end - start}\")\n",
    "    \n",
    "print(tokenizer.batch_decode(outputs, skip_special_tokens=True))"
   ]
  },
  {
   "cell_type": "code",
   "execution_count": 11,
   "id": "472ae8a8-fe5e-4c9f-ac4c-7c87bdfd911c",
   "metadata": {},
   "outputs": [
    {
     "data": {
      "text/plain": [
       "[7.5935821533203125]"
      ]
     },
     "execution_count": 11,
     "metadata": {},
     "output_type": "execute_result"
    }
   ],
   "source": [
    "pruned_times"
   ]
  },
  {
   "cell_type": "code",
   "execution_count": 12,
   "id": "73f2b340-809f-488b-9f6c-e6fca8f0fdd4",
   "metadata": {},
   "outputs": [
    {
     "name": "stdout",
     "output_type": "stream",
     "text": [
      "7.5935821533203125\n",
      "0.0\n"
     ]
    }
   ],
   "source": [
    "mean_pruned = np.mean(pruned_times)\n",
    "std_pruned = np.std(pruned_times)\n",
    "print(mean_pruned)\n",
    "print(std_pruned)"
   ]
  },
  {
   "cell_type": "code",
   "execution_count": 13,
   "id": "104a4c81-3a20-4efd-bd97-c79efc2e31ed",
   "metadata": {},
   "outputs": [],
   "source": [
    "# while True:\n",
    "#     line = input(\"You:\")\n",
    "#     inputs = tokenizer(line, return_tensors=\"pt\")\n",
    "#     outputs = pruned_model.generate(\n",
    "#         input_ids=inputs[\"input_ids\"], \n",
    "#         max_new_tokens=20, \n",
    "#         do_sample=True, \n",
    "#         top_k=50, \n",
    "#         top_p=0.95,\n",
    "#     )\n",
    "#     print(tokenizer.batch_decode(outputs, skip_special_tokens=True))"
   ]
  },
  {
   "cell_type": "code",
   "execution_count": null,
   "id": "155b46d0-210c-4021-a9f8-02d332687cd0",
   "metadata": {},
   "outputs": [],
   "source": [
    "# full_line = \"Person: My favorite movie is the The Day After Tomorrow\\nSocialBot: Oh, interesting, I am not familiar with that movie! Can you tell me more about it?\"\n",
    "# prompt_line = \"Person: My favorite movie is The Day After Tomorrow\\nSocialBot: \"\n",
    "# completion = full_line.split(prompt_line)[-1]\n",
    "# inputs = tokenizer(prompt_line, return_tensors=\"pt\")\n",
    "\n",
    "# #for i in range(num_trials):\n",
    "# outputs = pruned_model.generate(\n",
    "#     input_ids=inputs[\"input_ids\"], \n",
    "#     max_new_tokens=25, \n",
    "#     do_sample=True, \n",
    "#     top_k=50, \n",
    "#     top_p=0.95,\n",
    "# )\n",
    "# out_seq = tokenizer.batch_decode(outputs, skip_special_tokens=True)\n",
    "# out_seq = out_seq[0].split(\"Person: My favorite movie is The Day After Tomorrow\\nSocialBot: \")[-1]\n",
    "# r_scorer = rouge_scorer.RougeScorer(['rouge1', 'rougeL'], use_stemmer=True)\n",
    "# rouge_scores = r_scorer.score(completion, out_seq)"
   ]
  },
  {
   "cell_type": "code",
   "execution_count": null,
   "id": "f0a587c8-e2d2-4204-8daf-3068a718fa17",
   "metadata": {},
   "outputs": [],
   "source": [
    "# from transformers import AutoTokenizer, BloomForCausalLM"
   ]
  },
  {
   "cell_type": "code",
   "execution_count": null,
   "id": "d4bb5cd7-6d04-4876-ac9f-5dda689bd22e",
   "metadata": {},
   "outputs": [],
   "source": [
    "# model = BloomForCausalLM.from_pretrained(\"bigscience/bloom-560m\")"
   ]
  },
  {
   "cell_type": "code",
   "execution_count": null,
   "id": "78c663a4-c791-45e2-a9d1-53f79aaa3013",
   "metadata": {},
   "outputs": [],
   "source": [
    "# inputs = tokenizer(\"Person: My favorite movie is The Day After Tomorrow\\nSocialBot: \", return_tensors=\"pt\")\n",
    "# start = time.time()\n",
    "# outputs = model.generate(input_ids=inputs[\"input_ids\"], max_new_tokens=25, do_sample=True, top_k=50, top_p=0.95)\n",
    "# end = time.time()\n",
    "# print(tokenizer.batch_decode(outputs, skip_special_tokens=True))\n",
    "# print(f\"inference time: {end - start}\")"
   ]
  },
  {
   "cell_type": "code",
   "execution_count": null,
   "id": "e57c06d6-9aa1-467e-a8bc-809884a49555",
   "metadata": {},
   "outputs": [],
   "source": []
  }
 ],
 "metadata": {
  "kernelspec": {
   "display_name": "tap",
   "language": "python",
   "name": "tap"
  },
  "language_info": {
   "codemirror_mode": {
    "name": "ipython",
    "version": 3
   },
   "file_extension": ".py",
   "mimetype": "text/x-python",
   "name": "python",
   "nbconvert_exporter": "python",
   "pygments_lexer": "ipython3",
   "version": "3.10.9"
  }
 },
 "nbformat": 4,
 "nbformat_minor": 5
}
