{
 "cells": [
  {
   "cell_type": "code",
   "execution_count": 1,
   "id": "2a3de92f-6759-41b5-b06b-f832edaec3e4",
   "metadata": {},
   "outputs": [
    {
     "name": "stderr",
     "output_type": "stream",
     "text": [
      "/opt/homebrew/lib/python3.10/site-packages/tqdm/auto.py:22: TqdmWarning: IProgress not found. Please update jupyter and ipywidgets. See https://ipywidgets.readthedocs.io/en/stable/user_install.html\n",
      "  from .autonotebook import tqdm as notebook_tqdm\n"
     ]
    }
   ],
   "source": [
    "import torch\n",
    "import json\n",
    "import time\n",
    "\n",
    "from transformers import AutoTokenizer\n",
    "from transformers.models.bloom.configuration_bloom import BloomConfig\n",
    "from pruning.pruned_bloom import PrunedBloomForCausalLM\n",
    "from node_attribution.utils import count_params"
   ]
  },
  {
   "cell_type": "code",
   "execution_count": 2,
   "id": "5ed63a74-abb2-4968-aa2c-5a82686d476b",
   "metadata": {},
   "outputs": [],
   "source": [
    "weights_path = \"pruned_560m_bloom.pt\"\n",
    "state_dict_shapes_path = \"state_dict_shapes.pkl\"\n",
    "config_path = \"bloom_560m_config.json\"\n",
    "config_json = json.load(open(config_path, \"rb\"))\n",
    "bloom_config = BloomConfig(\n",
    "    vocab_size=250880,\n",
    "    hidden_size=1024,\n",
    "    n_layer=24,\n",
    "    n_head=16,\n",
    "    layer_norm_epsilon=1e-5,\n",
    "    initializer_range=0.02,\n",
    "    use_cache=True,\n",
    "    bos_token_id=1,\n",
    "    eos_token_id=2,\n",
    "    apply_residual_connection_post_layernorm=False,\n",
    "    hidden_dropout=0.0,\n",
    "    attention_dropout=0.0,\n",
    "    pretraining_tp=1,  # TP rank used when training with megatron\n",
    "    slow_but_exact=False,\n",
    ")"
   ]
  },
  {
   "cell_type": "code",
   "execution_count": 3,
   "id": "2d70af46-70b3-4775-b40f-6edccfb70a15",
   "metadata": {},
   "outputs": [],
   "source": [
    "pruned_model = PrunedBloomForCausalLM(bloom_config, state_dict_shapes_path)"
   ]
  },
  {
   "cell_type": "code",
   "execution_count": 4,
   "id": "ed6bfc52-6743-48db-82d4-dc8de97a119a",
   "metadata": {},
   "outputs": [
    {
     "data": {
      "text/plain": [
       "<All keys matched successfully>"
      ]
     },
     "execution_count": 4,
     "metadata": {},
     "output_type": "execute_result"
    }
   ],
   "source": [
    "pruned_model.load_state_dict(torch.load(weights_path))"
   ]
  },
  {
   "cell_type": "code",
   "execution_count": 5,
   "id": "d4526c93-9061-4e02-9c92-9385086e4294",
   "metadata": {},
   "outputs": [
    {
     "data": {
      "text/plain": [
       "(736658518, 479757398)"
      ]
     },
     "execution_count": 5,
     "metadata": {},
     "output_type": "execute_result"
    }
   ],
   "source": [
    "count_params(pruned_model)"
   ]
  },
  {
   "cell_type": "code",
   "execution_count": 6,
   "id": "42d1fb51-4885-4939-a618-0f96f12b3935",
   "metadata": {},
   "outputs": [],
   "source": [
    "tokenizer = AutoTokenizer.from_pretrained(f\"bigscience/bloom-560m\")"
   ]
  },
  {
   "cell_type": "code",
   "execution_count": 21,
   "id": "a0446e0b-5008-4cf0-8e2d-23e6ab6ad16b",
   "metadata": {},
   "outputs": [
    {
     "name": "stderr",
     "output_type": "stream",
     "text": [
      "The attention mask and the pad token id were not set. As a consequence, you may observe unexpected behavior. Please pass your input's `attention_mask` to obtain reliable results.\n",
      "Setting `pad_token_id` to `eos_token_id`:2 for open-end generation.\n"
     ]
    },
    {
     "name": "stdout",
     "output_type": "stream",
     "text": [
      "['Hello參加了參加了參加了參加了參加了參加了參加了參加了參加了參加了參加了參加了參加了參加了參加了參加了參加了參加了參加了參加了']\n",
      "inference time: 1.4760398864746094\n"
     ]
    }
   ],
   "source": [
    "line = \"Hello\"\n",
    "inputs = tokenizer(line, return_tensors=\"pt\")\n",
    "start = time.time()\n",
    "outputs = pruned_model.generate(\n",
    "    input_ids=inputs[\"input_ids\"], \n",
    "    max_new_tokens=20, \n",
    "    do_sample=False, \n",
    "    top_k=50, \n",
    "    top_p=0.95,\n",
    ")\n",
    "end = time.time()\n",
    "print(tokenizer.batch_decode(outputs, skip_special_tokens=True))\n",
    "print(f\"inference time: {end - start}\")"
   ]
  },
  {
   "cell_type": "code",
   "execution_count": 9,
   "id": "f0a587c8-e2d2-4204-8daf-3068a718fa17",
   "metadata": {},
   "outputs": [],
   "source": [
    "from transformers import AutoTokenizer, BloomForCausalLM"
   ]
  },
  {
   "cell_type": "code",
   "execution_count": 10,
   "id": "d4bb5cd7-6d04-4876-ac9f-5dda689bd22e",
   "metadata": {},
   "outputs": [],
   "source": [
    "tokenizer = AutoTokenizer.from_pretrained(\"bigscience/bloomz-560m\")\n",
    "model = BloomForCausalLM.from_pretrained(\"bigscience/bloomz-560m\")"
   ]
  },
  {
   "cell_type": "code",
   "execution_count": 22,
   "id": "78c663a4-c791-45e2-a9d1-53f79aaa3013",
   "metadata": {},
   "outputs": [
    {
     "name": "stdout",
     "output_type": "stream",
     "text": [
      "['Hello can be a good friend']\n",
      "inference time: 0.5328428745269775\n"
     ]
    }
   ],
   "source": [
    "inputs = tokenizer(\"Hello\", return_tensors=\"pt\")\n",
    "start = time.time()\n",
    "outputs = model.generate(input_ids=inputs[\"input_ids\"], max_new_tokens=20, do_sample=False, top_k=50, top_p=0.95)\n",
    "end = time.time()\n",
    "print(tokenizer.batch_decode(outputs, skip_special_tokens=True))\n",
    "print(f\"inference time: {end - start}\")"
   ]
  },
  {
   "cell_type": "code",
   "execution_count": null,
   "id": "dc14d0a4-ba79-4ab6-a854-36bdf22a7abb",
   "metadata": {},
   "outputs": [],
   "source": []
  }
 ],
 "metadata": {
  "kernelspec": {
   "display_name": "tap",
   "language": "python",
   "name": "tap"
  },
  "language_info": {
   "codemirror_mode": {
    "name": "ipython",
    "version": 3
   },
   "file_extension": ".py",
   "mimetype": "text/x-python",
   "name": "python",
   "nbconvert_exporter": "python",
   "pygments_lexer": "ipython3",
   "version": "3.10.9"
  }
 },
 "nbformat": 4,
 "nbformat_minor": 5
}
