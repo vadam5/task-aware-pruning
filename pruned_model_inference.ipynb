{
 "cells": [
  {
   "cell_type": "code",
   "execution_count": 22,
   "id": "75454286-033d-478c-88a3-4878a865429e",
   "metadata": {},
   "outputs": [],
   "source": [
    "#!pip install rouge-score"
   ]
  },
  {
   "cell_type": "code",
   "execution_count": 1,
   "id": "2a3de92f-6759-41b5-b06b-f832edaec3e4",
   "metadata": {},
   "outputs": [
    {
     "name": "stderr",
     "output_type": "stream",
     "text": [
      "/opt/homebrew/lib/python3.10/site-packages/tqdm/auto.py:22: TqdmWarning: IProgress not found. Please update jupyter and ipywidgets. See https://ipywidgets.readthedocs.io/en/stable/user_install.html\n",
      "  from .autonotebook import tqdm as notebook_tqdm\n"
     ]
    }
   ],
   "source": [
    "import torch\n",
    "import json\n",
    "import time\n",
    "import numpy as np\n",
    "\n",
    "from transformers import AutoTokenizer\n",
    "from transformers.models.bloom.configuration_bloom import BloomConfig\n",
    "from pruning.pruned_bloom import PrunedBloomForCausalLM\n",
    "from node_attribution.utils import count_params\n",
    "from rouge_score import rouge_scorer"
   ]
  },
  {
   "cell_type": "code",
   "execution_count": 2,
   "id": "42d1fb51-4885-4939-a618-0f96f12b3935",
   "metadata": {},
   "outputs": [],
   "source": [
    "tokenizer = AutoTokenizer.from_pretrained(f\"bigscience/bloom-560m\")"
   ]
  },
  {
   "cell_type": "code",
   "execution_count": 3,
   "id": "74165a44-7e25-4040-a1a9-6ca5a986be88",
   "metadata": {},
   "outputs": [],
   "source": [
    "def score(model, tokenizer, sentence):\n",
    "    tensor_input = tokenizer.encode(sentence, return_tensors='pt')\n",
    "    repeat_input = tensor_input.repeat(tensor_input.size(-1)-2, 1)\n",
    "    mask = torch.ones(tensor_input.size(-1) - 1).diag(1)[:-2]\n",
    "    masked_input = repeat_input.masked_fill(mask == 1, tokenizer.pad_token_id)\n",
    "    labels = repeat_input.masked_fill( masked_input != tokenizer.pad_token_id, -100)\n",
    "    with torch.inference_mode():\n",
    "        loss = model(masked_input, labels=labels).loss\n",
    "    return np.exp(loss.item())"
   ]
  },
  {
   "cell_type": "code",
   "execution_count": 4,
   "id": "5ed63a74-abb2-4968-aa2c-5a82686d476b",
   "metadata": {},
   "outputs": [],
   "source": [
    "weights_path = \"pruned_560m_bloom.pt\"\n",
    "state_dict_shapes_path = \"state_dict_shapes.pkl\"\n",
    "config_path = \"bloom_560m_config.json\"\n",
    "config_json = json.load(open(config_path, \"rb\"))\n",
    "bloom_config = BloomConfig(\n",
    "    vocab_size=250880,\n",
    "    hidden_size=1024,\n",
    "    n_layer=24,\n",
    "    n_head=16,\n",
    "    layer_norm_epsilon=1e-5,\n",
    "    initializer_range=0.02,\n",
    "    use_cache=True,\n",
    "    bos_token_id=1,\n",
    "    eos_token_id=2,\n",
    "    apply_residual_connection_post_layernorm=False,\n",
    "    hidden_dropout=0.0,\n",
    "    attention_dropout=0.0,\n",
    "    pretraining_tp=1,  # TP rank used when training with megatron\n",
    "    slow_but_exact=False,\n",
    "    attention_softmax_in_fp32=True,\n",
    "    bias_dropout_fusion=True,\n",
    "    masked_softmax_fusion=True,\n",
    "    offset_alibi=100,\n",
    "    pad_token_id=3,\n",
    "    seq_length=2048,\n",
    "    skip_bias_add=True,\n",
    "    skip_bias_add_qkv=False,\n",
    "    unk_token_id=0,\n",
    "    \n",
    ")"
   ]
  },
  {
   "cell_type": "code",
   "execution_count": 14,
   "id": "2d70af46-70b3-4775-b40f-6edccfb70a15",
   "metadata": {},
   "outputs": [],
   "source": [
    "pruned_model = PrunedBloomForCausalLM(bloom_config, state_dict_shapes_path)"
   ]
  },
  {
   "cell_type": "code",
   "execution_count": 15,
   "id": "ed6bfc52-6743-48db-82d4-dc8de97a119a",
   "metadata": {},
   "outputs": [
    {
     "data": {
      "text/plain": [
       "<All keys matched successfully>"
      ]
     },
     "execution_count": 15,
     "metadata": {},
     "output_type": "execute_result"
    }
   ],
   "source": [
    "pruned_model.load_state_dict(torch.load(weights_path))"
   ]
  },
  {
   "cell_type": "code",
   "execution_count": 16,
   "id": "d4526c93-9061-4e02-9c92-9385086e4294",
   "metadata": {},
   "outputs": [
    {
     "name": "stdout",
     "output_type": "stream",
     "text": [
      "0.10005102656548703\n"
     ]
    }
   ],
   "source": [
    "pruned_percent = 1.0 - (count_params(pruned_model)[-1] / 559214592)\n",
    "print(pruned_percent)"
   ]
  },
  {
   "cell_type": "code",
   "execution_count": 17,
   "id": "0db0af9e-3a66-4d72-88eb-f7b638582f46",
   "metadata": {},
   "outputs": [],
   "source": [
    "num_trials = 1"
   ]
  },
  {
   "cell_type": "code",
   "execution_count": 18,
   "id": "35f458a6-cc2e-40ab-b522-239a9379252c",
   "metadata": {},
   "outputs": [
    {
     "name": "stdout",
     "output_type": "stream",
     "text": [
      "631.8655196564496\n"
     ]
    }
   ],
   "source": [
    "print(score(sentence=\"Oh, interesting, I am not familiar with that movie! Can you tell me more about it?\", model=pruned_model, tokenizer=tokenizer)) "
   ]
  },
  {
   "cell_type": "code",
   "execution_count": 19,
   "id": "a0446e0b-5008-4cf0-8e2d-23e6ab6ad16b",
   "metadata": {},
   "outputs": [
    {
     "name": "stdout",
     "output_type": "stream",
     "text": [
      "inference time: 7.487040042877197\n",
      "['Hello, I am a social bot!  e. t a, cal c h e t e r s. the e z, a b l the a y o n m b y t e r s. o c e r e z ( 2009 s the e a l c e a z y ). i m e a、 a、 v i m c al y o r b e y, k i y y r e r v e c k i o, y e c l r a b r e r a ( c']\n"
     ]
    }
   ],
   "source": [
    "line = \"Hello, I am a social bot! \"\n",
    "inputs = tokenizer(line, return_tensors=\"pt\")\n",
    "pruned_times = []\n",
    "\n",
    "for i in range(num_trials):\n",
    "    start = time.time()\n",
    "    outputs = pruned_model.generate(\n",
    "        input_ids=inputs[\"input_ids\"], \n",
    "        max_new_tokens=100, \n",
    "        do_sample=True, \n",
    "        top_k=50, \n",
    "        top_p=0.95,\n",
    "    )\n",
    "    end = time.time()\n",
    "    pruned_times.append(end - start)\n",
    "    print(f\"inference time: {end - start}\")\n",
    "    \n",
    "print(tokenizer.batch_decode(outputs, skip_special_tokens=True))"
   ]
  },
  {
   "cell_type": "code",
   "execution_count": 20,
   "id": "472ae8a8-fe5e-4c9f-ac4c-7c87bdfd911c",
   "metadata": {},
   "outputs": [
    {
     "data": {
      "text/plain": [
       "[7.487040042877197]"
      ]
     },
     "execution_count": 20,
     "metadata": {},
     "output_type": "execute_result"
    }
   ],
   "source": [
    "pruned_times"
   ]
  },
  {
   "cell_type": "code",
   "execution_count": 21,
   "id": "73f2b340-809f-488b-9f6c-e6fca8f0fdd4",
   "metadata": {},
   "outputs": [
    {
     "name": "stdout",
     "output_type": "stream",
     "text": [
      "7.487040042877197\n",
      "0.0\n"
     ]
    }
   ],
   "source": [
    "mean_pruned = np.mean(pruned_times)\n",
    "std_pruned = np.std(pruned_times)\n",
    "print(mean_pruned)\n",
    "print(std_pruned)"
   ]
  },
  {
   "cell_type": "code",
   "execution_count": 22,
   "id": "104a4c81-3a20-4efd-bd97-c79efc2e31ed",
   "metadata": {},
   "outputs": [
    {
     "name": "stdin",
     "output_type": "stream",
     "text": [
      "You: Oh, interesting, I am not familiar with that movie! Can you\n"
     ]
    },
    {
     "name": "stdout",
     "output_type": "stream",
     "text": [
      "['Oh, interesting, I am not familiar with that movie! Can you m de de de re t a!s to de de en a! t a!s!']\n"
     ]
    },
    {
     "ename": "KeyboardInterrupt",
     "evalue": "Interrupted by user",
     "output_type": "error",
     "traceback": [
      "\u001b[0;31m---------------------------------------------------------------------------\u001b[0m",
      "\u001b[0;31mKeyboardInterrupt\u001b[0m                         Traceback (most recent call last)",
      "Cell \u001b[0;32mIn[22], line 2\u001b[0m\n\u001b[1;32m      1\u001b[0m \u001b[38;5;28;01mwhile\u001b[39;00m \u001b[38;5;28;01mTrue\u001b[39;00m:\n\u001b[0;32m----> 2\u001b[0m     line \u001b[38;5;241m=\u001b[39m \u001b[38;5;28;43minput\u001b[39;49m\u001b[43m(\u001b[49m\u001b[38;5;124;43m\"\u001b[39;49m\u001b[38;5;124;43mYou:\u001b[39;49m\u001b[38;5;124;43m\"\u001b[39;49m\u001b[43m)\u001b[49m\n\u001b[1;32m      3\u001b[0m     inputs \u001b[38;5;241m=\u001b[39m tokenizer(line, return_tensors\u001b[38;5;241m=\u001b[39m\u001b[38;5;124m\"\u001b[39m\u001b[38;5;124mpt\u001b[39m\u001b[38;5;124m\"\u001b[39m)\n\u001b[1;32m      4\u001b[0m     outputs \u001b[38;5;241m=\u001b[39m pruned_model\u001b[38;5;241m.\u001b[39mgenerate(\n\u001b[1;32m      5\u001b[0m         input_ids\u001b[38;5;241m=\u001b[39minputs[\u001b[38;5;124m\"\u001b[39m\u001b[38;5;124minput_ids\u001b[39m\u001b[38;5;124m\"\u001b[39m], \n\u001b[1;32m      6\u001b[0m         max_new_tokens\u001b[38;5;241m=\u001b[39m\u001b[38;5;241m20\u001b[39m, \n\u001b[0;32m   (...)\u001b[0m\n\u001b[1;32m      9\u001b[0m         top_p\u001b[38;5;241m=\u001b[39m\u001b[38;5;241m0.95\u001b[39m,\n\u001b[1;32m     10\u001b[0m     )\n",
      "File \u001b[0;32m/opt/homebrew/lib/python3.10/site-packages/ipykernel/kernelbase.py:1182\u001b[0m, in \u001b[0;36mKernel.raw_input\u001b[0;34m(self, prompt)\u001b[0m\n\u001b[1;32m   1180\u001b[0m     msg \u001b[38;5;241m=\u001b[39m \u001b[38;5;124m\"\u001b[39m\u001b[38;5;124mraw_input was called, but this frontend does not support input requests.\u001b[39m\u001b[38;5;124m\"\u001b[39m\n\u001b[1;32m   1181\u001b[0m     \u001b[38;5;28;01mraise\u001b[39;00m StdinNotImplementedError(msg)\n\u001b[0;32m-> 1182\u001b[0m \u001b[38;5;28;01mreturn\u001b[39;00m \u001b[38;5;28;43mself\u001b[39;49m\u001b[38;5;241;43m.\u001b[39;49m\u001b[43m_input_request\u001b[49m\u001b[43m(\u001b[49m\n\u001b[1;32m   1183\u001b[0m \u001b[43m    \u001b[49m\u001b[38;5;28;43mstr\u001b[39;49m\u001b[43m(\u001b[49m\u001b[43mprompt\u001b[49m\u001b[43m)\u001b[49m\u001b[43m,\u001b[49m\n\u001b[1;32m   1184\u001b[0m \u001b[43m    \u001b[49m\u001b[38;5;28;43mself\u001b[39;49m\u001b[38;5;241;43m.\u001b[39;49m\u001b[43m_parent_ident\u001b[49m\u001b[43m[\u001b[49m\u001b[38;5;124;43m\"\u001b[39;49m\u001b[38;5;124;43mshell\u001b[39;49m\u001b[38;5;124;43m\"\u001b[39;49m\u001b[43m]\u001b[49m\u001b[43m,\u001b[49m\n\u001b[1;32m   1185\u001b[0m \u001b[43m    \u001b[49m\u001b[38;5;28;43mself\u001b[39;49m\u001b[38;5;241;43m.\u001b[39;49m\u001b[43mget_parent\u001b[49m\u001b[43m(\u001b[49m\u001b[38;5;124;43m\"\u001b[39;49m\u001b[38;5;124;43mshell\u001b[39;49m\u001b[38;5;124;43m\"\u001b[39;49m\u001b[43m)\u001b[49m\u001b[43m,\u001b[49m\n\u001b[1;32m   1186\u001b[0m \u001b[43m    \u001b[49m\u001b[43mpassword\u001b[49m\u001b[38;5;241;43m=\u001b[39;49m\u001b[38;5;28;43;01mFalse\u001b[39;49;00m\u001b[43m,\u001b[49m\n\u001b[1;32m   1187\u001b[0m \u001b[43m\u001b[49m\u001b[43m)\u001b[49m\n",
      "File \u001b[0;32m/opt/homebrew/lib/python3.10/site-packages/ipykernel/kernelbase.py:1225\u001b[0m, in \u001b[0;36mKernel._input_request\u001b[0;34m(self, prompt, ident, parent, password)\u001b[0m\n\u001b[1;32m   1222\u001b[0m \u001b[38;5;28;01mexcept\u001b[39;00m \u001b[38;5;167;01mKeyboardInterrupt\u001b[39;00m:\n\u001b[1;32m   1223\u001b[0m     \u001b[38;5;66;03m# re-raise KeyboardInterrupt, to truncate traceback\u001b[39;00m\n\u001b[1;32m   1224\u001b[0m     msg \u001b[38;5;241m=\u001b[39m \u001b[38;5;124m\"\u001b[39m\u001b[38;5;124mInterrupted by user\u001b[39m\u001b[38;5;124m\"\u001b[39m\n\u001b[0;32m-> 1225\u001b[0m     \u001b[38;5;28;01mraise\u001b[39;00m \u001b[38;5;167;01mKeyboardInterrupt\u001b[39;00m(msg) \u001b[38;5;28;01mfrom\u001b[39;00m \u001b[38;5;28mNone\u001b[39m\n\u001b[1;32m   1226\u001b[0m \u001b[38;5;28;01mexcept\u001b[39;00m \u001b[38;5;167;01mException\u001b[39;00m:\n\u001b[1;32m   1227\u001b[0m     \u001b[38;5;28mself\u001b[39m\u001b[38;5;241m.\u001b[39mlog\u001b[38;5;241m.\u001b[39mwarning(\u001b[38;5;124m\"\u001b[39m\u001b[38;5;124mInvalid Message:\u001b[39m\u001b[38;5;124m\"\u001b[39m, exc_info\u001b[38;5;241m=\u001b[39m\u001b[38;5;28;01mTrue\u001b[39;00m)\n",
      "\u001b[0;31mKeyboardInterrupt\u001b[0m: Interrupted by user"
     ]
    }
   ],
   "source": [
    "while True:\n",
    "    line = input(\"You:\")\n",
    "    inputs = tokenizer(line, return_tensors=\"pt\")\n",
    "    outputs = pruned_model.generate(\n",
    "        input_ids=inputs[\"input_ids\"], \n",
    "        max_new_tokens=20, \n",
    "        do_sample=True, \n",
    "        top_k=50, \n",
    "        top_p=0.95,\n",
    "    )\n",
    "    print(tokenizer.batch_decode(outputs, skip_special_tokens=True))"
   ]
  },
  {
   "cell_type": "code",
   "execution_count": null,
   "id": "155b46d0-210c-4021-a9f8-02d332687cd0",
   "metadata": {},
   "outputs": [],
   "source": [
    "# full_line = \"Person: My favorite movie is the The Day After Tomorrow\\nSocialBot: Oh, interesting, I am not familiar with that movie! Can you tell me more about it?\"\n",
    "# prompt_line = \"Person: My favorite movie is The Day After Tomorrow\\nSocialBot: \"\n",
    "# completion = full_line.split(prompt_line)[-1]\n",
    "# inputs = tokenizer(prompt_line, return_tensors=\"pt\")\n",
    "\n",
    "# #for i in range(num_trials):\n",
    "# outputs = pruned_model.generate(\n",
    "#     input_ids=inputs[\"input_ids\"], \n",
    "#     max_new_tokens=25, \n",
    "#     do_sample=True, \n",
    "#     top_k=50, \n",
    "#     top_p=0.95,\n",
    "# )\n",
    "# out_seq = tokenizer.batch_decode(outputs, skip_special_tokens=True)\n",
    "# out_seq = out_seq[0].split(\"Person: My favorite movie is The Day After Tomorrow\\nSocialBot: \")[-1]\n",
    "# r_scorer = rouge_scorer.RougeScorer(['rouge1', 'rougeL'], use_stemmer=True)\n",
    "# rouge_scores = r_scorer.score(completion, out_seq)"
   ]
  },
  {
   "cell_type": "code",
   "execution_count": 15,
   "id": "f0a587c8-e2d2-4204-8daf-3068a718fa17",
   "metadata": {},
   "outputs": [],
   "source": [
    "# from transformers import AutoTokenizer, BloomForCausalLM"
   ]
  },
  {
   "cell_type": "code",
   "execution_count": 16,
   "id": "d4bb5cd7-6d04-4876-ac9f-5dda689bd22e",
   "metadata": {},
   "outputs": [],
   "source": [
    "# model = BloomForCausalLM.from_pretrained(\"bigscience/bloom-560m\")"
   ]
  },
  {
   "cell_type": "code",
   "execution_count": 17,
   "id": "78c663a4-c791-45e2-a9d1-53f79aaa3013",
   "metadata": {},
   "outputs": [],
   "source": [
    "# inputs = tokenizer(\"Person: My favorite movie is The Day After Tomorrow\\nSocialBot: \", return_tensors=\"pt\")\n",
    "# start = time.time()\n",
    "# outputs = model.generate(input_ids=inputs[\"input_ids\"], max_new_tokens=25, do_sample=True, top_k=50, top_p=0.95)\n",
    "# end = time.time()\n",
    "# print(tokenizer.batch_decode(outputs, skip_special_tokens=True))\n",
    "# print(f\"inference time: {end - start}\")"
   ]
  },
  {
   "cell_type": "code",
   "execution_count": null,
   "id": "e57c06d6-9aa1-467e-a8bc-809884a49555",
   "metadata": {},
   "outputs": [],
   "source": []
  }
 ],
 "metadata": {
  "kernelspec": {
   "display_name": "tap",
   "language": "python",
   "name": "tap"
  },
  "language_info": {
   "codemirror_mode": {
    "name": "ipython",
    "version": 3
   },
   "file_extension": ".py",
   "mimetype": "text/x-python",
   "name": "python",
   "nbconvert_exporter": "python",
   "pygments_lexer": "ipython3",
   "version": "3.10.9"
  }
 },
 "nbformat": 4,
 "nbformat_minor": 5
}
