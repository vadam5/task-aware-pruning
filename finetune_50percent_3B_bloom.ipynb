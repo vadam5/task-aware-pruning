{
 "cells": [
  {
   "cell_type": "code",
   "execution_count": 1,
   "id": "0e7a688f-ae54-4190-8cdc-d7323de203f2",
   "metadata": {},
   "outputs": [
    {
     "name": "stderr",
     "output_type": "stream",
     "text": [
      "/opt/homebrew/lib/python3.10/site-packages/tqdm/auto.py:22: TqdmWarning: IProgress not found. Please update jupyter and ipywidgets. See https://ipywidgets.readthedocs.io/en/stable/user_install.html\n",
      "  from .autonotebook import tqdm as notebook_tqdm\n"
     ]
    }
   ],
   "source": [
    "import random\n",
    "import torch\n",
    "import pickle as pkl\n",
    "\n",
    "from transformers import AutoTokenizer\n",
    "from transformers import TrainingArguments, Trainer\n",
    "from transformers import DataCollatorForLanguageModeling\n",
    "\n",
    "from transformers.models.bloom.configuration_bloom import BloomConfig\n",
    "from pruning.pruned_bloom import PrunedBloomForCausalLM"
   ]
  },
  {
   "cell_type": "code",
   "execution_count": 2,
   "id": "f2244ad1-1d4e-4347-b81e-9ab0d95f7251",
   "metadata": {},
   "outputs": [],
   "source": [
    "# Load model and tokenizer\n",
    "tokenizer = AutoTokenizer.from_pretrained(\"bigscience/bloom-560m\")\n",
    "context_length = 2048"
   ]
  },
  {
   "cell_type": "code",
   "execution_count": 3,
   "id": "4b00fe18-86dd-47ec-9b19-152b0a8705f8",
   "metadata": {},
   "outputs": [],
   "source": [
    "# Load model\n",
    "weights_path = \"pruned_50percent_3B_bloom.pt\"\n",
    "state_dict_shapes_path = \"pruned_50percent_3B_bloom_state_dict_shapes.pkl\"\n",
    "\n",
    "bloom_config = BloomConfig(\n",
    "    vocab_size=250880,\n",
    "    hidden_size=2560,\n",
    "    n_layer=30,\n",
    "    n_head=32,\n",
    "    layer_norm_epsilon=1e-5,\n",
    "    initializer_range=0.02,\n",
    "    use_cache=True,\n",
    "    bos_token_id=1,\n",
    "    eos_token_id=2,\n",
    "    apply_residual_connection_post_layernorm=False,\n",
    "    hidden_dropout=0.0,\n",
    "    attention_dropout=0.0,\n",
    "    pretraining_tp=1,  # TP rank used when training with megatron\n",
    "    slow_but_exact=False,\n",
    "    attention_softmax_in_fp32=True,\n",
    "    bias_dropout_fusion=True,\n",
    "    masked_softmax_fusion=True,\n",
    "    offset_alibi=100,\n",
    "    pad_token_id=3,\n",
    "    seq_length=2048,\n",
    "    skip_bias_add=True,\n",
    "    skip_bias_add_qkv=False,\n",
    "    unk_token_id=0,\n",
    "    \n",
    ")"
   ]
  },
  {
   "cell_type": "code",
   "execution_count": 4,
   "id": "67e9595a-954a-4d65-bfb3-276bfe8f1020",
   "metadata": {},
   "outputs": [
    {
     "data": {
      "text/plain": [
       "<All keys matched successfully>"
      ]
     },
     "execution_count": 4,
     "metadata": {},
     "output_type": "execute_result"
    }
   ],
   "source": [
    "pruned_model = PrunedBloomForCausalLM(bloom_config, state_dict_shapes_path)\n",
    "pruned_model.load_state_dict(torch.load(weights_path))"
   ]
  },
  {
   "cell_type": "code",
   "execution_count": 5,
   "id": "f0210519-aef2-4cf9-ac53-ccf8055db421",
   "metadata": {},
   "outputs": [
    {
     "name": "stdout",
     "output_type": "stream",
     "text": [
      "120\n"
     ]
    }
   ],
   "source": [
    "#Load data\n",
    "train_data = pkl.load(open(\"cleaned_3353_pairs.pkl\", \"rb\"))\n",
    "val_data = pkl.load(open(\"conv_dicts/530_human_filtered_conv_pairs.pkl\", \"rb\"))\n",
    "val_data = [line for line in val_data if line not in set(train_data)]\n",
    "\n",
    "print(len(val_data))\n",
    "random.shuffle(train_data)"
   ]
  },
  {
   "cell_type": "code",
   "execution_count": 6,
   "id": "f9933752-56c5-491c-9576-af24c7cb9a65",
   "metadata": {
    "tags": []
   },
   "outputs": [],
   "source": [
    "# tokenize data\n",
    "tokenizer.pad_token = tokenizer.eos_token\n",
    "\n",
    "def tokenize(data, tokenizer, context_length):\n",
    "    outputs = tokenizer(\n",
    "        data,\n",
    "        truncation=True,\n",
    "        max_length=context_length,\n",
    "        return_overflowing_tokens=True,\n",
    "        return_length=True,\n",
    "    )\n",
    "    \n",
    "    input_batch = []\n",
    "    for length, input_ids in zip(outputs[\"length\"], outputs[\"input_ids\"]):\n",
    "        if length < context_length:\n",
    "            input_batch.append(input_ids)\n",
    "            \n",
    "    return input_batch"
   ]
  },
  {
   "cell_type": "code",
   "execution_count": 7,
   "id": "a7c627c5-a30b-49fc-abad-e31315bce8a8",
   "metadata": {},
   "outputs": [],
   "source": [
    "class DialogueDataset(torch.utils.data.Dataset):\n",
    "    def __init__(self, data_list, tokenizer, context_length):\n",
    "        self.data_strings = data_list\n",
    "        self.tokenized_data = tokenize(data_list, tokenizer, context_length)\n",
    "        \n",
    "    def __len__(self):\n",
    "        return len(self.data_strings)\n",
    "    \n",
    "    def __getitem__(self, idx):\n",
    "        return self.tokenized_data[idx].copy()"
   ]
  },
  {
   "cell_type": "code",
   "execution_count": 8,
   "id": "dc136740-3243-4612-8633-bde087dd8c1b",
   "metadata": {},
   "outputs": [],
   "source": [
    "train_dataset = DialogueDataset(train_data, tokenizer, context_length)\n",
    "val_dataset = DialogueDataset(val_data, tokenizer, context_length)"
   ]
  },
  {
   "cell_type": "code",
   "execution_count": 9,
   "id": "aa2c5918-51eb-4c8b-b7ea-175295f36b80",
   "metadata": {},
   "outputs": [],
   "source": [
    "data_collator = DataCollatorForLanguageModeling(tokenizer=tokenizer, mlm=False)"
   ]
  },
  {
   "cell_type": "code",
   "execution_count": 10,
   "id": "5545b6ec-cbad-4204-927a-f970a5cccf5e",
   "metadata": {},
   "outputs": [],
   "source": [
    "# Setup trainer args\n",
    "training_args = TrainingArguments(\n",
    "    output_dir=\"./results\",\n",
    "    evaluation_strategy=\"epoch\",\n",
    "    logging_strategy=\"steps\",\n",
    "    learning_rate=2e-5,\n",
    "    weight_decay=0.01,\n",
    "    num_train_epochs=2,\n",
    "    logging_steps=5,\n",
    ")"
   ]
  },
  {
   "cell_type": "code",
   "execution_count": 11,
   "id": "f754e571-7c23-4a88-abdf-98d8d9f4af41",
   "metadata": {},
   "outputs": [],
   "source": [
    "# init trainer\n",
    "trainer = Trainer(\n",
    "    model=pruned_model,\n",
    "    args=training_args,\n",
    "    train_dataset=train_dataset,\n",
    "    eval_dataset=val_dataset,\n",
    "    data_collator=data_collator,\n",
    ")"
   ]
  },
  {
   "cell_type": "code",
   "execution_count": null,
   "id": "c506370d-def3-4f73-9420-5bca7e928708",
   "metadata": {},
   "outputs": [
    {
     "name": "stderr",
     "output_type": "stream",
     "text": [
      "/opt/homebrew/lib/python3.10/site-packages/transformers/optimization.py:306: FutureWarning: This implementation of AdamW is deprecated and will be removed in a future version. Use the PyTorch implementation torch.optim.AdamW instead, or set `no_deprecation_warning=True` to disable this warning\n",
      "  warnings.warn(\n",
      "***** Running training *****\n",
      "  Num examples = 3353\n",
      "  Num Epochs = 2\n",
      "  Instantaneous batch size per device = 8\n",
      "  Total train batch size (w. parallel, distributed & accumulation) = 8\n",
      "  Gradient Accumulation steps = 1\n",
      "  Total optimization steps = 840\n",
      "  Number of trainable parameters = 1500982941\n"
     ]
    },
    {
     "data": {
      "text/html": [
       "\n",
       "    <div>\n",
       "      \n",
       "      <progress value='231' max='840' style='width:300px; height:20px; vertical-align: middle;'></progress>\n",
       "      [231/840 30:10 < 1:20:14, 0.13 it/s, Epoch 0.55/2]\n",
       "    </div>\n",
       "    <table border=\"1\" class=\"dataframe\">\n",
       "  <thead>\n",
       " <tr style=\"text-align: left;\">\n",
       "      <th>Epoch</th>\n",
       "      <th>Training Loss</th>\n",
       "      <th>Validation Loss</th>\n",
       "    </tr>\n",
       "  </thead>\n",
       "  <tbody>\n",
       "  </tbody>\n",
       "</table><p>"
      ],
      "text/plain": [
       "<IPython.core.display.HTML object>"
      ]
     },
     "metadata": {},
     "output_type": "display_data"
    }
   ],
   "source": [
    "trainer.train()"
   ]
  },
  {
   "cell_type": "code",
   "execution_count": null,
   "id": "c0e21227-397a-45b1-8958-52403e4ae6b4",
   "metadata": {},
   "outputs": [],
   "source": [
    "trainer.save_model()"
   ]
  },
  {
   "cell_type": "code",
   "execution_count": null,
   "id": "0a8d9afc-190a-4a38-b787-58b64e790e5f",
   "metadata": {},
   "outputs": [],
   "source": [
    "finetuned_model = trainer.model"
   ]
  },
  {
   "cell_type": "code",
   "execution_count": null,
   "id": "81610174-2070-4c38-8a1b-bfc8fb7b2c60",
   "metadata": {},
   "outputs": [],
   "source": [
    "line = \"user: Do you like watching movies?\\nchatbot:\"\n",
    "inputs = tokenizer(line, return_tensors=\"pt\")\n",
    "pruned_times = []\n",
    "\n",
    "\n",
    "outputs = finetuned_model.generate(\n",
    "    input_ids=inputs[\"input_ids\"], \n",
    "    max_new_tokens=50, \n",
    "    do_sample=True, \n",
    "    top_k=50, \n",
    "    top_p=0.95,\n",
    ")\n",
    "\n",
    "print(tokenizer.batch_decode(outputs, skip_special_tokens=True))"
   ]
  },
  {
   "cell_type": "code",
   "execution_count": null,
   "id": "11b2dbe3-1cc0-468a-84ab-f81ab163f6b7",
   "metadata": {},
   "outputs": [],
   "source": [
    "torch.save(finetuned_model, \"finetuned_20percent_pruned_bloom560m.pt\")"
   ]
  },
  {
   "cell_type": "code",
   "execution_count": null,
   "id": "f1f24181-4ce1-4a5a-902e-87076f9c7c06",
   "metadata": {},
   "outputs": [],
   "source": [
    "line = \"user: Can you tell me about yourself?\\nchatbot:\"\n",
    "inputs = tokenizer(line, return_tensors=\"pt\")\n",
    "pruned_times = []\n",
    "\n",
    "\n",
    "outputs = finetuned_model.generate(\n",
    "    input_ids=inputs[\"input_ids\"], \n",
    "    max_new_tokens=50, \n",
    "    do_sample=True, \n",
    "    top_k=50, \n",
    "    top_p=0.95,\n",
    ")\n",
    "\n",
    "print(tokenizer.batch_decode(outputs, skip_special_tokens=True))"
   ]
  },
  {
   "cell_type": "code",
   "execution_count": null,
   "id": "61118108-0d45-4176-b2ce-675dfe500523",
   "metadata": {},
   "outputs": [],
   "source": [
    "line = \"user: you misunderstood me\\nchatbot:\"\n",
    "inputs = tokenizer(line, return_tensors=\"pt\")\n",
    "pruned_times = []\n",
    "\n",
    "\n",
    "outputs = finetuned_model.generate(\n",
    "    input_ids=inputs[\"input_ids\"], \n",
    "    max_new_tokens=50, \n",
    "    do_sample=True, \n",
    "    top_k=50, \n",
    "    top_p=0.95,\n",
    ")\n",
    "\n",
    "print(tokenizer.batch_decode(outputs, skip_special_tokens=True))"
   ]
  },
  {
   "cell_type": "code",
   "execution_count": null,
   "id": "d5a2a808",
   "metadata": {},
   "outputs": [],
   "source": []
  }
 ],
 "metadata": {
  "kernelspec": {
   "display_name": "tap",
   "language": "python",
   "name": "tap"
  },
  "language_info": {
   "codemirror_mode": {
    "name": "ipython",
    "version": 3
   },
   "file_extension": ".py",
   "mimetype": "text/x-python",
   "name": "python",
   "nbconvert_exporter": "python",
   "pygments_lexer": "ipython3",
   "version": "3.10.9"
  }
 },
 "nbformat": 4,
 "nbformat_minor": 5
}
